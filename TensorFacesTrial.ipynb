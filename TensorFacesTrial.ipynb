{
 "cells": [
  {
   "cell_type": "code",
   "execution_count": 27,
   "metadata": {
    "collapsed": false
   },
   "outputs": [
    {
     "data": {
      "text/plain": [
       "(1,.,.) = \n",
       "   1   2   3\n",
       "   4   5   6\n",
       "   7   8   9\n",
       "\n",
       "(2,.,.) = \n",
       "  10  11  12\n",
       "  13  14  15\n",
       "  16  17  18\n",
       "\n",
       "(3,.,.) = \n",
       "  19  20  21\n",
       "  22  23  24\n",
       "  25  26  27\n",
       "[torch.DoubleTensor of size 3x3x3]\n",
       "\n",
       "(1,.,.) = \n",
       "  28  29  30\n",
       "  31  32  33\n",
       "  34  35  36\n",
       "\n",
       "(2,.,.) = \n",
       "  37  38  39\n",
       "  40  41  42\n",
       "  43  44  45\n",
       "\n",
       "(3,.,.) = \n",
       "  46  47  48\n",
       "  49  50  51\n",
       "  52  53  54\n",
       "[torch.DoubleTensor of size 3x3x3]\n",
       "\n"
      ]
     },
     "execution_count": 27,
     "metadata": {},
     "output_type": "execute_result"
    }
   ],
   "source": [
    "require 'torch'\n",
    "\n",
    "local TTensor = {}\n",
    "\n",
    "function TTensor.hosvd()\n",
    "\n",
    "end\n",
    "\n",
    "-- Khatri-rao product required for Tensor decomposition\n",
    "function TTensor.krp()\n",
    "\n",
    "end\n",
    "\n",
    "-- Kronecker product\n",
    "function TTensor.kroneckerp()\n",
    "\n",
    "end\n",
    "\n",
    "a = torch.Tensor(3,3,3)\n",
    "b = torch.Tensor(3,3,3)\n",
    "i = 0\n",
    "a:apply(function()\n",
    "        i = i+1\n",
    "       return i\n",
    "       end)\n",
    "\n",
    "b:apply(function()\n",
    "        i = i+1\n",
    "       return i\n",
    "       end)\n",
    "print(a)\n",
    "print(b)\n",
    "c = a + b\n"
   ]
  },
  {
   "cell_type": "code",
   "execution_count": 7,
   "metadata": {
    "collapsed": false
   },
   "outputs": [
    {
     "data": {
      "text/plain": [
       "==> downloading dataset\t\n",
       "==> small dataset\t\n",
       "==> loading dataset\t\n",
       "==> reading data into tensor\t\n"
      ]
     },
     "execution_count": 7,
     "metadata": {},
     "output_type": "execute_result"
    },
    {
     "data": {
      "text/plain": [
       "/home/kulinseth/ml/tensors/FaceBase_png\t\n",
       "uri-vp1-il1-ex3.png\t\n"
      ]
     },
     "execution_count": 7,
     "metadata": {},
     "output_type": "execute_result"
    },
    {
     "data": {
      "text/plain": [
       "\n",
       "    840\n",
       " 180224\n",
       "[torch.LongStorage of size 2]\n",
       "\n"
      ]
     },
     "execution_count": 7,
     "metadata": {},
     "output_type": "execute_result"
    },
    {
     "data": {
      "text/plain": [
       "shmuel-vp1-il0-ex2.png\t\n"
      ]
     },
     "execution_count": 7,
     "metadata": {},
     "output_type": "execute_result"
    },
    {
     "data": {
      "text/plain": [
       "\n",
       "    840\n",
       " 180224\n",
       "[torch.LongStorage of size 2]\n",
       "\n",
       "meir-vp0-il0-ex2.png\t\n"
      ]
     },
     "execution_count": 7,
     "metadata": {},
     "output_type": "execute_result"
    },
    {
     "data": {
      "text/plain": [
       "\n",
       "    840\n",
       " 180224\n",
       "[torch.LongStorage of size 2]\n",
       "\n",
       "yakov-vp0-il0-ex2.png\t\n"
      ]
     },
     "execution_count": 7,
     "metadata": {},
     "output_type": "execute_result"
    },
    {
     "data": {
      "text/plain": [
       "\n",
       "    840\n",
       " 180224\n",
       "[torch.LongStorage of size 2]\n",
       "\n"
      ]
     },
     "execution_count": 7,
     "metadata": {},
     "output_type": "execute_result"
    },
    {
     "data": {
      "text/plain": [
       "meir-vp4-il0-ex3.png\t\n"
      ]
     },
     "execution_count": 7,
     "metadata": {},
     "output_type": "execute_result"
    },
    {
     "data": {
      "text/plain": [
       "\n",
       "    840\n",
       " 180224\n",
       "[torch.LongStorage of size 2]\n",
       "\n"
      ]
     },
     "execution_count": 7,
     "metadata": {},
     "output_type": "execute_result"
    },
    {
     "data": {
      "text/plain": [
       "amir1-vp4-il0-ex3.png\t\n"
      ]
     },
     "execution_count": 7,
     "metadata": {},
     "output_type": "execute_result"
    },
    {
     "data": {
      "text/plain": [
       "\n",
       "    840\n",
       " 180224\n",
       "[torch.LongStorage of size 2]\n",
       "\n",
       "avishai-vp3-il2-ex3.png\t\n"
      ]
     },
     "execution_count": 7,
     "metadata": {},
     "output_type": "execute_result"
    },
    {
     "data": {
      "text/plain": [
       "\n",
       "    840\n",
       " 180224\n",
       "[torch.LongStorage of size 2]\n",
       "\n",
       "goel-vp4-il1-ex2.png\t\n"
      ]
     },
     "execution_count": 7,
     "metadata": {},
     "output_type": "execute_result"
    },
    {
     "data": {
      "text/plain": [
       "\n",
       "    840\n",
       " 180224\n",
       "[torch.LongStorage of size 2]\n",
       "\n",
       "uri-vp2-il0-ex2.png\t\n"
      ]
     },
     "execution_count": 7,
     "metadata": {},
     "output_type": "execute_result"
    },
    {
     "data": {
      "text/plain": [
       "\n",
       "    840\n",
       " 180224\n",
       "[torch.LongStorage of size 2]\n",
       "\n",
       "meir1-vp0-il0-ex3.png\t\n"
      ]
     },
     "execution_count": 7,
     "metadata": {},
     "output_type": "execute_result"
    },
    {
     "data": {
      "text/plain": [
       "\n",
       "    840\n",
       " 180224\n",
       "[torch.LongStorage of size 2]\n",
       "\n",
       "avidan-vp1-il2-ex3.png\t\n"
      ]
     },
     "execution_count": 7,
     "metadata": {},
     "output_type": "execute_result"
    },
    {
     "data": {
      "text/plain": [
       "\n",
       "    840\n",
       " 180224\n",
       "[torch.LongStorage of size 2]\n",
       "\n",
       "tuvia-vp0-il1-ex2.png\t\n"
      ]
     },
     "execution_count": 7,
     "metadata": {},
     "output_type": "execute_result"
    },
    {
     "data": {
      "text/plain": [
       "\n",
       "    840\n",
       " 180224\n",
       "[torch.LongStorage of size 2]\n",
       "\n",
       "shmuel-vp3-il1-ex2.png\t\n"
      ]
     },
     "execution_count": 7,
     "metadata": {},
     "output_type": "execute_result"
    },
    {
     "data": {
      "text/plain": [
       "\n",
       "    840\n",
       " 180224\n",
       "[torch.LongStorage of size 2]\n",
       "\n",
       "david-vp1-il0-ex2.png\t\n"
      ]
     },
     "execution_count": 7,
     "metadata": {},
     "output_type": "execute_result"
    },
    {
     "data": {
      "text/plain": [
       "\n",
       "    840\n",
       " 180224\n",
       "[torch.LongStorage of size 2]\n",
       "\n"
      ]
     },
     "execution_count": 7,
     "metadata": {},
     "output_type": "execute_result"
    },
    {
     "data": {
      "text/plain": [
       "avidan-vp2-il2-ex2.png\t\n"
      ]
     },
     "execution_count": 7,
     "metadata": {},
     "output_type": "execute_result"
    },
    {
     "data": {
      "text/plain": [
       "\n",
       "    840\n",
       " 180224\n",
       "[torch.LongStorage of size 2]\n",
       "\n",
       "amir2-vp3-il0-ex3.png\t\n"
      ]
     },
     "execution_count": 7,
     "metadata": {},
     "output_type": "execute_result"
    },
    {
     "data": {
      "text/plain": [
       "\n",
       "    840\n",
       " 180224\n",
       "[torch.LongStorage of size 2]\n",
       "\n",
       "tuvia-vp2-il1-ex2.png\t\n"
      ]
     },
     "execution_count": 7,
     "metadata": {},
     "output_type": "execute_result"
    },
    {
     "data": {
      "text/plain": [
       "\n",
       "    840\n",
       " 180224\n",
       "[torch.LongStorage of size 2]\n",
       "\n"
      ]
     },
     "execution_count": 7,
     "metadata": {},
     "output_type": "execute_result"
    },
    {
     "data": {
      "text/plain": [
       "menashe-vp3-il0-ex3.png\t\n"
      ]
     },
     "execution_count": 7,
     "metadata": {},
     "output_type": "execute_result"
    },
    {
     "data": {
      "text/plain": [
       "\n",
       "    840\n",
       " 180224\n",
       "[torch.LongStorage of size 2]\n",
       "\n",
       "bruno-vp3-il2-ex3.png\t\n"
      ]
     },
     "execution_count": 7,
     "metadata": {},
     "output_type": "execute_result"
    },
    {
     "data": {
      "text/plain": [
       "\n",
       "    840\n",
       " 180224\n",
       "[torch.LongStorage of size 2]\n",
       "\n"
      ]
     },
     "execution_count": 7,
     "metadata": {},
     "output_type": "execute_result"
    },
    {
     "data": {
      "text/plain": [
       "amir1-vp3-il1-ex2.png\t\n"
      ]
     },
     "execution_count": 7,
     "metadata": {},
     "output_type": "execute_result"
    },
    {
     "data": {
      "text/plain": [
       "\n",
       "    840\n",
       " 180224\n",
       "[torch.LongStorage of size 2]\n",
       "\n"
      ]
     },
     "execution_count": 7,
     "metadata": {},
     "output_type": "execute_result"
    },
    {
     "data": {
      "text/plain": [
       "amir2-vp3-il2-ex3.png\t\n"
      ]
     },
     "execution_count": 7,
     "metadata": {},
     "output_type": "execute_result"
    },
    {
     "data": {
      "text/plain": [
       "\n",
       "    840\n",
       " 180224\n",
       "[torch.LongStorage of size 2]\n",
       "\n",
       "bruno-vp0-il1-ex3.png\t\n"
      ]
     },
     "execution_count": 7,
     "metadata": {},
     "output_type": "execute_result"
    },
    {
     "data": {
      "text/plain": [
       "\n",
       "    840\n",
       " 180224\n",
       "[torch.LongStorage of size 2]\n",
       "\n",
       "moshe-vp4-il0-ex2.png\t\n"
      ]
     },
     "execution_count": 7,
     "metadata": {},
     "output_type": "execute_result"
    },
    {
     "data": {
      "text/plain": [
       "\n",
       "    840\n",
       " 180224\n",
       "[torch.LongStorage of size 2]\n",
       "\n"
      ]
     },
     "execution_count": 7,
     "metadata": {},
     "output_type": "execute_result"
    },
    {
     "data": {
      "text/plain": [
       "amir-vp0-il2-ex3.png\t\n"
      ]
     },
     "execution_count": 7,
     "metadata": {},
     "output_type": "execute_result"
    },
    {
     "data": {
      "text/plain": [
       "\n",
       "    840\n",
       " 180224\n",
       "[torch.LongStorage of size 2]\n",
       "\n",
       "moshe-vp3-il0-ex3.png\t\n"
      ]
     },
     "execution_count": 7,
     "metadata": {},
     "output_type": "execute_result"
    },
    {
     "data": {
      "text/plain": [
       "\n",
       "    840\n",
       " 180224\n",
       "[torch.LongStorage of size 2]\n",
       "\n"
      ]
     },
     "execution_count": 7,
     "metadata": {},
     "output_type": "execute_result"
    },
    {
     "data": {
      "text/plain": [
       "bruno-vp0-il1-ex2.png\t\n"
      ]
     },
     "execution_count": 7,
     "metadata": {},
     "output_type": "execute_result"
    },
    {
     "data": {
      "text/plain": [
       "\n",
       "    840\n",
       " 180224\n",
       "[torch.LongStorage of size 2]\n",
       "\n",
       "eyal-vp1-il0-ex3.png\t\n"
      ]
     },
     "execution_count": 7,
     "metadata": {},
     "output_type": "execute_result"
    },
    {
     "data": {
      "text/plain": [
       "\n",
       "    840\n",
       " 180224\n",
       "[torch.LongStorage of size 2]\n",
       "\n",
       "huan1-vp0-il0-ex3.png\t\n"
      ]
     },
     "execution_count": 7,
     "metadata": {},
     "output_type": "execute_result"
    },
    {
     "data": {
      "text/plain": [
       "\n",
       "    840\n",
       " 180224\n",
       "[torch.LongStorage of size 2]\n",
       "\n",
       "amit-vp2-il0-ex2.png\t\n"
      ]
     },
     "execution_count": 7,
     "metadata": {},
     "output_type": "execute_result"
    },
    {
     "data": {
      "text/plain": [
       "\n",
       "    840\n",
       " 180224\n",
       "[torch.LongStorage of size 2]\n",
       "\n"
      ]
     },
     "execution_count": 7,
     "metadata": {},
     "output_type": "execute_result"
    },
    {
     "data": {
      "text/plain": [
       "yakov-vp0-il2-ex3.png\t\n"
      ]
     },
     "execution_count": 7,
     "metadata": {},
     "output_type": "execute_result"
    },
    {
     "data": {
      "text/plain": [
       "\n",
       "    840\n",
       " 180224\n",
       "[torch.LongStorage of size 2]\n",
       "\n"
      ]
     },
     "execution_count": 7,
     "metadata": {},
     "output_type": "execute_result"
    },
    {
     "data": {
      "text/plain": [
       "huan-vp3-il0-ex2.png\t\n"
      ]
     },
     "execution_count": 7,
     "metadata": {},
     "output_type": "execute_result"
    },
    {
     "data": {
      "text/plain": [
       "\n",
       "    840\n",
       " 180224\n",
       "[torch.LongStorage of size 2]\n",
       "\n",
       "goel-vp2-il0-ex3.png\t\n"
      ]
     },
     "execution_count": 7,
     "metadata": {},
     "output_type": "execute_result"
    },
    {
     "data": {
      "text/plain": [
       "\n",
       "    840\n",
       " 180224\n",
       "[torch.LongStorage of size 2]\n",
       "\n",
       "uri-vp4-il0-ex3.png\t\n"
      ]
     },
     "execution_count": 7,
     "metadata": {},
     "output_type": "execute_result"
    },
    {
     "data": {
      "text/plain": [
       "\n",
       "    840\n",
       " 180224\n",
       "[torch.LongStorage of size 2]\n",
       "\n"
      ]
     },
     "execution_count": 7,
     "metadata": {},
     "output_type": "execute_result"
    },
    {
     "data": {
      "text/plain": [
       "huan-vp3-il2-ex2.png\t\n"
      ]
     },
     "execution_count": 7,
     "metadata": {},
     "output_type": "execute_result"
    },
    {
     "data": {
      "text/plain": [
       "\n",
       "    840\n",
       " 180224\n",
       "[torch.LongStorage of size 2]\n",
       "\n",
       "amir2-vp4-il2-ex2.png\t\n"
      ]
     },
     "execution_count": 7,
     "metadata": {},
     "output_type": "execute_result"
    },
    {
     "data": {
      "text/plain": [
       "\n",
       "    840\n",
       " 180224\n",
       "[torch.LongStorage of size 2]\n",
       "\n",
       "meir-vp2-il0-ex3.png\t\n"
      ]
     },
     "execution_count": 7,
     "metadata": {},
     "output_type": "execute_result"
    },
    {
     "data": {
      "text/plain": [
       "\n",
       "    840\n",
       " 180224\n",
       "[torch.LongStorage of size 2]\n",
       "\n",
       "huan1-vp4-il1-ex3.png\t\n"
      ]
     },
     "execution_count": 7,
     "metadata": {},
     "output_type": "execute_result"
    },
    {
     "data": {
      "text/plain": [
       "\n",
       "    840\n",
       " 180224\n",
       "[torch.LongStorage of size 2]\n",
       "\n",
       "dani-vp2-il0-ex2.png\t\n"
      ]
     },
     "execution_count": 7,
     "metadata": {},
     "output_type": "execute_result"
    },
    {
     "data": {
      "text/plain": [
       "\n",
       "    840\n",
       " 180224\n",
       "[torch.LongStorage of size 2]\n",
       "\n",
       "yakov-vp1-il2-ex2.png\t\n"
      ]
     },
     "execution_count": 7,
     "metadata": {},
     "output_type": "execute_result"
    },
    {
     "data": {
      "text/plain": [
       "\n",
       "    840\n",
       " 180224\n",
       "[torch.LongStorage of size 2]\n",
       "\n",
       "shabtai-vp1-il1-ex2.png\t\n"
      ]
     },
     "execution_count": 7,
     "metadata": {},
     "output_type": "execute_result"
    },
    {
     "data": {
      "text/plain": [
       "\n",
       "    840\n",
       " 180224\n",
       "[torch.LongStorage of size 2]\n"
      ]
     },
     "execution_count": 7,
     "metadata": {},
     "output_type": "execute_result"
    },
    {
     "data": {
      "text/plain": [
       "\n",
       "tuvia-vp1-il2-ex2.png\t\n"
      ]
     },
     "execution_count": 7,
     "metadata": {},
     "output_type": "execute_result"
    },
    {
     "data": {
      "text/plain": [
       "\n",
       "    840\n",
       " 180224\n",
       "[torch.LongStorage of size 2]\n",
       "\n",
       "amir-vp4-il2-ex2.png\t\n"
      ]
     },
     "execution_count": 7,
     "metadata": {},
     "output_type": "execute_result"
    },
    {
     "data": {
      "text/plain": [
       "\n",
       "    840\n",
       " 180224\n",
       "[torch.LongStorage of size 2]\n",
       "\n",
       "inon1-vp3-il0-ex3.png\t\n"
      ]
     },
     "execution_count": 7,
     "metadata": {},
     "output_type": "execute_result"
    },
    {
     "data": {
      "text/plain": [
       "\n",
       "    840\n",
       " 180224\n",
       "[torch.LongStorage of size 2]\n",
       "\n"
      ]
     },
     "execution_count": 7,
     "metadata": {},
     "output_type": "execute_result"
    },
    {
     "data": {
      "text/plain": [
       "moshe-vp0-il1-ex2.png\t\n"
      ]
     },
     "execution_count": 7,
     "metadata": {},
     "output_type": "execute_result"
    },
    {
     "data": {
      "text/plain": [
       "\n",
       "    840\n",
       " 180224\n",
       "[torch.LongStorage of size 2]\n",
       "\n",
       "yishay-vp4-il1-ex2.png\t\n"
      ]
     },
     "execution_count": 7,
     "metadata": {},
     "output_type": "execute_result"
    },
    {
     "data": {
      "text/plain": [
       "\n",
       "    840\n",
       " 180224\n",
       "[torch.LongStorage of size 2]\n",
       "\n",
       "menashe-vp3-il2-ex2.png\t\n"
      ]
     },
     "execution_count": 7,
     "metadata": {},
     "output_type": "execute_result"
    },
    {
     "data": {
      "text/plain": [
       "\n",
       "    840\n",
       " 180224\n",
       "[torch.LongStorage of size 2]\n",
       "\n",
       "eli-vp1-il2-ex2.png\t\n"
      ]
     },
     "execution_count": 7,
     "metadata": {},
     "output_type": "execute_result"
    },
    {
     "data": {
      "text/plain": [
       "\n",
       "    840\n",
       " 180224\n",
       "[torch.LongStorage of size 2]\n",
       "\n",
       "menashe-vp0-il0-ex2.png\t\n"
      ]
     },
     "execution_count": 7,
     "metadata": {},
     "output_type": "execute_result"
    },
    {
     "data": {
      "text/plain": [
       "\n",
       "    840\n",
       " 180224\n",
       "[torch.LongStorage of size 2]\n",
       "\n"
      ]
     },
     "execution_count": 7,
     "metadata": {},
     "output_type": "execute_result"
    },
    {
     "data": {
      "text/plain": [
       "uri-vp0-il2-ex2.png\t\n"
      ]
     },
     "execution_count": 7,
     "metadata": {},
     "output_type": "execute_result"
    },
    {
     "data": {
      "text/plain": [
       "\n",
       "    840\n",
       " 180224\n",
       "[torch.LongStorage of size 2]\n",
       "\n"
      ]
     },
     "execution_count": 7,
     "metadata": {},
     "output_type": "execute_result"
    },
    {
     "data": {
      "text/plain": [
       "goel-vp1-il0-ex3.png\t\n"
      ]
     },
     "execution_count": 7,
     "metadata": {},
     "output_type": "execute_result"
    },
    {
     "data": {
      "text/plain": [
       "\n",
       "    840\n",
       " 180224\n",
       "[torch.LongStorage of size 2]\n",
       "\n"
      ]
     },
     "execution_count": 7,
     "metadata": {},
     "output_type": "execute_result"
    },
    {
     "data": {
      "text/plain": [
       "moshe1-vp0-il2-ex2.png\t\n"
      ]
     },
     "execution_count": 7,
     "metadata": {},
     "output_type": "execute_result"
    },
    {
     "data": {
      "text/plain": [
       "\n",
       "    840\n",
       " 180224\n",
       "[torch.LongStorage of size 2]\n",
       "\n",
       "dani-vp2-il2-ex2.png\t\n"
      ]
     },
     "execution_count": 7,
     "metadata": {},
     "output_type": "execute_result"
    },
    {
     "data": {
      "text/plain": [
       "\n",
       "    840\n",
       " 180224\n",
       "[torch.LongStorage of size 2]\n",
       "\n",
       "amit-vp0-il2-ex2.png\t\n"
      ]
     },
     "execution_count": 7,
     "metadata": {},
     "output_type": "execute_result"
    },
    {
     "data": {
      "text/plain": [
       "\n",
       "    840\n",
       " 180224\n",
       "[torch.LongStorage of size 2]\n",
       "\n"
      ]
     },
     "execution_count": 7,
     "metadata": {},
     "output_type": "execute_result"
    },
    {
     "data": {
      "text/plain": [
       "huan-vp1-il2-ex2.png\t\n"
      ]
     },
     "execution_count": 7,
     "metadata": {},
     "output_type": "execute_result"
    },
    {
     "data": {
      "text/plain": [
       "\n",
       "    840\n",
       " 180224\n",
       "[torch.LongStorage of size 2]\n",
       "\n",
       "dani-vp4-il2-ex3.png\t\n"
      ]
     },
     "execution_count": 7,
     "metadata": {},
     "output_type": "execute_result"
    },
    {
     "data": {
      "text/plain": [
       "\n",
       "    840\n",
       " 180224\n",
       "[torch.LongStorage of size 2]\n",
       "\n",
       "yishay-vp1-il0-ex2.png\t\n"
      ]
     },
     "execution_count": 7,
     "metadata": {},
     "output_type": "execute_result"
    },
    {
     "data": {
      "text/plain": [
       "\n",
       "    840\n",
       " 180224\n",
       "[torch.LongStorage of size 2]\n",
       "\n",
       "eli-vp4-il0-ex2.png\t\n"
      ]
     },
     "execution_count": 7,
     "metadata": {},
     "output_type": "execute_result"
    },
    {
     "data": {
      "text/plain": [
       "\n",
       "    840\n",
       " 180224\n",
       "[torch.LongStorage of size 2]\n",
       "\n",
       "meir1-vp0-il2-ex2.png\t\n"
      ]
     },
     "execution_count": 7,
     "metadata": {},
     "output_type": "execute_result"
    },
    {
     "data": {
      "text/plain": [
       "\n",
       "    840\n",
       " 180224\n",
       "[torch.LongStorage of size 2]\n",
       "\n"
      ]
     },
     "execution_count": 7,
     "metadata": {},
     "output_type": "execute_result"
    },
    {
     "data": {
      "text/plain": [
       "eli-vp3-il1-ex3.png\t\n"
      ]
     },
     "execution_count": 7,
     "metadata": {},
     "output_type": "execute_result"
    },
    {
     "data": {
      "text/plain": [
       "\n",
       "    840\n",
       " 180224\n",
       "[torch.LongStorage of size 2]\n",
       "\n",
       "moshe1-vp4-il2-ex3.png\t\n"
      ]
     },
     "execution_count": 7,
     "metadata": {},
     "output_type": "execute_result"
    },
    {
     "data": {
      "text/plain": [
       "\n",
       "    840\n",
       " 180224\n",
       "[torch.LongStorage of size 2]\n",
       "\n",
       "amit-vp0-il1-ex3.png\t\n"
      ]
     },
     "execution_count": 7,
     "metadata": {},
     "output_type": "execute_result"
    },
    {
     "data": {
      "text/plain": [
       "\n",
       "    840\n",
       " 180224\n",
       "[torch.LongStorage of size 2]\n",
       "\n",
       "amir1-vp1-il1-ex2.png\t\n"
      ]
     },
     "execution_count": 7,
     "metadata": {},
     "output_type": "execute_result"
    },
    {
     "data": {
      "text/plain": [
       "\n",
       "    840\n",
       " 180224\n",
       "[torch.LongStorage of size 2]\n",
       "\n"
      ]
     },
     "execution_count": 7,
     "metadata": {},
     "output_type": "execute_result"
    },
    {
     "data": {
      "text/plain": [
       "amir-vp3-il1-ex2.png\t\n"
      ]
     },
     "execution_count": 7,
     "metadata": {},
     "output_type": "execute_result"
    },
    {
     "data": {
      "text/plain": [
       "\n",
       "    840\n",
       " 180224\n",
       "[torch.LongStorage of size 2]\n",
       "\n"
      ]
     },
     "execution_count": 7,
     "metadata": {},
     "output_type": "execute_result"
    },
    {
     "data": {
      "text/plain": [
       "amit-vp3-il1-ex3.png\t\n"
      ]
     },
     "execution_count": 7,
     "metadata": {},
     "output_type": "execute_result"
    },
    {
     "data": {
      "text/plain": [
       "\n",
       "    840\n",
       " 180224\n",
       "[torch.LongStorage of size 2]\n",
       "\n",
       "shmuel-vp1-il2-ex3.png\t\n"
      ]
     },
     "execution_count": 7,
     "metadata": {},
     "output_type": "execute_result"
    },
    {
     "data": {
      "text/plain": [
       "\n",
       "    840\n",
       " 180224\n",
       "[torch.LongStorage of size 2]\n",
       "\n",
       "meir-vp2-il2-ex3.png\t\n"
      ]
     },
     "execution_count": 7,
     "metadata": {},
     "output_type": "execute_result"
    },
    {
     "data": {
      "text/plain": [
       "\n",
       "    840\n",
       " 180224\n",
       "[torch.LongStorage of size 2]\n",
       "\n",
       "amir-vp2-il1-ex3.png\t\n"
      ]
     },
     "execution_count": 7,
     "metadata": {},
     "output_type": "execute_result"
    },
    {
     "data": {
      "text/plain": [
       "\n",
       "    840\n",
       " 180224\n",
       "[torch.LongStorage of size 2]\n",
       "\n",
       "tuvia-vp3-il0-ex2.png\t\n"
      ]
     },
     "execution_count": 7,
     "metadata": {},
     "output_type": "execute_result"
    },
    {
     "data": {
      "text/plain": [
       "\n",
       "    840\n",
       " 180224\n",
       "[torch.LongStorage of size 2]\n",
       "\n"
      ]
     },
     "execution_count": 7,
     "metadata": {},
     "output_type": "execute_result"
    },
    {
     "data": {
      "text/plain": [
       "huan-vp4-il2-ex2.png\t\n"
      ]
     },
     "execution_count": 7,
     "metadata": {},
     "output_type": "execute_result"
    },
    {
     "data": {
      "text/plain": [
       "\n",
       "    840\n",
       " 180224\n",
       "[torch.LongStorage of size 2]\n",
       "\n",
       "shmuel-vp4-il1-ex3.png\t\n"
      ]
     },
     "execution_count": 7,
     "metadata": {},
     "output_type": "execute_result"
    },
    {
     "data": {
      "text/plain": [
       "\n",
       "    840\n",
       " 180224\n",
       "[torch.LongStorage of size 2]\n",
       "\n",
       "bruno-vp1-il1-ex3.png\t\n"
      ]
     },
     "execution_count": 7,
     "metadata": {},
     "output_type": "execute_result"
    },
    {
     "data": {
      "text/plain": [
       "\n",
       "    840\n",
       " 180224\n",
       "[torch.LongStorage of size 2]\n",
       "\n",
       "eyal-vp0-il2-ex3.png\t\n"
      ]
     },
     "execution_count": 7,
     "metadata": {},
     "output_type": "execute_result"
    },
    {
     "data": {
      "text/plain": [
       "\n",
       "    840\n",
       " 180224\n",
       "[torch.LongStorage of size 2]\n",
       "\n",
       "eyal-vp4-il1-ex2.png\t\n"
      ]
     },
     "execution_count": 7,
     "metadata": {},
     "output_type": "execute_result"
    },
    {
     "data": {
      "text/plain": [
       "\n",
       "    840\n",
       " 180224\n",
       "[torch.LongStorage of size 2]\n",
       "\n",
       "huan1-vp4-il2-ex3.png\t\n"
      ]
     },
     "execution_count": 7,
     "metadata": {},
     "output_type": "execute_result"
    },
    {
     "data": {
      "text/plain": [
       "\n",
       "    840\n",
       " 180224\n",
       "[torch.LongStorage of size 2]\n",
       "\n",
       "shmuel-vp3-il0-ex2.png\t\n"
      ]
     },
     "execution_count": 7,
     "metadata": {},
     "output_type": "execute_result"
    },
    {
     "data": {
      "text/plain": [
       "\n",
       "    840\n",
       " 180224\n",
       "[torch.LongStorage of size 2]\n",
       "\n"
      ]
     },
     "execution_count": 7,
     "metadata": {},
     "output_type": "execute_result"
    },
    {
     "data": {
      "text/plain": [
       "moshe1-vp0-il0-ex2.png\t\n"
      ]
     },
     "execution_count": 7,
     "metadata": {},
     "output_type": "execute_result"
    },
    {
     "data": {
      "text/plain": [
       "\n",
       "    840\n",
       " 180224\n",
       "[torch.LongStorage of size 2]\n",
       "\n",
       "avishai-vp0-il1-ex2.png\t\n"
      ]
     },
     "execution_count": 7,
     "metadata": {},
     "output_type": "execute_result"
    },
    {
     "data": {
      "text/plain": [
       "\n",
       "    840\n",
       " 180224\n",
       "[torch.LongStorage of size 2]\n",
       "\n",
       "tuvia-vp4-il1-ex3.png\t\n"
      ]
     },
     "execution_count": 7,
     "metadata": {},
     "output_type": "execute_result"
    },
    {
     "data": {
      "text/plain": [
       "\n",
       "    840\n",
       " 180224\n",
       "[torch.LongStorage of size 2]\n",
       "\n",
       "bruno-vp2-il1-ex2.png\t\n"
      ]
     },
     "execution_count": 7,
     "metadata": {},
     "output_type": "execute_result"
    },
    {
     "data": {
      "text/plain": [
       "\n",
       "    840\n",
       " 180224\n",
       "[torch.LongStorage of size 2]\n",
       "\n",
       "huan-vp0-il1-ex2.png\t\n"
      ]
     },
     "execution_count": 7,
     "metadata": {},
     "output_type": "execute_result"
    },
    {
     "data": {
      "text/plain": [
       "\n",
       "    840\n",
       " 180224\n",
       "[torch.LongStorage of size 2]\n",
       "\n",
       "tuvia-vp4-il2-ex3.png\t\n"
      ]
     },
     "execution_count": 7,
     "metadata": {},
     "output_type": "execute_result"
    },
    {
     "data": {
      "text/plain": [
       "\n",
       "    840\n",
       " 180224\n",
       "[torch.LongStorage of size 2]\n",
       "\n",
       "edelman-vp2-il1-ex3.png\t\n"
      ]
     },
     "execution_count": 7,
     "metadata": {},
     "output_type": "execute_result"
    },
    {
     "data": {
      "text/plain": [
       "\n",
       "    840\n",
       " 180224\n",
       "[torch.LongStorage of size 2]\n",
       "\n",
       "yakov-vp4-il0-ex3.png\t\n"
      ]
     },
     "execution_count": 7,
     "metadata": {},
     "output_type": "execute_result"
    },
    {
     "data": {
      "text/plain": [
       "\n",
       "    840\n",
       " 180224\n",
       "[torch.LongStorage of size 2]\n",
       "\n"
      ]
     },
     "execution_count": 7,
     "metadata": {},
     "output_type": "execute_result"
    },
    {
     "data": {
      "text/plain": [
       "uri-vp2-il2-ex2.png\t\n"
      ]
     },
     "execution_count": 7,
     "metadata": {},
     "output_type": "execute_result"
    },
    {
     "data": {
      "text/plain": [
       "\n",
       "    840\n",
       " 180224\n",
       "[torch.LongStorage of size 2]\n",
       "\n",
       "eli-vp2-il2-ex3.png\t\n"
      ]
     },
     "execution_count": 7,
     "metadata": {},
     "output_type": "execute_result"
    },
    {
     "data": {
      "text/plain": [
       "\n",
       "    840\n",
       " 180224\n",
       "[torch.LongStorage of size 2]\n",
       "\n",
       "huan1-vp3-il2-ex2.png\t\n"
      ]
     },
     "execution_count": 7,
     "metadata": {},
     "output_type": "execute_result"
    },
    {
     "data": {
      "text/plain": [
       "\n",
       "    840\n",
       " 180224\n",
       "[torch.LongStorage of size 2]\n",
       "\n",
       "meir-vp2-il1-ex2.png\t\n"
      ]
     },
     "execution_count": 7,
     "metadata": {},
     "output_type": "execute_result"
    },
    {
     "data": {
      "text/plain": [
       "\n",
       "    840\n",
       " 180224\n",
       "[torch.LongStorage of size 2]\n",
       "\n",
       "inon1-vp4-il0-ex3.png\t\n"
      ]
     },
     "execution_count": 7,
     "metadata": {},
     "output_type": "execute_result"
    },
    {
     "data": {
      "text/plain": [
       "\n",
       "    840\n",
       " 180224\n",
       "[torch.LongStorage of size 2]\n",
       "\n"
      ]
     },
     "execution_count": 7,
     "metadata": {},
     "output_type": "execute_result"
    },
    {
     "data": {
      "text/plain": [
       "goel-vp2-il1-ex3.png\t\n"
      ]
     },
     "execution_count": 7,
     "metadata": {},
     "output_type": "execute_result"
    },
    {
     "data": {
      "text/plain": [
       "\n",
       "    840\n",
       " 180224\n",
       "[torch.LongStorage of size 2]\n",
       "\n"
      ]
     },
     "execution_count": 7,
     "metadata": {},
     "output_type": "execute_result"
    },
    {
     "data": {
      "text/plain": [
       "huan1-vp1-il1-ex2.png\t\n"
      ]
     },
     "execution_count": 7,
     "metadata": {},
     "output_type": "execute_result"
    },
    {
     "data": {
      "text/plain": [
       "\n",
       "    840\n",
       " 180224\n",
       "[torch.LongStorage of size 2]\n",
       "\n",
       "david-vp0-il1-ex2.png\t\n"
      ]
     },
     "execution_count": 7,
     "metadata": {},
     "output_type": "execute_result"
    },
    {
     "data": {
      "text/plain": [
       "\n",
       "    840\n",
       " 180224\n",
       "[torch.LongStorage of size 2]\n",
       "\n"
      ]
     },
     "execution_count": 7,
     "metadata": {},
     "output_type": "execute_result"
    },
    {
     "data": {
      "text/plain": [
       "eyal-vp1-il1-ex2.png\t\n"
      ]
     },
     "execution_count": 7,
     "metadata": {},
     "output_type": "execute_result"
    },
    {
     "data": {
      "text/plain": [
       "\n",
       "    840\n",
       " 180224\n",
       "[torch.LongStorage of size 2]\n",
       "\n",
       "uri-vp1-il2-ex3.png\t\n"
      ]
     },
     "execution_count": 7,
     "metadata": {},
     "output_type": "execute_result"
    },
    {
     "data": {
      "text/plain": [
       "\n",
       "    840\n",
       " 180224\n",
       "[torch.LongStorage of size 2]\n",
       "\n",
       "yishay-vp3-il1-ex3.png\t\n"
      ]
     },
     "execution_count": 7,
     "metadata": {},
     "output_type": "execute_result"
    },
    {
     "data": {
      "text/plain": [
       "\n",
       "    840\n",
       " 180224\n",
       "[torch.LongStorage of size 2]\n",
       "\n"
      ]
     },
     "execution_count": 7,
     "metadata": {},
     "output_type": "execute_result"
    },
    {
     "data": {
      "text/plain": [
       "edelman-vp0-il1-ex3.png\t\n"
      ]
     },
     "execution_count": 7,
     "metadata": {},
     "output_type": "execute_result"
    },
    {
     "data": {
      "text/plain": [
       "\n",
       "    840\n",
       " 180224\n",
       "[torch.LongStorage of size 2]\n",
       "\n",
       "eyal-vp2-il2-ex3.png\t\n"
      ]
     },
     "execution_count": 7,
     "metadata": {},
     "output_type": "execute_result"
    },
    {
     "data": {
      "text/plain": [
       "\n",
       "    840\n",
       " 180224\n",
       "[torch.LongStorage of size 2]\n",
       "\n",
       "meir-vp3-il1-ex2.png\t\n"
      ]
     },
     "execution_count": 7,
     "metadata": {},
     "output_type": "execute_result"
    },
    {
     "data": {
      "text/plain": [
       "\n",
       "    840\n",
       " 180224\n",
       "[torch.LongStorage of size 2]\n",
       "\n"
      ]
     },
     "execution_count": 7,
     "metadata": {},
     "output_type": "execute_result"
    },
    {
     "data": {
      "text/plain": [
       "bruno-vp1-il0-ex2.png\t\n"
      ]
     },
     "execution_count": 7,
     "metadata": {},
     "output_type": "execute_result"
    },
    {
     "data": {
      "text/plain": [
       "\n",
       "    840\n",
       " 180224\n",
       "[torch.LongStorage of size 2]\n",
       "\n",
       "shmuel-vp3-il1-ex3.png\t\n"
      ]
     },
     "execution_count": 7,
     "metadata": {},
     "output_type": "execute_result"
    },
    {
     "data": {
      "text/plain": [
       "\n",
       "    840\n",
       " 180224\n",
       "[torch.LongStorage of size 2]\n",
       "\n",
       "goel-vp2-il1-ex2.png\t\n"
      ]
     },
     "execution_count": 7,
     "metadata": {},
     "output_type": "execute_result"
    },
    {
     "data": {
      "text/plain": [
       "\n",
       "    840\n",
       " 180224\n",
       "[torch.LongStorage of size 2]\n",
       "\n",
       "yishay-vp3-il0-ex2.png\t\n"
      ]
     },
     "execution_count": 7,
     "metadata": {},
     "output_type": "execute_result"
    },
    {
     "data": {
      "text/plain": [
       "\n",
       "    840\n",
       " 180224\n",
       "[torch.LongStorage of size 2]\n",
       "\n",
       "yaron-vp4-il1-ex3.png\t\n"
      ]
     },
     "execution_count": 7,
     "metadata": {},
     "output_type": "execute_result"
    },
    {
     "data": {
      "text/plain": [
       "\n",
       "    840\n",
       " 180224\n",
       "[torch.LongStorage of size 2]\n",
       "\n",
       "huan-vp2-il2-ex3.png\t\n"
      ]
     },
     "execution_count": 7,
     "metadata": {},
     "output_type": "execute_result"
    },
    {
     "data": {
      "text/plain": [
       "\n",
       "    840\n",
       " 180224\n",
       "[torch.LongStorage of size 2]\n",
       "\n",
       "yakov-vp3-il0-ex3.png\t\n"
      ]
     },
     "execution_count": 7,
     "metadata": {},
     "output_type": "execute_result"
    },
    {
     "data": {
      "text/plain": [
       "\n",
       "    840\n",
       " 180224\n",
       "[torch.LongStorage of size 2]\n",
       "\n",
       "amir1-vp0-il1-ex3.png\t\n"
      ]
     },
     "execution_count": 7,
     "metadata": {},
     "output_type": "execute_result"
    },
    {
     "data": {
      "text/plain": [
       "\n",
       "    840\n",
       " 180224\n",
       "[torch.LongStorage of size 2]\n",
       "\n"
      ]
     },
     "execution_count": 7,
     "metadata": {},
     "output_type": "execute_result"
    },
    {
     "data": {
      "text/plain": [
       "inon1-vp2-il0-ex2.png\t\n"
      ]
     },
     "execution_count": 7,
     "metadata": {},
     "output_type": "execute_result"
    },
    {
     "data": {
      "text/plain": [
       "\n",
       "    840\n",
       " 180224\n",
       "[torch.LongStorage of size 2]\n",
       "\n",
       "moshe-vp2-il1-ex2.png\t\n"
      ]
     },
     "execution_count": 7,
     "metadata": {},
     "output_type": "execute_result"
    },
    {
     "data": {
      "text/plain": [
       "\n",
       "    840\n",
       " 180224\n",
       "[torch.LongStorage of size 2]\n",
       "\n"
      ]
     },
     "execution_count": 7,
     "metadata": {},
     "output_type": "execute_result"
    },
    {
     "data": {
      "text/plain": [
       "meir1-vp0-il0-ex2.png\t\n"
      ]
     },
     "execution_count": 7,
     "metadata": {},
     "output_type": "execute_result"
    },
    {
     "data": {
      "text/plain": [
       "\n",
       "    840\n",
       " 180224\n",
       "[torch.LongStorage of size 2]\n",
       "\n"
      ]
     },
     "execution_count": 7,
     "metadata": {},
     "output_type": "execute_result"
    },
    {
     "data": {
      "text/plain": [
       "eyal-vp3-il0-ex3.png\t\n"
      ]
     },
     "execution_count": 7,
     "metadata": {},
     "output_type": "execute_result"
    },
    {
     "data": {
      "text/plain": [
       "\n",
       "    840\n",
       " 180224\n",
       "[torch.LongStorage of size 2]\n",
       "\n",
       "david-vp4-il1-ex3.png\t\n"
      ]
     },
     "execution_count": 7,
     "metadata": {},
     "output_type": "execute_result"
    },
    {
     "data": {
      "text/plain": [
       "\n",
       "    840\n",
       " 180224\n",
       "[torch.LongStorage of size 2]\n",
       "\n",
       "yaron-vp0-il0-ex2.png\t\n"
      ]
     },
     "execution_count": 7,
     "metadata": {},
     "output_type": "execute_result"
    },
    {
     "data": {
      "text/plain": [
       "\n",
       "    840\n",
       " 180224\n",
       "[torch.LongStorage of size 2]\n",
       "\n",
       "edelman-vp4-il2-ex2.png\t\n"
      ]
     },
     "execution_count": 7,
     "metadata": {},
     "output_type": "execute_result"
    },
    {
     "data": {
      "text/plain": [
       "\n",
       "    840\n",
       " 180224\n",
       "[torch.LongStorage of size 2]\n",
       "\n",
       "goel-vp2-il2-ex2.png\t\n"
      ]
     },
     "execution_count": 7,
     "metadata": {},
     "output_type": "execute_result"
    },
    {
     "data": {
      "text/plain": [
       "\n",
       "    840\n",
       " 180224\n",
       "[torch.LongStorage of size 2]\n",
       "\n",
       "tuvia-vp0-il2-ex3.png\t\n"
      ]
     },
     "execution_count": 7,
     "metadata": {},
     "output_type": "execute_result"
    },
    {
     "data": {
      "text/plain": [
       "\n",
       "    840\n",
       " 180224\n",
       "[torch.LongStorage of size 2]\n",
       "\n"
      ]
     },
     "execution_count": 7,
     "metadata": {},
     "output_type": "execute_result"
    },
    {
     "data": {
      "text/plain": [
       "amir2-vp1-il1-ex3.png\t\n"
      ]
     },
     "execution_count": 7,
     "metadata": {},
     "output_type": "execute_result"
    },
    {
     "data": {
      "text/plain": [
       "\n",
       "    840\n",
       " 180224\n",
       "[torch.LongStorage of size 2]\n",
       "\n",
       "amir2-vp0-il1-ex3.png\t\n"
      ]
     },
     "execution_count": 7,
     "metadata": {},
     "output_type": "execute_result"
    },
    {
     "data": {
      "text/plain": [
       "\n",
       "    840\n",
       " 180224\n",
       "[torch.LongStorage of size 2]\n",
       "\n",
       "meir-vp2-il1-ex3.png\t\n"
      ]
     },
     "execution_count": 7,
     "metadata": {},
     "output_type": "execute_result"
    },
    {
     "data": {
      "text/plain": [
       "\n",
       "    840\n",
       " 180224\n",
       "[torch.LongStorage of size 2]\n",
       "\n"
      ]
     },
     "execution_count": 7,
     "metadata": {},
     "output_type": "execute_result"
    },
    {
     "data": {
      "text/plain": [
       "yakov-vp1-il0-ex2.png\t\n"
      ]
     },
     "execution_count": 7,
     "metadata": {},
     "output_type": "execute_result"
    },
    {
     "data": {
      "text/plain": [
       "\n",
       "    840\n",
       " 180224\n",
       "[torch.LongStorage of size 2]\n",
       "\n",
       "shabtai-vp0-il1-ex2.png\t\n"
      ]
     },
     "execution_count": 7,
     "metadata": {},
     "output_type": "execute_result"
    },
    {
     "data": {
      "text/plain": [
       "\n",
       "    840\n",
       " 180224\n",
       "[torch.LongStorage of size 2]\n",
       "\n",
       "menashe-vp2-il0-ex3.png\t\n"
      ]
     },
     "execution_count": 7,
     "metadata": {},
     "output_type": "execute_result"
    },
    {
     "data": {
      "text/plain": [
       "\n",
       "    840\n",
       " 180224\n",
       "[torch.LongStorage of size 2]\n",
       "\n",
       "yishay-vp0-il2-ex2.png\t\n"
      ]
     },
     "execution_count": 7,
     "metadata": {},
     "output_type": "execute_result"
    },
    {
     "data": {
      "text/plain": [
       "\n",
       "    840\n",
       " 180224\n",
       "[torch.LongStorage of size 2]\n",
       "\n",
       "meir-vp3-il2-ex2.png\t\n"
      ]
     },
     "execution_count": 7,
     "metadata": {},
     "output_type": "execute_result"
    },
    {
     "data": {
      "text/plain": [
       "\n",
       "    840\n",
       " 180224\n",
       "[torch.LongStorage of size 2]\n",
       "\n",
       "bruno-vp3-il1-ex2.png\t\n"
      ]
     },
     "execution_count": 7,
     "metadata": {},
     "output_type": "execute_result"
    },
    {
     "data": {
      "text/plain": [
       "\n",
       "    840\n",
       " 180224\n",
       "[torch.LongStorage of size 2]\n",
       "\n"
      ]
     },
     "execution_count": 7,
     "metadata": {},
     "output_type": "execute_result"
    },
    {
     "data": {
      "text/plain": [
       "shmuel-vp4-il0-ex2.png\t\n"
      ]
     },
     "execution_count": 7,
     "metadata": {},
     "output_type": "execute_result"
    },
    {
     "data": {
      "text/plain": [
       "\n",
       "    840\n",
       " 180224\n",
       "[torch.LongStorage of size 2]\n",
       "\n"
      ]
     },
     "execution_count": 7,
     "metadata": {},
     "output_type": "execute_result"
    },
    {
     "data": {
      "text/plain": [
       "amit-vp2-il1-ex3.png\t\n"
      ]
     },
     "execution_count": 7,
     "metadata": {},
     "output_type": "execute_result"
    },
    {
     "data": {
      "text/plain": [
       "\n",
       "    840\n",
       " 180224\n",
       "[torch.LongStorage of size 2]\n",
       "\n"
      ]
     },
     "execution_count": 7,
     "metadata": {},
     "output_type": "execute_result"
    },
    {
     "data": {
      "text/plain": [
       "avishai-vp2-il1-ex3.png\t\n"
      ]
     },
     "execution_count": 7,
     "metadata": {},
     "output_type": "execute_result"
    },
    {
     "data": {
      "text/plain": [
       "\n",
       "    840\n",
       " 180224\n",
       "[torch.LongStorage of size 2]\n",
       "\n",
       "avidan-vp2-il2-ex3.png\t\n"
      ]
     },
     "execution_count": 7,
     "metadata": {},
     "output_type": "execute_result"
    },
    {
     "data": {
      "text/plain": [
       "\n",
       "    840\n",
       " 180224\n",
       "[torch.LongStorage of size 2]\n",
       "\n",
       "menashe-vp1-il2-ex3.png\t\n"
      ]
     },
     "execution_count": 7,
     "metadata": {},
     "output_type": "execute_result"
    },
    {
     "data": {
      "text/plain": [
       "\n",
       "    840\n",
       " 180224\n",
       "[torch.LongStorage of size 2]\n",
       "\n",
       "eli-vp3-il2-ex3.png\t\n"
      ]
     },
     "execution_count": 7,
     "metadata": {},
     "output_type": "execute_result"
    },
    {
     "data": {
      "text/plain": [
       "\n",
       "    840\n",
       " 180224\n",
       "[torch.LongStorage of size 2]\n",
       "\n",
       "yakov-vp2-il2-ex2.png\t\n"
      ]
     },
     "execution_count": 7,
     "metadata": {},
     "output_type": "execute_result"
    },
    {
     "data": {
      "text/plain": [
       "\n",
       "    840\n",
       " 180224\n",
       "[torch.LongStorage of size 2]\n",
       "\n",
       "tuvia-vp1-il1-ex3.png\t\n"
      ]
     },
     "execution_count": 7,
     "metadata": {},
     "output_type": "execute_result"
    },
    {
     "data": {
      "text/plain": [
       "\n",
       "    840\n",
       " 180224\n",
       "[torch.LongStorage of size 2]\n",
       "\n",
       "shmuel-vp2-il0-ex3.png\t\n"
      ]
     },
     "execution_count": 7,
     "metadata": {},
     "output_type": "execute_result"
    },
    {
     "data": {
      "text/plain": [
       "\n",
       "    840\n",
       " 180224\n",
       "[torch.LongStorage of size 2]\n",
       "\n",
       "huan-vp3-il2-ex3.png\t\n"
      ]
     },
     "execution_count": 7,
     "metadata": {},
     "output_type": "execute_result"
    },
    {
     "data": {
      "text/plain": [
       "\n",
       "    840\n",
       " 180224\n",
       "[torch.LongStorage of size 2]\n",
       "\n",
       "amir-vp4-il1-ex3.png\t\n"
      ]
     },
     "execution_count": 7,
     "metadata": {},
     "output_type": "execute_result"
    },
    {
     "data": {
      "text/plain": [
       "\n",
       "    840\n",
       " 180224\n",
       "[torch.LongStorage of size 2]\n",
       "\n"
      ]
     },
     "execution_count": 7,
     "metadata": {},
     "output_type": "execute_result"
    },
    {
     "data": {
      "text/plain": [
       "avidan-vp0-il2-ex3.png\t\n"
      ]
     },
     "execution_count": 7,
     "metadata": {},
     "output_type": "execute_result"
    },
    {
     "data": {
      "text/plain": [
       "\n",
       "    840\n",
       " 180224\n",
       "[torch.LongStorage of size 2]\n",
       "\n"
      ]
     },
     "execution_count": 7,
     "metadata": {},
     "output_type": "execute_result"
    },
    {
     "data": {
      "text/plain": [
       "inon1-vp4-il1-ex3.png\t\n"
      ]
     },
     "execution_count": 7,
     "metadata": {},
     "output_type": "execute_result"
    },
    {
     "data": {
      "text/plain": [
       "\n",
       "    840\n",
       " 180224\n",
       "[torch.LongStorage of size 2]\n",
       "\n"
      ]
     },
     "execution_count": 7,
     "metadata": {},
     "output_type": "execute_result"
    },
    {
     "data": {
      "text/plain": [
       "amir1-vp0-il0-ex2.png\t\n"
      ]
     },
     "execution_count": 7,
     "metadata": {},
     "output_type": "execute_result"
    },
    {
     "data": {
      "text/plain": [
       "\n",
       "    840\n",
       " 180224\n",
       "[torch.LongStorage of size 2]\n",
       "\n"
      ]
     },
     "execution_count": 7,
     "metadata": {},
     "output_type": "execute_result"
    },
    {
     "data": {
      "text/plain": [
       "avidan-vp4-il2-ex3.png\t\n"
      ]
     },
     "execution_count": 7,
     "metadata": {},
     "output_type": "execute_result"
    },
    {
     "data": {
      "text/plain": [
       "\n",
       "    840\n",
       " 180224\n",
       "[torch.LongStorage of size 2]\n",
       "\n",
       "edelman-vp3-il0-ex2.png\t\n"
      ]
     },
     "execution_count": 7,
     "metadata": {},
     "output_type": "execute_result"
    },
    {
     "data": {
      "text/plain": [
       "\n",
       "    840\n",
       " 180224\n",
       "[torch.LongStorage of size 2]\n",
       "\n",
       "amir2-vp2-il0-ex2.png\t\n"
      ]
     },
     "execution_count": 7,
     "metadata": {},
     "output_type": "execute_result"
    },
    {
     "data": {
      "text/plain": [
       "\n",
       "    840\n",
       " 180224\n",
       "[torch.LongStorage of size 2]\n",
       "\n",
       "huan1-vp3-il1-ex2.png\t\n"
      ]
     },
     "execution_count": 7,
     "metadata": {},
     "output_type": "execute_result"
    },
    {
     "data": {
      "text/plain": [
       "\n",
       "    840\n",
       " 180224\n",
       "[torch.LongStorage of size 2]\n",
       "\n",
       "huan-vp1-il0-ex2.png\t\n"
      ]
     },
     "execution_count": 7,
     "metadata": {},
     "output_type": "execute_result"
    },
    {
     "data": {
      "text/plain": [
       "\n",
       "    840\n",
       " 180224\n",
       "[torch.LongStorage of size 2]\n",
       "\n",
       "tuvia-vp0-il2-ex2.png\t\n"
      ]
     },
     "execution_count": 7,
     "metadata": {},
     "output_type": "execute_result"
    },
    {
     "data": {
      "text/plain": [
       "\n",
       "    840\n",
       " 180224\n",
       "[torch.LongStorage of size 2]\n",
       "\n"
      ]
     },
     "execution_count": 7,
     "metadata": {},
     "output_type": "execute_result"
    },
    {
     "data": {
      "text/plain": [
       "dani-vp1-il1-ex2.png\t\n"
      ]
     },
     "execution_count": 7,
     "metadata": {},
     "output_type": "execute_result"
    },
    {
     "data": {
      "text/plain": [
       "\n",
       "    840\n",
       " 180224\n",
       "[torch.LongStorage of size 2]\n",
       "\n"
      ]
     },
     "execution_count": 7,
     "metadata": {},
     "output_type": "execute_result"
    },
    {
     "data": {
      "text/plain": [
       "amir-vp0-il0-ex3.png\t\n"
      ]
     },
     "execution_count": 7,
     "metadata": {},
     "output_type": "execute_result"
    },
    {
     "data": {
      "text/plain": [
       "\n",
       "    840\n",
       " 180224\n",
       "[torch.LongStorage of size 2]\n",
       "\n",
       "dani-vp3-il1-ex2.png\t\n"
      ]
     },
     "execution_count": 7,
     "metadata": {},
     "output_type": "execute_result"
    },
    {
     "data": {
      "text/plain": [
       "\n",
       "    840\n",
       " 180224\n",
       "[torch.LongStorage of size 2]\n",
       "\n",
       "eyal-vp3-il2-ex2.png\t\n"
      ]
     },
     "execution_count": 7,
     "metadata": {},
     "output_type": "execute_result"
    },
    {
     "data": {
      "text/plain": [
       "\n",
       "    840\n",
       " 180224\n",
       "[torch.LongStorage of size 2]\n",
       "\n",
       "shmuel-vp0-il2-ex2.png\t\n"
      ]
     },
     "execution_count": 7,
     "metadata": {},
     "output_type": "execute_result"
    },
    {
     "data": {
      "text/plain": [
       "\n",
       "    840\n",
       " 180224\n",
       "[torch.LongStorage of size 2]\n",
       "\n",
       "moshe1-vp3-il0-ex2.png\t\n"
      ]
     },
     "execution_count": 7,
     "metadata": {},
     "output_type": "execute_result"
    },
    {
     "data": {
      "text/plain": [
       "\n",
       "    840\n",
       " 180224\n",
       "[torch.LongStorage of size 2]\n",
       "\n",
       "huan1-vp0-il2-ex2.png\t\n"
      ]
     },
     "execution_count": 7,
     "metadata": {},
     "output_type": "execute_result"
    },
    {
     "data": {
      "text/plain": [
       "\n",
       "    840\n",
       " 180224\n",
       "[torch.LongStorage of size 2]\n",
       "\n",
       "amir2-vp4-il0-ex3.png\t\n"
      ]
     },
     "execution_count": 7,
     "metadata": {},
     "output_type": "execute_result"
    },
    {
     "data": {
      "text/plain": [
       "\n",
       "    840\n",
       " 180224\n",
       "[torch.LongStorage of size 2]\n",
       "\n",
       "avidan-vp0-il0-ex2.png\t\n"
      ]
     },
     "execution_count": 7,
     "metadata": {},
     "output_type": "execute_result"
    },
    {
     "data": {
      "text/plain": [
       "\n",
       "    840\n",
       " 180224\n",
       "[torch.LongStorage of size 2]\n",
       "\n"
      ]
     },
     "execution_count": 7,
     "metadata": {},
     "output_type": "execute_result"
    },
    {
     "data": {
      "text/plain": [
       "meir-vp2-il0-ex2.png\t\n"
      ]
     },
     "execution_count": 7,
     "metadata": {},
     "output_type": "execute_result"
    },
    {
     "data": {
      "text/plain": [
       "\n",
       "    840\n",
       " 180224\n",
       "[torch.LongStorage of size 2]\n",
       "\n",
       "avidan-vp0-il0-ex3.png\t\n"
      ]
     },
     "execution_count": 7,
     "metadata": {},
     "output_type": "execute_result"
    },
    {
     "data": {
      "text/plain": [
       "\n",
       "    840\n",
       " 180224\n",
       "[torch.LongStorage of size 2]\n",
       "\n",
       "goel-vp0-il0-ex3.png\t\n"
      ]
     },
     "execution_count": 7,
     "metadata": {},
     "output_type": "execute_result"
    },
    {
     "data": {
      "text/plain": [
       "\n",
       "    840\n",
       " 180224\n",
       "[torch.LongStorage of size 2]\n",
       "\n"
      ]
     },
     "execution_count": 7,
     "metadata": {},
     "output_type": "execute_result"
    },
    {
     "data": {
      "text/plain": [
       "tuvia-vp3-il1-ex2.png\t\n"
      ]
     },
     "execution_count": 7,
     "metadata": {},
     "output_type": "execute_result"
    },
    {
     "data": {
      "text/plain": [
       "\n",
       "    840\n",
       " 180224\n",
       "[torch.LongStorage of size 2]\n",
       "\n",
       "uri-vp4-il2-ex2.png\t\n"
      ]
     },
     "execution_count": 7,
     "metadata": {},
     "output_type": "execute_result"
    },
    {
     "data": {
      "text/plain": [
       "\n",
       "    840\n",
       " 180224\n",
       "[torch.LongStorage of size 2]\n",
       "\n"
      ]
     },
     "execution_count": 7,
     "metadata": {},
     "output_type": "execute_result"
    },
    {
     "data": {
      "text/plain": [
       "yishay-vp0-il0-ex2.png\t\n"
      ]
     },
     "execution_count": 7,
     "metadata": {},
     "output_type": "execute_result"
    },
    {
     "data": {
      "text/plain": [
       "\n",
       "    840\n",
       " 180224\n",
       "[torch.LongStorage of size 2]\n",
       "\n"
      ]
     },
     "execution_count": 7,
     "metadata": {},
     "output_type": "execute_result"
    },
    {
     "data": {
      "text/plain": [
       "moshe-vp4-il0-ex3.png\t\n"
      ]
     },
     "execution_count": 7,
     "metadata": {},
     "output_type": "execute_result"
    },
    {
     "data": {
      "text/plain": [
       "\n",
       "    840\n",
       " 180224\n",
       "[torch.LongStorage of size 2]\n",
       "\n",
       "meir-vp0-il2-ex2.png\t\n"
      ]
     },
     "execution_count": 7,
     "metadata": {},
     "output_type": "execute_result"
    },
    {
     "data": {
      "text/plain": [
       "\n",
       "    840\n",
       " 180224\n",
       "[torch.LongStorage of size 2]\n",
       "\n",
       "huan1-vp1-il0-ex2.png\t\n"
      ]
     },
     "execution_count": 7,
     "metadata": {},
     "output_type": "execute_result"
    },
    {
     "data": {
      "text/plain": [
       "\n",
       "    840\n",
       " 180224\n",
       "[torch.LongStorage of size 2]\n",
       "\n",
       "avishai-vp2-il0-ex2.png\t\n"
      ]
     },
     "execution_count": 7,
     "metadata": {},
     "output_type": "execute_result"
    },
    {
     "data": {
      "text/plain": [
       "\n",
       "    840\n",
       " 180224\n",
       "[torch.LongStorage of size 2]\n",
       "\n"
      ]
     },
     "execution_count": 7,
     "metadata": {},
     "output_type": "execute_result"
    },
    {
     "data": {
      "text/plain": [
       "moshe1-vp3-il0-ex3.png\t\n"
      ]
     },
     "execution_count": 7,
     "metadata": {},
     "output_type": "execute_result"
    },
    {
     "data": {
      "text/plain": [
       "\n",
       "    840\n",
       " 180224\n",
       "[torch.LongStorage of size 2]\n",
       "\n"
      ]
     },
     "execution_count": 7,
     "metadata": {},
     "output_type": "execute_result"
    },
    {
     "data": {
      "text/plain": [
       "yakov-vp2-il0-ex2.png\t\n"
      ]
     },
     "execution_count": 7,
     "metadata": {},
     "output_type": "execute_result"
    },
    {
     "data": {
      "text/plain": [
       "\n",
       "    840\n",
       " 180224\n",
       "[torch.LongStorage of size 2]\n",
       "\n",
       "moshe1-vp2-il0-ex3.png\t"
      ]
     },
     "execution_count": 7,
     "metadata": {},
     "output_type": "execute_result"
    },
    {
     "data": {
      "text/plain": [
       "\n"
      ]
     },
     "execution_count": 7,
     "metadata": {},
     "output_type": "execute_result"
    },
    {
     "data": {
      "text/plain": [
       "\n",
       "    840\n",
       " 180224\n",
       "[torch.LongStorage of size 2]\n",
       "\n",
       "moshe-vp2-il0-ex2.png\t\n"
      ]
     },
     "execution_count": 7,
     "metadata": {},
     "output_type": "execute_result"
    },
    {
     "data": {
      "text/plain": [
       "\n",
       "    840\n",
       " 180224\n",
       "[torch.LongStorage of size 2]\n",
       "\n"
      ]
     },
     "execution_count": 7,
     "metadata": {},
     "output_type": "execute_result"
    },
    {
     "data": {
      "text/plain": [
       "amir-vp2-il0-ex2.png\t\n"
      ]
     },
     "execution_count": 7,
     "metadata": {},
     "output_type": "execute_result"
    },
    {
     "data": {
      "text/plain": [
       "\n",
       "    840\n",
       " 180224\n",
       "[torch.LongStorage of size 2]\n",
       "\n",
       "bruno-vp2-il2-ex3.png\t\n"
      ]
     },
     "execution_count": 7,
     "metadata": {},
     "output_type": "execute_result"
    },
    {
     "data": {
      "text/plain": [
       "\n",
       "    840\n",
       " 180224\n",
       "[torch.LongStorage of size 2]\n",
       "\n",
       "moshe-vp1-il2-ex3.png\t\n"
      ]
     },
     "execution_count": 7,
     "metadata": {},
     "output_type": "execute_result"
    },
    {
     "data": {
      "text/plain": [
       "\n",
       "    840\n",
       " 180224\n",
       "[torch.LongStorage of size 2]\n",
       "\n",
       "eyal-vp0-il0-ex2.png\t\n"
      ]
     },
     "execution_count": 7,
     "metadata": {},
     "output_type": "execute_result"
    },
    {
     "data": {
      "text/plain": [
       "\n",
       "    840\n",
       " 180224\n",
       "[torch.LongStorage of size 2]\n",
       "\n",
       "amir-vp1-il1-ex2.png\t\n"
      ]
     },
     "execution_count": 7,
     "metadata": {},
     "output_type": "execute_result"
    },
    {
     "data": {
      "text/plain": [
       "\n",
       "    840\n",
       " 180224\n",
       "[torch.LongStorage of size 2]\n",
       "\n",
       "eyal-vp4-il2-ex2.png\t\n"
      ]
     },
     "execution_count": 7,
     "metadata": {},
     "output_type": "execute_result"
    },
    {
     "data": {
      "text/plain": [
       "\n",
       "    840\n",
       " 180224\n",
       "[torch.LongStorage of size 2]\n",
       "\n"
      ]
     },
     "execution_count": 7,
     "metadata": {},
     "output_type": "execute_result"
    },
    {
     "data": {
      "text/plain": [
       "shabtai-vp0-il2-ex3.png\t\n"
      ]
     },
     "execution_count": 7,
     "metadata": {},
     "output_type": "execute_result"
    },
    {
     "data": {
      "text/plain": [
       "\n",
       "    840\n",
       " 180224\n",
       "[torch.LongStorage of size 2]\n",
       "\n"
      ]
     },
     "execution_count": 7,
     "metadata": {},
     "output_type": "execute_result"
    },
    {
     "data": {
      "text/plain": [
       "edelman-vp1-il2-ex3.png\t\n"
      ]
     },
     "execution_count": 7,
     "metadata": {},
     "output_type": "execute_result"
    },
    {
     "data": {
      "text/plain": [
       "\n",
       "    840\n",
       " 180224\n",
       "[torch.LongStorage of size 2]\n",
       "\n",
       "inon1-vp1-il1-ex3.png\t\n"
      ]
     },
     "execution_count": 7,
     "metadata": {},
     "output_type": "execute_result"
    },
    {
     "data": {
      "text/plain": [
       "\n",
       "    840\n",
       " 180224\n",
       "[torch.LongStorage of size 2]\n",
       "\n"
      ]
     },
     "execution_count": 7,
     "metadata": {},
     "output_type": "execute_result"
    },
    {
     "data": {
      "text/plain": [
       "dani-vp4-il0-ex2.png\t\n"
      ]
     },
     "execution_count": 7,
     "metadata": {},
     "output_type": "execute_result"
    },
    {
     "data": {
      "text/plain": [
       "\n",
       "    840\n",
       " 180224\n",
       "[torch.LongStorage of size 2]\n",
       "\n"
      ]
     },
     "execution_count": 7,
     "metadata": {},
     "output_type": "execute_result"
    },
    {
     "data": {
      "text/plain": [
       "tuvia-vp3-il2-ex3.png\t\n"
      ]
     },
     "execution_count": 7,
     "metadata": {},
     "output_type": "execute_result"
    },
    {
     "data": {
      "text/plain": [
       "\n",
       "    840\n",
       " 180224\n",
       "[torch.LongStorage of size 2]\n",
       "\n",
       "inon1-vp0-il0-ex2.png\t\n"
      ]
     },
     "execution_count": 7,
     "metadata": {},
     "output_type": "execute_result"
    },
    {
     "data": {
      "text/plain": [
       "\n",
       "    840\n",
       " 180224\n",
       "[torch.LongStorage of size 2]\n",
       "\n",
       "huan-vp4-il1-ex2.png\t\n"
      ]
     },
     "execution_count": 7,
     "metadata": {},
     "output_type": "execute_result"
    },
    {
     "data": {
      "text/plain": [
       "\n",
       "    840\n",
       " 180224\n",
       "[torch.LongStorage of size 2]\n",
       "\n"
      ]
     },
     "execution_count": 7,
     "metadata": {},
     "output_type": "execute_result"
    },
    {
     "data": {
      "text/plain": [
       "menashe-vp0-il1-ex2.png\t\n"
      ]
     },
     "execution_count": 7,
     "metadata": {},
     "output_type": "execute_result"
    },
    {
     "data": {
      "text/plain": [
       "\n",
       "    840\n",
       " 180224\n",
       "[torch.LongStorage of size 2]\n",
       "\n",
       "meir-vp4-il1-ex2.png\t\n"
      ]
     },
     "execution_count": 7,
     "metadata": {},
     "output_type": "execute_result"
    },
    {
     "data": {
      "text/plain": [
       "\n",
       "    840\n",
       " 180224\n",
       "[torch.LongStorage of size 2]\n",
       "\n",
       "uri-vp2-il1-ex3.png\t\n"
      ]
     },
     "execution_count": 7,
     "metadata": {},
     "output_type": "execute_result"
    },
    {
     "data": {
      "text/plain": [
       "\n",
       "    840\n",
       " 180224\n",
       "[torch.LongStorage of size 2]\n",
       "\n"
      ]
     },
     "execution_count": 7,
     "metadata": {},
     "output_type": "execute_result"
    },
    {
     "data": {
      "text/plain": [
       "amir1-vp1-il1-ex3.png\t\n"
      ]
     },
     "execution_count": 7,
     "metadata": {},
     "output_type": "execute_result"
    },
    {
     "data": {
      "text/plain": [
       "\n",
       "    840\n",
       " 180224\n",
       "[torch.LongStorage of size 2]\n",
       "\n"
      ]
     },
     "execution_count": 7,
     "metadata": {},
     "output_type": "execute_result"
    },
    {
     "data": {
      "text/plain": [
       "david-vp3-il1-ex3.png\t\n"
      ]
     },
     "execution_count": 7,
     "metadata": {},
     "output_type": "execute_result"
    },
    {
     "data": {
      "text/plain": [
       "\n",
       "    840\n",
       " 180224\n",
       "[torch.LongStorage of size 2]\n",
       "\n",
       "huan-vp1-il2-ex3.png\t\n"
      ]
     },
     "execution_count": 7,
     "metadata": {},
     "output_type": "execute_result"
    },
    {
     "data": {
      "text/plain": [
       "\n",
       "    840\n",
       " 180224\n",
       "[torch.LongStorage of size 2]\n",
       "\n",
       "inon1-vp4-il2-ex2.png\t\n"
      ]
     },
     "execution_count": 7,
     "metadata": {},
     "output_type": "execute_result"
    },
    {
     "data": {
      "text/plain": [
       "\n",
       "    840\n",
       " 180224\n",
       "[torch.LongStorage of size 2]\n",
       "\n"
      ]
     },
     "execution_count": 7,
     "metadata": {},
     "output_type": "execute_result"
    },
    {
     "data": {
      "text/plain": [
       "amir2-vp1-il1-ex2.png\t\n"
      ]
     },
     "execution_count": 7,
     "metadata": {},
     "output_type": "execute_result"
    },
    {
     "data": {
      "text/plain": [
       "\n",
       "    840\n",
       " 180224\n",
       "[torch.LongStorage of size 2]\n",
       "\n"
      ]
     },
     "execution_count": 7,
     "metadata": {},
     "output_type": "execute_result"
    },
    {
     "data": {
      "text/plain": [
       "moshe1-vp1-il1-ex3.png\t\n"
      ]
     },
     "execution_count": 7,
     "metadata": {},
     "output_type": "execute_result"
    },
    {
     "data": {
      "text/plain": [
       "\n",
       "    840\n",
       " 180224\n",
       "[torch.LongStorage of size 2]\n",
       "\n"
      ]
     },
     "execution_count": 7,
     "metadata": {},
     "output_type": "execute_result"
    },
    {
     "data": {
      "text/plain": [
       "meir1-vp1-il0-ex3.png\t\n"
      ]
     },
     "execution_count": 7,
     "metadata": {},
     "output_type": "execute_result"
    },
    {
     "data": {
      "text/plain": [
       "\n",
       "    840\n",
       " 180224\n",
       "[torch.LongStorage of size 2]\n",
       "\n"
      ]
     },
     "execution_count": 7,
     "metadata": {},
     "output_type": "execute_result"
    },
    {
     "data": {
      "text/plain": [
       "huan1-vp3-il0-ex2.png\t\n"
      ]
     },
     "execution_count": 7,
     "metadata": {},
     "output_type": "execute_result"
    },
    {
     "data": {
      "text/plain": [
       "\n",
       "    840\n",
       " 180224\n",
       "[torch.LongStorage of size 2]\n",
       "\n",
       "dani-vp4-il1-ex3.png\t\n"
      ]
     },
     "execution_count": 7,
     "metadata": {},
     "output_type": "execute_result"
    },
    {
     "data": {
      "text/plain": [
       "\n",
       "    840\n",
       " 180224\n",
       "[torch.LongStorage of size 2]\n",
       "\n"
      ]
     },
     "execution_count": 7,
     "metadata": {},
     "output_type": "execute_result"
    },
    {
     "data": {
      "text/plain": [
       "yaron-vp2-il1-ex2.png\t\n"
      ]
     },
     "execution_count": 7,
     "metadata": {},
     "output_type": "execute_result"
    },
    {
     "data": {
      "text/plain": [
       "\n",
       "    840\n",
       " 180224\n",
       "[torch.LongStorage of size 2]\n",
       "\n"
      ]
     },
     "execution_count": 7,
     "metadata": {},
     "output_type": "execute_result"
    },
    {
     "data": {
      "text/plain": [
       "amir1-vp3-il1-ex3.png\t\n"
      ]
     },
     "execution_count": 7,
     "metadata": {},
     "output_type": "execute_result"
    },
    {
     "data": {
      "text/plain": [
       "\n",
       "    840\n",
       " 180224\n",
       "[torch.LongStorage of size 2]\n",
       "\n"
      ]
     },
     "execution_count": 7,
     "metadata": {},
     "output_type": "execute_result"
    },
    {
     "data": {
      "text/plain": [
       "meir1-vp3-il0-ex3.png\t\n"
      ]
     },
     "execution_count": 7,
     "metadata": {},
     "output_type": "execute_result"
    },
    {
     "data": {
      "text/plain": [
       "\n",
       "    840\n",
       " 180224\n",
       "[torch.LongStorage of size 2]\n",
       "\n",
       "uri-vp2-il0-ex3.png\t\n"
      ]
     },
     "execution_count": 7,
     "metadata": {},
     "output_type": "execute_result"
    },
    {
     "data": {
      "text/plain": [
       "\n",
       "    840\n",
       " 180224\n",
       "[torch.LongStorage of size 2]\n",
       "\n"
      ]
     },
     "execution_count": 7,
     "metadata": {},
     "output_type": "execute_result"
    },
    {
     "data": {
      "text/plain": [
       "eli-vp4-il2-ex2.png\t\n"
      ]
     },
     "execution_count": 7,
     "metadata": {},
     "output_type": "execute_result"
    },
    {
     "data": {
      "text/plain": [
       "\n",
       "    840\n",
       " 180224\n",
       "[torch.LongStorage of size 2]\n",
       "\n",
       "amit-vp1-il0-ex3.png\t\n"
      ]
     },
     "execution_count": 7,
     "metadata": {},
     "output_type": "execute_result"
    },
    {
     "data": {
      "text/plain": [
       "\n",
       "    840\n",
       " 180224\n",
       "[torch.LongStorage of size 2]\n",
       "\n",
       "dani-vp0-il1-ex3.png\t\n"
      ]
     },
     "execution_count": 7,
     "metadata": {},
     "output_type": "execute_result"
    },
    {
     "data": {
      "text/plain": [
       "\n",
       "    840\n",
       " 180224\n",
       "[torch.LongStorage of size 2]\n",
       "\n"
      ]
     },
     "execution_count": 7,
     "metadata": {},
     "output_type": "execute_result"
    },
    {
     "data": {
      "text/plain": [
       "edelman-vp2-il1-ex2.png\t\n"
      ]
     },
     "execution_count": 7,
     "metadata": {},
     "output_type": "execute_result"
    },
    {
     "data": {
      "text/plain": [
       "\n",
       "    840\n",
       " 180224\n",
       "[torch.LongStorage of size 2]\n",
       "\n",
       "goel-vp4-il0-ex2.png\t\n"
      ]
     },
     "execution_count": 7,
     "metadata": {},
     "output_type": "execute_result"
    },
    {
     "data": {
      "text/plain": [
       "\n",
       "    840\n",
       " 180224\n",
       "[torch.LongStorage of size 2]\n",
       "\n"
      ]
     },
     "execution_count": 7,
     "metadata": {},
     "output_type": "execute_result"
    },
    {
     "data": {
      "text/plain": [
       "shabtai-vp1-il0-ex2.png\t\n"
      ]
     },
     "execution_count": 7,
     "metadata": {},
     "output_type": "execute_result"
    },
    {
     "data": {
      "text/plain": [
       "\n",
       "    840\n",
       " 180224\n",
       "[torch.LongStorage of size 2]\n",
       "\n",
       "eyal-vp3-il2-ex3.png\t\n"
      ]
     },
     "execution_count": 7,
     "metadata": {},
     "output_type": "execute_result"
    },
    {
     "data": {
      "text/plain": [
       "\n",
       "    840\n",
       " 180224\n",
       "[torch.LongStorage of size 2]\n",
       "\n",
       "goel-vp1-il0-ex2.png\t\n"
      ]
     },
     "execution_count": 7,
     "metadata": {},
     "output_type": "execute_result"
    },
    {
     "data": {
      "text/plain": [
       "\n",
       "    840\n",
       " 180224\n",
       "[torch.LongStorage of size 2]\n",
       "\n"
      ]
     },
     "execution_count": 7,
     "metadata": {},
     "output_type": "execute_result"
    },
    {
     "data": {
      "text/plain": [
       "huan-vp0-il1-ex3.png\t\n"
      ]
     },
     "execution_count": 7,
     "metadata": {},
     "output_type": "execute_result"
    },
    {
     "data": {
      "text/plain": [
       "\n",
       "    840\n",
       " 180224\n",
       "[torch.LongStorage of size 2]\n",
       "\n",
       "moshe-vp4-il2-ex2.png\t\n"
      ]
     },
     "execution_count": 7,
     "metadata": {},
     "output_type": "execute_result"
    },
    {
     "data": {
      "text/plain": [
       "\n",
       "    840\n",
       " 180224\n",
       "[torch.LongStorage of size 2]\n",
       "\n"
      ]
     },
     "execution_count": 7,
     "metadata": {},
     "output_type": "execute_result"
    },
    {
     "data": {
      "text/plain": [
       "dani-vp3-il0-ex2.png\t\n"
      ]
     },
     "execution_count": 7,
     "metadata": {},
     "output_type": "execute_result"
    },
    {
     "data": {
      "text/plain": [
       "\n",
       "    840\n",
       " 180224\n",
       "[torch.LongStorage of size 2]\n",
       "\n",
       "menashe-vp1-il1-ex3.png\t\n"
      ]
     },
     "execution_count": 7,
     "metadata": {},
     "output_type": "execute_result"
    },
    {
     "data": {
      "text/plain": [
       "\n",
       "    840\n",
       " 180224\n",
       "[torch.LongStorage of size 2]\n",
       "\n",
       "meir1-vp4-il0-ex2.png\t\n"
      ]
     },
     "execution_count": 7,
     "metadata": {},
     "output_type": "execute_result"
    },
    {
     "data": {
      "text/plain": [
       "\n",
       "    840\n",
       " 180224\n",
       "[torch.LongStorage of size 2]\n",
       "\n",
       "bruno-vp0-il2-ex3.png\t\n"
      ]
     },
     "execution_count": 7,
     "metadata": {},
     "output_type": "execute_result"
    },
    {
     "data": {
      "text/plain": [
       "\n",
       "    840\n",
       " 180224\n",
       "[torch.LongStorage of size 2]\n",
       "\n"
      ]
     },
     "execution_count": 7,
     "metadata": {},
     "output_type": "execute_result"
    },
    {
     "data": {
      "text/plain": [
       "shmuel-vp0-il0-ex3.png\t\n"
      ]
     },
     "execution_count": 7,
     "metadata": {},
     "output_type": "execute_result"
    },
    {
     "data": {
      "text/plain": [
       "\n",
       "    840\n",
       " 180224\n",
       "[torch.LongStorage of size 2]\n",
       "\n",
       "eli-vp1-il0-ex2.png\t\n"
      ]
     },
     "execution_count": 7,
     "metadata": {},
     "output_type": "execute_result"
    },
    {
     "data": {
      "text/plain": [
       "\n",
       "    840\n",
       " 180224\n",
       "[torch.LongStorage of size 2]\n",
       "\n"
      ]
     },
     "execution_count": 7,
     "metadata": {},
     "output_type": "execute_result"
    },
    {
     "data": {
      "text/plain": [
       "huan1-vp3-il2-ex3.png\t\n"
      ]
     },
     "execution_count": 7,
     "metadata": {},
     "output_type": "execute_result"
    },
    {
     "data": {
      "text/plain": [
       "\n",
       "    840\n",
       " 180224\n",
       "[torch.LongStorage of size 2]\n",
       "\n"
      ]
     },
     "execution_count": 7,
     "metadata": {},
     "output_type": "execute_result"
    },
    {
     "data": {
      "text/plain": [
       "amit-vp2-il1-ex2.png\t\n"
      ]
     },
     "execution_count": 7,
     "metadata": {},
     "output_type": "execute_result"
    },
    {
     "data": {
      "text/plain": [
       "\n",
       "    840\n",
       " 180224\n",
       "[torch.LongStorage of size 2]\n",
       "\n"
      ]
     },
     "execution_count": 7,
     "metadata": {},
     "output_type": "execute_result"
    },
    {
     "data": {
      "text/plain": [
       "uri-vp3-il1-ex3.png\t\n"
      ]
     },
     "execution_count": 7,
     "metadata": {},
     "output_type": "execute_result"
    },
    {
     "data": {
      "text/plain": [
       "\n",
       "    840\n",
       " 180224\n",
       "[torch.LongStorage of size 2]\n",
       "\n"
      ]
     },
     "execution_count": 7,
     "metadata": {},
     "output_type": "execute_result"
    },
    {
     "data": {
      "text/plain": [
       "edelman-vp4-il1-ex2.png\t\n"
      ]
     },
     "execution_count": 7,
     "metadata": {},
     "output_type": "execute_result"
    },
    {
     "data": {
      "text/plain": [
       "\n",
       "    840\n",
       " 180224\n",
       "[torch.LongStorage of size 2]\n",
       "\n"
      ]
     },
     "execution_count": 7,
     "metadata": {},
     "output_type": "execute_result"
    },
    {
     "data": {
      "text/plain": [
       "yishay-vp2-il1-ex3.png\t\n"
      ]
     },
     "execution_count": 7,
     "metadata": {},
     "output_type": "execute_result"
    },
    {
     "data": {
      "text/plain": [
       "\n",
       "    840\n",
       " 180224\n",
       "[torch.LongStorage of size 2]\n",
       "\n",
       "amir2-vp4-il2-ex3.png\t\n"
      ]
     },
     "execution_count": 7,
     "metadata": {},
     "output_type": "execute_result"
    },
    {
     "data": {
      "text/plain": [
       "\n",
       "    840\n",
       " 180224\n",
       "[torch.LongStorage of size 2]\n",
       "\n",
       "uri-vp3-il2-ex3.png\t\n"
      ]
     },
     "execution_count": 7,
     "metadata": {},
     "output_type": "execute_result"
    },
    {
     "data": {
      "text/plain": [
       "\n",
       "    840\n",
       " 180224\n",
       "[torch.LongStorage of size 2]\n",
       "\n",
       "shabtai-vp2-il1-ex2.png\t\n"
      ]
     },
     "execution_count": 7,
     "metadata": {},
     "output_type": "execute_result"
    },
    {
     "data": {
      "text/plain": [
       "\n",
       "    840\n",
       " 180224\n",
       "[torch.LongStorage of size 2]\n",
       "\n",
       "moshe-vp0-il2-ex2.png\t\n"
      ]
     },
     "execution_count": 7,
     "metadata": {},
     "output_type": "execute_result"
    },
    {
     "data": {
      "text/plain": [
       "\n",
       "    840\n",
       " 180224\n",
       "[torch.LongStorage of size 2]\n",
       "\n"
      ]
     },
     "execution_count": 7,
     "metadata": {},
     "output_type": "execute_result"
    },
    {
     "data": {
      "text/plain": [
       "dani-vp0-il1-ex2.png\t\n"
      ]
     },
     "execution_count": 7,
     "metadata": {},
     "output_type": "execute_result"
    },
    {
     "data": {
      "text/plain": [
       "\n",
       "    840\n",
       " 180224\n",
       "[torch.LongStorage of size 2]\n",
       "\n"
      ]
     },
     "execution_count": 7,
     "metadata": {},
     "output_type": "execute_result"
    },
    {
     "data": {
      "text/plain": [
       "eyal-vp4-il0-ex2.png\t\n"
      ]
     },
     "execution_count": 7,
     "metadata": {},
     "output_type": "execute_result"
    },
    {
     "data": {
      "text/plain": [
       "\n",
       "    840\n",
       " 180224\n",
       "[torch.LongStorage of size 2]\n",
       "\n"
      ]
     },
     "execution_count": 7,
     "metadata": {},
     "output_type": "execute_result"
    },
    {
     "data": {
      "text/plain": [
       "amir1-vp3-il0-ex3.png\t\n"
      ]
     },
     "execution_count": 7,
     "metadata": {},
     "output_type": "execute_result"
    },
    {
     "data": {
      "text/plain": [
       "\n",
       "    840\n",
       " 180224\n",
       "[torch.LongStorage of size 2]\n",
       "\n"
      ]
     },
     "execution_count": 7,
     "metadata": {},
     "output_type": "execute_result"
    },
    {
     "data": {
      "text/plain": [
       "moshe-vp2-il0-ex3.png\t\n"
      ]
     },
     "execution_count": 7,
     "metadata": {},
     "output_type": "execute_result"
    },
    {
     "data": {
      "text/plain": [
       "\n",
       "    840\n",
       " 180224\n",
       "[torch.LongStorage of size 2]\n",
       "\n",
       "shmuel-vp2-il2-ex2.png\t\n"
      ]
     },
     "execution_count": 7,
     "metadata": {},
     "output_type": "execute_result"
    },
    {
     "data": {
      "text/plain": [
       "\n",
       "    840\n",
       " 180224\n",
       "[torch.LongStorage of size 2]\n",
       "\n",
       "yaron-vp4-il2-ex2.png\t\n"
      ]
     },
     "execution_count": 7,
     "metadata": {},
     "output_type": "execute_result"
    },
    {
     "data": {
      "text/plain": [
       "\n",
       "    840\n",
       " 180224\n",
       "[torch.LongStorage of size 2]\n",
       "\n",
       "meir1-vp0-il1-ex3.png\t\n"
      ]
     },
     "execution_count": 7,
     "metadata": {},
     "output_type": "execute_result"
    },
    {
     "data": {
      "text/plain": [
       "\n",
       "    840\n",
       " 180224\n",
       "[torch.LongStorage of size 2]\n",
       "\n",
       "inon1-vp0-il2-ex2.png\t\n"
      ]
     },
     "execution_count": 7,
     "metadata": {},
     "output_type": "execute_result"
    },
    {
     "data": {
      "text/plain": [
       "\n",
       "    840\n",
       " 180224\n",
       "[torch.LongStorage of size 2]\n",
       "\n",
       "amir2-vp1-il2-ex2.png\t\n"
      ]
     },
     "execution_count": 7,
     "metadata": {},
     "output_type": "execute_result"
    },
    {
     "data": {
      "text/plain": [
       "\n",
       "    840\n",
       " 180224\n",
       "[torch.LongStorage of size 2]\n",
       "\n",
       "yakov-vp2-il0-ex3.png\t\n"
      ]
     },
     "execution_count": 7,
     "metadata": {},
     "output_type": "execute_result"
    },
    {
     "data": {
      "text/plain": [
       "\n",
       "    840\n",
       " 180224\n",
       "[torch.LongStorage of size 2]\n",
       "\n"
      ]
     },
     "execution_count": 7,
     "metadata": {},
     "output_type": "execute_result"
    },
    {
     "data": {
      "text/plain": [
       "meir1-vp1-il0-ex2.png\t\n"
      ]
     },
     "execution_count": 7,
     "metadata": {},
     "output_type": "execute_result"
    },
    {
     "data": {
      "text/plain": [
       "\n",
       "    840\n",
       " 180224\n",
       "[torch.LongStorage of size 2]\n",
       "\n"
      ]
     },
     "execution_count": 7,
     "metadata": {},
     "output_type": "execute_result"
    },
    {
     "data": {
      "text/plain": [
       "shabtai-vp3-il2-ex3.png\t\n"
      ]
     },
     "execution_count": 7,
     "metadata": {},
     "output_type": "execute_result"
    },
    {
     "data": {
      "text/plain": [
       "\n",
       "    840\n",
       " 180224\n",
       "[torch.LongStorage of size 2]\n",
       "\n",
       "amir-vp4-il0-ex2.png\t\n"
      ]
     },
     "execution_count": 7,
     "metadata": {},
     "output_type": "execute_result"
    },
    {
     "data": {
      "text/plain": [
       "\n",
       "    840\n",
       " 180224\n",
       "[torch.LongStorage of size 2]\n",
       "\n"
      ]
     },
     "execution_count": 7,
     "metadata": {},
     "output_type": "execute_result"
    },
    {
     "data": {
      "text/plain": [
       "moshe1-vp4-il2-ex2.png\t\n"
      ]
     },
     "execution_count": 7,
     "metadata": {},
     "output_type": "execute_result"
    },
    {
     "data": {
      "text/plain": [
       "\n",
       "    840\n",
       " 180224\n",
       "[torch.LongStorage of size 2]\n",
       "\n"
      ]
     },
     "execution_count": 7,
     "metadata": {},
     "output_type": "execute_result"
    },
    {
     "data": {
      "text/plain": [
       "shmuel-vp4-il0-ex3.png\t\n"
      ]
     },
     "execution_count": 7,
     "metadata": {},
     "output_type": "execute_result"
    },
    {
     "data": {
      "text/plain": [
       "\n",
       "    840\n",
       " 180224\n",
       "[torch.LongStorage of size 2]\n",
       "\n"
      ]
     },
     "execution_count": 7,
     "metadata": {},
     "output_type": "execute_result"
    },
    {
     "data": {
      "text/plain": [
       "amit-vp4-il2-ex3.png\t\n"
      ]
     },
     "execution_count": 7,
     "metadata": {},
     "output_type": "execute_result"
    },
    {
     "data": {
      "text/plain": [
       "\n",
       "    840\n",
       " 180224\n",
       "[torch.LongStorage of size 2]\n",
       "\n",
       "yishay-vp1-il1-ex3.png\t\n"
      ]
     },
     "execution_count": 7,
     "metadata": {},
     "output_type": "execute_result"
    },
    {
     "data": {
      "text/plain": [
       "\n",
       "    840\n",
       " 180224\n",
       "[torch.LongStorage of size 2]\n",
       "\n",
       "meir-vp1-il2-ex3.png\t\n"
      ]
     },
     "execution_count": 7,
     "metadata": {},
     "output_type": "execute_result"
    },
    {
     "data": {
      "text/plain": [
       "\n",
       "    840\n",
       " 180224\n",
       "[torch.LongStorage of size 2]\n",
       "\n",
       "yakov-vp3-il0-ex2.png\t\n"
      ]
     },
     "execution_count": 7,
     "metadata": {},
     "output_type": "execute_result"
    },
    {
     "data": {
      "text/plain": [
       "\n",
       "    840\n",
       " 180224\n",
       "[torch.LongStorage of size 2]\n",
       "\n"
      ]
     },
     "execution_count": 7,
     "metadata": {},
     "output_type": "execute_result"
    },
    {
     "data": {
      "text/plain": [
       "dani-vp2-il1-ex3.png\t\n"
      ]
     },
     "execution_count": 7,
     "metadata": {},
     "output_type": "execute_result"
    },
    {
     "data": {
      "text/plain": [
       "\n",
       "    840\n",
       " 180224\n",
       "[torch.LongStorage of size 2]\n",
       "\n"
      ]
     },
     "execution_count": 7,
     "metadata": {},
     "output_type": "execute_result"
    },
    {
     "data": {
      "text/plain": [
       "meir1-vp1-il2-ex2.png\t\n"
      ]
     },
     "execution_count": 7,
     "metadata": {},
     "output_type": "execute_result"
    },
    {
     "data": {
      "text/plain": [
       "\n",
       "    840\n",
       " 180224\n",
       "[torch.LongStorage of size 2]\n",
       "\n"
      ]
     },
     "execution_count": 7,
     "metadata": {},
     "output_type": "execute_result"
    },
    {
     "data": {
      "text/plain": [
       "yishay-vp3-il2-ex3.png\t\n"
      ]
     },
     "execution_count": 7,
     "metadata": {},
     "output_type": "execute_result"
    },
    {
     "data": {
      "text/plain": [
       "\n",
       "    840\n",
       " 180224\n",
       "[torch.LongStorage of size 2]\n",
       "\n",
       "edelman-vp0-il2-ex3.png\t\n"
      ]
     },
     "execution_count": 7,
     "metadata": {},
     "output_type": "execute_result"
    },
    {
     "data": {
      "text/plain": [
       "\n",
       "    840\n",
       " 180224\n",
       "[torch.LongStorage of size 2]\n",
       "\n",
       "eyal-vp1-il2-ex3.png\t\n"
      ]
     },
     "execution_count": 7,
     "metadata": {},
     "output_type": "execute_result"
    },
    {
     "data": {
      "text/plain": [
       "\n",
       "    840\n",
       " 180224\n",
       "[torch.LongStorage of size 2]\n",
       "\n",
       "eli-vp3-il1-ex2.png\t\n"
      ]
     },
     "execution_count": 7,
     "metadata": {},
     "output_type": "execute_result"
    },
    {
     "data": {
      "text/plain": [
       "\n",
       "    840\n",
       " 180224\n",
       "[torch.LongStorage of size 2]\n",
       "\n",
       "avidan-vp1-il0-ex2.png\t\n"
      ]
     },
     "execution_count": 7,
     "metadata": {},
     "output_type": "execute_result"
    },
    {
     "data": {
      "text/plain": [
       "\n",
       "    840\n",
       " 180224\n",
       "[torch.LongStorage of size 2]\n",
       "\n",
       "moshe-vp1-il0-ex3.png\t\n"
      ]
     },
     "execution_count": 7,
     "metadata": {},
     "output_type": "execute_result"
    },
    {
     "data": {
      "text/plain": [
       "\n",
       "    840\n",
       " 180224\n",
       "[torch.LongStorage of size 2]\n",
       "\n",
       "david-vp1-il1-ex3.png\t\n"
      ]
     },
     "execution_count": 7,
     "metadata": {},
     "output_type": "execute_result"
    },
    {
     "data": {
      "text/plain": [
       "\n",
       "    840\n",
       " 180224\n",
       "[torch.LongStorage of size 2]\n",
       "\n",
       "meir-vp4-il1-ex3.png\t\n"
      ]
     },
     "execution_count": 7,
     "metadata": {},
     "output_type": "execute_result"
    },
    {
     "data": {
      "text/plain": [
       "\n",
       "    840\n",
       " 180224\n",
       "[torch.LongStorage of size 2]\n",
       "\n",
       "inon1-vp1-il1-ex2.png\t\n"
      ]
     },
     "execution_count": 7,
     "metadata": {},
     "output_type": "execute_result"
    },
    {
     "data": {
      "text/plain": [
       "\n",
       "    840\n",
       " 180224\n",
       "[torch.LongStorage of size 2]\n",
       "\n",
       "moshe-vp4-il2-ex3.png\t\n"
      ]
     },
     "execution_count": 7,
     "metadata": {},
     "output_type": "execute_result"
    },
    {
     "data": {
      "text/plain": [
       "\n",
       "    840\n",
       " 180224\n",
       "[torch.LongStorage of size 2]\n",
       "\n"
      ]
     },
     "execution_count": 7,
     "metadata": {},
     "output_type": "execute_result"
    },
    {
     "data": {
      "text/plain": [
       "tuvia-vp1-il1-ex2.png\t\n"
      ]
     },
     "execution_count": 7,
     "metadata": {},
     "output_type": "execute_result"
    },
    {
     "data": {
      "text/plain": [
       "\n",
       "    840\n",
       " 180224\n",
       "[torch.LongStorage of size 2]\n",
       "\n"
      ]
     },
     "execution_count": 7,
     "metadata": {},
     "output_type": "execute_result"
    },
    {
     "data": {
      "text/plain": [
       "amir2-vp3-il2-ex2.png\t\n"
      ]
     },
     "execution_count": 7,
     "metadata": {},
     "output_type": "execute_result"
    },
    {
     "data": {
      "text/plain": [
       "\n",
       "    840\n",
       " 180224\n",
       "[torch.LongStorage of size 2]\n",
       "\n"
      ]
     },
     "execution_count": 7,
     "metadata": {},
     "output_type": "execute_result"
    },
    {
     "data": {
      "text/plain": [
       "huan-vp0-il2-ex3.png\t\n"
      ]
     },
     "execution_count": 7,
     "metadata": {},
     "output_type": "execute_result"
    },
    {
     "data": {
      "text/plain": [
       "\n",
       "    840\n",
       " 180224\n",
       "[torch.LongStorage of size 2]\n",
       "\n"
      ]
     },
     "execution_count": 7,
     "metadata": {},
     "output_type": "execute_result"
    },
    {
     "data": {
      "text/plain": [
       "uri-vp4-il1-ex2.png\t\n"
      ]
     },
     "execution_count": 7,
     "metadata": {},
     "output_type": "execute_result"
    },
    {
     "data": {
      "text/plain": [
       "\n",
       "    840\n",
       " 180224\n",
       "[torch.LongStorage of size 2]\n",
       "\n"
      ]
     },
     "execution_count": 7,
     "metadata": {},
     "output_type": "execute_result"
    },
    {
     "data": {
      "text/plain": [
       "moshe1-vp4-il0-ex3.png\t\n"
      ]
     },
     "execution_count": 7,
     "metadata": {},
     "output_type": "execute_result"
    },
    {
     "data": {
      "text/plain": [
       "\n",
       "    840\n",
       " 180224\n",
       "[torch.LongStorage of size 2]\n",
       "\n",
       "eli-vp2-il1-ex2.png\t\n"
      ]
     },
     "execution_count": 7,
     "metadata": {},
     "output_type": "execute_result"
    },
    {
     "data": {
      "text/plain": [
       "\n",
       "    840\n",
       " 180224\n",
       "[torch.LongStorage of size 2]\n",
       "\n",
       "amir1-vp3-il2-ex3.png\t\n"
      ]
     },
     "execution_count": 7,
     "metadata": {},
     "output_type": "execute_result"
    },
    {
     "data": {
      "text/plain": [
       "\n",
       "    840\n",
       " 180224\n",
       "[torch.LongStorage of size 2]\n",
       "\n",
       "amir1-vp2-il0-ex2.png\t\n"
      ]
     },
     "execution_count": 7,
     "metadata": {},
     "output_type": "execute_result"
    },
    {
     "data": {
      "text/plain": [
       "\n",
       "    840\n",
       " 180224\n",
       "[torch.LongStorage of size 2]\n",
       "\n",
       "edelman-vp1-il1-ex2.png\t\n"
      ]
     },
     "execution_count": 7,
     "metadata": {},
     "output_type": "execute_result"
    },
    {
     "data": {
      "text/plain": [
       "\n",
       "    840\n",
       " 180224\n",
       "[torch.LongStorage of size 2]\n",
       "\n",
       "moshe1-vp0-il2-ex3.png\t\n"
      ]
     },
     "execution_count": 7,
     "metadata": {},
     "output_type": "execute_result"
    },
    {
     "data": {
      "text/plain": [
       "\n",
       "    840\n",
       " 180224\n",
       "[torch.LongStorage of size 2]\n",
       "\n",
       "meir-vp3-il0-ex2.png\t\n"
      ]
     },
     "execution_count": 7,
     "metadata": {},
     "output_type": "execute_result"
    },
    {
     "data": {
      "text/plain": [
       "\n",
       "    840\n",
       " 180224\n",
       "[torch.LongStorage of size 2]\n",
       "\n"
      ]
     },
     "execution_count": 7,
     "metadata": {},
     "output_type": "execute_result"
    },
    {
     "data": {
      "text/plain": [
       "avishai-vp4-il1-ex2.png\t\n"
      ]
     },
     "execution_count": 7,
     "metadata": {},
     "output_type": "execute_result"
    },
    {
     "data": {
      "text/plain": [
       "\n",
       "    840\n",
       " 180224\n",
       "[torch.LongStorage of size 2]\n",
       "\n"
      ]
     },
     "execution_count": 7,
     "metadata": {},
     "output_type": "execute_result"
    },
    {
     "data": {
      "text/plain": [
       "bruno-vp3-il2-ex2.png\t\n"
      ]
     },
     "execution_count": 7,
     "metadata": {},
     "output_type": "execute_result"
    },
    {
     "data": {
      "text/plain": [
       "\n",
       "    840\n",
       " 180224\n",
       "[torch.LongStorage of size 2]\n",
       "\n",
       "yakov-vp4-il1-ex3.png\t\n"
      ]
     },
     "execution_count": 7,
     "metadata": {},
     "output_type": "execute_result"
    },
    {
     "data": {
      "text/plain": [
       "\n",
       "    840\n",
       " 180224\n",
       "[torch.LongStorage of size 2]\n",
       "\n",
       "amit-vp4-il1-ex3.png\t\n"
      ]
     },
     "execution_count": 7,
     "metadata": {},
     "output_type": "execute_result"
    },
    {
     "data": {
      "text/plain": [
       "\n",
       "    840\n",
       " 180224\n",
       "[torch.LongStorage of size 2]\n",
       "\n",
       "eyal-vp1-il2-ex2.png\t\n"
      ]
     },
     "execution_count": 7,
     "metadata": {},
     "output_type": "execute_result"
    },
    {
     "data": {
      "text/plain": [
       "\n",
       "    840\n",
       " 180224\n",
       "[torch.LongStorage of size 2]\n",
       "\n",
       "avishai-vp1-il2-ex2.png\t\n"
      ]
     },
     "execution_count": 7,
     "metadata": {},
     "output_type": "execute_result"
    },
    {
     "data": {
      "text/plain": [
       "\n",
       "    840\n",
       " 180224\n",
       "[torch.LongStorage of size 2]\n",
       "\n",
       "amir1-vp2-il2-ex3.png\t\n"
      ]
     },
     "execution_count": 7,
     "metadata": {},
     "output_type": "execute_result"
    },
    {
     "data": {
      "text/plain": [
       "\n",
       "    840\n",
       " 180224\n",
       "[torch.LongStorage of size 2]\n",
       "\n",
       "menashe-vp3-il1-ex2.png\t\n"
      ]
     },
     "execution_count": 7,
     "metadata": {},
     "output_type": "execute_result"
    },
    {
     "data": {
      "text/plain": [
       "\n",
       "    840\n",
       " 180224\n",
       "[torch.LongStorage of size 2]\n",
       "\n",
       "inon1-vp3-il1-ex3.png\t\n"
      ]
     },
     "execution_count": 7,
     "metadata": {},
     "output_type": "execute_result"
    },
    {
     "data": {
      "text/plain": [
       "\n",
       "    840\n",
       " 180224\n",
       "[torch.LongStorage of size 2]\n",
       "\n"
      ]
     },
     "execution_count": 7,
     "metadata": {},
     "output_type": "execute_result"
    },
    {
     "data": {
      "text/plain": [
       "amir-vp1-il2-ex3.png\t\n"
      ]
     },
     "execution_count": 7,
     "metadata": {},
     "output_type": "execute_result"
    },
    {
     "data": {
      "text/plain": [
       "\n",
       "    840\n",
       " 180224\n",
       "[torch.LongStorage of size 2]\n",
       "\n"
      ]
     },
     "execution_count": 7,
     "metadata": {},
     "output_type": "execute_result"
    },
    {
     "data": {
      "text/plain": [
       "huan-vp1-il1-ex2.png\t\n"
      ]
     },
     "execution_count": 7,
     "metadata": {},
     "output_type": "execute_result"
    },
    {
     "data": {
      "text/plain": [
       "\n",
       "    840\n",
       " 180224\n",
       "[torch.LongStorage of size 2]\n",
       "\n",
       "meir-vp0-il2-ex3.png\t\n"
      ]
     },
     "execution_count": 7,
     "metadata": {},
     "output_type": "execute_result"
    },
    {
     "data": {
      "text/plain": [
       "\n",
       "    840\n",
       " 180224\n",
       "[torch.LongStorage of size 2]\n",
       "\n",
       "goel-vp2-il2-ex3.png\t\n"
      ]
     },
     "execution_count": 7,
     "metadata": {},
     "output_type": "execute_result"
    },
    {
     "data": {
      "text/plain": [
       "\n",
       "    840\n",
       " 180224\n",
       "[torch.LongStorage of size 2]\n",
       "\n",
       "edelman-vp2-il2-ex3.png\t\n"
      ]
     },
     "execution_count": 7,
     "metadata": {},
     "output_type": "execute_result"
    },
    {
     "data": {
      "text/plain": [
       "\n",
       "    840\n",
       " 180224\n",
       "[torch.LongStorage of size 2]\n",
       "\n",
       "eli-vp3-il2-ex2.png\t\n"
      ]
     },
     "execution_count": 7,
     "metadata": {},
     "output_type": "execute_result"
    },
    {
     "data": {
      "text/plain": [
       "\n",
       "    840\n",
       " 180224\n",
       "[torch.LongStorage of size 2]\n",
       "\n",
       "goel-vp4-il1-ex3.png\t\n"
      ]
     },
     "execution_count": 7,
     "metadata": {},
     "output_type": "execute_result"
    },
    {
     "data": {
      "text/plain": [
       "\n",
       "    840\n",
       " 180224\n",
       "[torch.LongStorage of size 2]\n",
       "\n",
       "edelman-vp4-il0-ex2.png\t\n"
      ]
     },
     "execution_count": 7,
     "metadata": {},
     "output_type": "execute_result"
    },
    {
     "data": {
      "text/plain": [
       "\n",
       "    840\n",
       " 180224\n",
       "[torch.LongStorage of size 2]\n",
       "\n",
       "bruno-vp4-il2-ex2.png\t\n"
      ]
     },
     "execution_count": 7,
     "metadata": {},
     "output_type": "execute_result"
    },
    {
     "data": {
      "text/plain": [
       "\n",
       "    840\n",
       " 180224\n",
       "[torch.LongStorage of size 2]\n",
       "\n",
       "meir1-vp3-il2-ex3.png\t\n"
      ]
     },
     "execution_count": 7,
     "metadata": {},
     "output_type": "execute_result"
    },
    {
     "data": {
      "text/plain": [
       "\n",
       "    840\n",
       " 180224\n",
       "[torch.LongStorage of size 2]\n",
       "\n"
      ]
     },
     "execution_count": 7,
     "metadata": {},
     "output_type": "execute_result"
    },
    {
     "data": {
      "text/plain": [
       "shmuel-vp1-il1-ex3.png\t\n"
      ]
     },
     "execution_count": 7,
     "metadata": {},
     "output_type": "execute_result"
    },
    {
     "data": {
      "text/plain": [
       "\n",
       "    840\n",
       " 180224\n",
       "[torch.LongStorage of size 2]\n",
       "\n"
      ]
     },
     "execution_count": 7,
     "metadata": {},
     "output_type": "execute_result"
    },
    {
     "data": {
      "text/plain": [
       "uri-vp1-il2-ex2.png\t\n"
      ]
     },
     "execution_count": 7,
     "metadata": {},
     "output_type": "execute_result"
    },
    {
     "data": {
      "text/plain": [
       "\n",
       "    840\n",
       " 180224\n",
       "[torch.LongStorage of size 2]\n",
       "\n"
      ]
     },
     "execution_count": 7,
     "metadata": {},
     "output_type": "execute_result"
    },
    {
     "data": {
      "text/plain": [
       "bruno-vp1-il1-ex2.png\t\n"
      ]
     },
     "execution_count": 7,
     "metadata": {},
     "output_type": "execute_result"
    },
    {
     "data": {
      "text/plain": [
       "\n",
       "    840\n",
       " 180224\n",
       "[torch.LongStorage of size 2]\n",
       "\n"
      ]
     },
     "execution_count": 7,
     "metadata": {},
     "output_type": "execute_result"
    },
    {
     "data": {
      "text/plain": [
       "yaron-vp3-il2-ex2.png\t\n"
      ]
     },
     "execution_count": 7,
     "metadata": {},
     "output_type": "execute_result"
    },
    {
     "data": {
      "text/plain": [
       "\n",
       "    840\n",
       " 180224\n",
       "[torch.LongStorage of size 2]\n",
       "\n",
       "yaron-vp4-il0-ex2.png\t\n"
      ]
     },
     "execution_count": 7,
     "metadata": {},
     "output_type": "execute_result"
    },
    {
     "data": {
      "text/plain": [
       "\n",
       "    840\n",
       " 180224\n",
       "[torch.LongStorage of size 2]\n",
       "\n",
       "amir1-vp4-il1-ex3.png\t\n"
      ]
     },
     "execution_count": 7,
     "metadata": {},
     "output_type": "execute_result"
    },
    {
     "data": {
      "text/plain": [
       "\n",
       "    840\n",
       " 180224\n",
       "[torch.LongStorage of size 2]\n",
       "\n",
       "meir1-vp4-il2-ex3.png\t\n"
      ]
     },
     "execution_count": 7,
     "metadata": {},
     "output_type": "execute_result"
    },
    {
     "data": {
      "text/plain": [
       "\n",
       "    840\n",
       " 180224\n",
       "[torch.LongStorage of size 2]\n",
       "\n",
       "shmuel-vp3-il2-ex3.png\t\n"
      ]
     },
     "execution_count": 7,
     "metadata": {},
     "output_type": "execute_result"
    },
    {
     "data": {
      "text/plain": [
       "\n",
       "    840\n",
       " 180224\n",
       "[torch.LongStorage of size 2]\n",
       "\n",
       "david-vp2-il0-ex3.png\t\n"
      ]
     },
     "execution_count": 7,
     "metadata": {},
     "output_type": "execute_result"
    },
    {
     "data": {
      "text/plain": [
       "\n",
       "    840\n",
       " 180224\n",
       "[torch.LongStorage of size 2]\n",
       "\n"
      ]
     },
     "execution_count": 7,
     "metadata": {},
     "output_type": "execute_result"
    },
    {
     "data": {
      "text/plain": [
       "edelman-vp4-il1-ex3.png\t\n"
      ]
     },
     "execution_count": 7,
     "metadata": {},
     "output_type": "execute_result"
    },
    {
     "data": {
      "text/plain": [
       "\n",
       "    840\n",
       " 180224\n",
       "[torch.LongStorage of size 2]\n",
       "\n",
       "dani-vp3-il1-ex3.png\t\n"
      ]
     },
     "execution_count": 7,
     "metadata": {},
     "output_type": "execute_result"
    },
    {
     "data": {
      "text/plain": [
       "\n",
       "    840\n",
       " 180224\n",
       "[torch.LongStorage of size 2]\n",
       "\n"
      ]
     },
     "execution_count": 7,
     "metadata": {},
     "output_type": "execute_result"
    },
    {
     "data": {
      "text/plain": [
       "dani-vp1-il0-ex2.png\t\n"
      ]
     },
     "execution_count": 7,
     "metadata": {},
     "output_type": "execute_result"
    },
    {
     "data": {
      "text/plain": [
       "\n",
       "    840\n",
       " 180224\n",
       "[torch.LongStorage of size 2]\n",
       "\n",
       "yakov-vp0-il2-ex2.png\t\n"
      ]
     },
     "execution_count": 7,
     "metadata": {},
     "output_type": "execute_result"
    },
    {
     "data": {
      "text/plain": [
       "\n",
       "    840\n",
       " 180224\n",
       "[torch.LongStorage of size 2]\n",
       "\n"
      ]
     },
     "execution_count": 7,
     "metadata": {},
     "output_type": "execute_result"
    },
    {
     "data": {
      "text/plain": [
       "amit-vp3-il2-ex2.png\t\n"
      ]
     },
     "execution_count": 7,
     "metadata": {},
     "output_type": "execute_result"
    },
    {
     "data": {
      "text/plain": [
       "\n",
       "    840\n",
       " 180224\n",
       "[torch.LongStorage of size 2]\n",
       "\n",
       "moshe1-vp0-il0-ex3.png\t\n"
      ]
     },
     "execution_count": 7,
     "metadata": {},
     "output_type": "execute_result"
    },
    {
     "data": {
      "text/plain": [
       "\n",
       "    840\n",
       " 180224\n",
       "[torch.LongStorage of size 2]\n",
       "\n",
       "menashe-vp3-il1-ex3.png\t\n"
      ]
     },
     "execution_count": 7,
     "metadata": {},
     "output_type": "execute_result"
    },
    {
     "data": {
      "text/plain": [
       "\n",
       "    840\n",
       " 180224\n",
       "[torch.LongStorage of size 2]\n",
       "\n",
       "shabtai-vp4-il0-ex2.png\t\n"
      ]
     },
     "execution_count": 7,
     "metadata": {},
     "output_type": "execute_result"
    },
    {
     "data": {
      "text/plain": [
       "\n",
       "    840\n",
       " 180224\n",
       "[torch.LongStorage of size 2]\n",
       "\n",
       "bruno-vp4-il1-ex3.png\t\n"
      ]
     },
     "execution_count": 7,
     "metadata": {},
     "output_type": "execute_result"
    },
    {
     "data": {
      "text/plain": [
       "\n",
       "    840\n",
       " 180224\n",
       "[torch.LongStorage of size 2]\n",
       "\n",
       "avidan-vp3-il2-ex3.png\t\n"
      ]
     },
     "execution_count": 7,
     "metadata": {},
     "output_type": "execute_result"
    },
    {
     "data": {
      "text/plain": [
       "\n",
       "    840\n",
       " 180224\n",
       "[torch.LongStorage of size 2]\n",
       "\n",
       "avishai-vp0-il0-ex3.png\t\n"
      ]
     },
     "execution_count": 7,
     "metadata": {},
     "output_type": "execute_result"
    },
    {
     "data": {
      "text/plain": [
       "\n",
       "    840\n",
       " 180224\n",
       "[torch.LongStorage of size 2]\n",
       "\n",
       "inon1-vp2-il2-ex2.png\t\n"
      ]
     },
     "execution_count": 7,
     "metadata": {},
     "output_type": "execute_result"
    },
    {
     "data": {
      "text/plain": [
       "\n",
       "    840\n",
       " 180224\n",
       "[torch.LongStorage of size 2]\n",
       "\n"
      ]
     },
     "execution_count": 7,
     "metadata": {},
     "output_type": "execute_result"
    },
    {
     "data": {
      "text/plain": [
       "huan-vp3-il1-ex3.png\t\n"
      ]
     },
     "execution_count": 7,
     "metadata": {},
     "output_type": "execute_result"
    },
    {
     "data": {
      "text/plain": [
       "\n",
       "    840\n",
       " 180224\n",
       "[torch.LongStorage of size 2]\n",
       "\n",
       "yaron-vp0-il2-ex2.png\t\n"
      ]
     },
     "execution_count": 7,
     "metadata": {},
     "output_type": "execute_result"
    },
    {
     "data": {
      "text/plain": [
       "\n",
       "    840\n",
       " 180224\n",
       "[torch.LongStorage of size 2]\n",
       "\n",
       "avidan-vp1-il0-ex3.png\t\n"
      ]
     },
     "execution_count": 7,
     "metadata": {},
     "output_type": "execute_result"
    },
    {
     "data": {
      "text/plain": [
       "\n",
       "    840\n",
       " 180224\n",
       "[torch.LongStorage of size 2]\n",
       "\n"
      ]
     },
     "execution_count": 7,
     "metadata": {},
     "output_type": "execute_result"
    },
    {
     "data": {
      "text/plain": [
       "bruno-vp0-il0-ex2.png\t\n"
      ]
     },
     "execution_count": 7,
     "metadata": {},
     "output_type": "execute_result"
    },
    {
     "data": {
      "text/plain": [
       "\n",
       "    840\n",
       " 180224\n",
       "[torch.LongStorage of size 2]\n",
       "\n",
       "uri-vp0-il2-ex3.png\t\n"
      ]
     },
     "execution_count": 7,
     "metadata": {},
     "output_type": "execute_result"
    },
    {
     "data": {
      "text/plain": [
       "\n",
       "    840\n",
       " 180224\n",
       "[torch.LongStorage of size 2]\n",
       "\n",
       "moshe1-vp4-il1-ex3.png\t\n"
      ]
     },
     "execution_count": 7,
     "metadata": {},
     "output_type": "execute_result"
    },
    {
     "data": {
      "text/plain": [
       "\n",
       "    840\n",
       " 180224\n",
       "[torch.LongStorage of size 2]\n",
       "\n",
       "shabtai-vp2-il1-ex3.png\t\n"
      ]
     },
     "execution_count": 7,
     "metadata": {},
     "output_type": "execute_result"
    },
    {
     "data": {
      "text/plain": [
       "\n",
       "    840\n",
       " 180224\n",
       "[torch.LongStorage of size 2]\n",
       "\n",
       "yaron-vp4-il0-ex3.png\t\n"
      ]
     },
     "execution_count": 7,
     "metadata": {},
     "output_type": "execute_result"
    },
    {
     "data": {
      "text/plain": [
       "\n",
       "    840\n",
       " 180224\n",
       "[torch.LongStorage of size 2]\n",
       "\n",
       "moshe1-vp0-il1-ex2.png\t\n"
      ]
     },
     "execution_count": 7,
     "metadata": {},
     "output_type": "execute_result"
    },
    {
     "data": {
      "text/plain": [
       "\n",
       "    840\n",
       " 180224\n",
       "[torch.LongStorage of size 2]\n",
       "\n"
      ]
     },
     "execution_count": 7,
     "metadata": {},
     "output_type": "execute_result"
    },
    {
     "data": {
      "text/plain": [
       "huan-vp3-il0-ex3.png\t\n"
      ]
     },
     "execution_count": 7,
     "metadata": {},
     "output_type": "execute_result"
    },
    {
     "data": {
      "text/plain": [
       "\n",
       "    840\n",
       " 180224\n",
       "[torch.LongStorage of size 2]\n",
       "\n"
      ]
     },
     "execution_count": 7,
     "metadata": {},
     "output_type": "execute_result"
    },
    {
     "data": {
      "text/plain": [
       "yaron-vp2-il0-ex2.png\t\n"
      ]
     },
     "execution_count": 7,
     "metadata": {},
     "output_type": "execute_result"
    },
    {
     "data": {
      "text/plain": [
       "\n",
       "    840\n",
       " 180224\n",
       "[torch.LongStorage of size 2]\n",
       "\n"
      ]
     },
     "execution_count": 7,
     "metadata": {},
     "output_type": "execute_result"
    },
    {
     "data": {
      "text/plain": [
       "inon1-vp3-il0-ex2.png\t\n"
      ]
     },
     "execution_count": 7,
     "metadata": {},
     "output_type": "execute_result"
    },
    {
     "data": {
      "text/plain": [
       "\n",
       "    840\n",
       " 180224\n",
       "[torch.LongStorage of size 2]\n",
       "\n"
      ]
     },
     "execution_count": 7,
     "metadata": {},
     "output_type": "execute_result"
    },
    {
     "data": {
      "text/plain": [
       "amir2-vp3-il0-ex2.png\t\n"
      ]
     },
     "execution_count": 7,
     "metadata": {},
     "output_type": "execute_result"
    },
    {
     "data": {
      "text/plain": [
       "\n",
       "    840\n",
       " 180224\n",
       "[torch.LongStorage of size 2]\n",
       "\n",
       "yakov-vp2-il1-ex3.png\t\n"
      ]
     },
     "execution_count": 7,
     "metadata": {},
     "output_type": "execute_result"
    },
    {
     "data": {
      "text/plain": [
       "\n",
       "    840\n",
       " 180224\n",
       "[torch.LongStorage of size 2]\n",
       "\n"
      ]
     },
     "execution_count": 7,
     "metadata": {},
     "output_type": "execute_result"
    },
    {
     "data": {
      "text/plain": [
       "amir2-vp4-il0-ex2.png\t\n"
      ]
     },
     "execution_count": 7,
     "metadata": {},
     "output_type": "execute_result"
    },
    {
     "data": {
      "text/plain": [
       "\n",
       "    840\n",
       " 180224\n",
       "[torch.LongStorage of size 2]\n",
       "\n",
       "eli-vp2-il2-ex2.png\t\n"
      ]
     },
     "execution_count": 7,
     "metadata": {},
     "output_type": "execute_result"
    },
    {
     "data": {
      "text/plain": [
       "\n",
       "    840\n",
       " 180224\n",
       "[torch.LongStorage of size 2]\n",
       "\n",
       "eyal-vp2-il0-ex2.png\t\n"
      ]
     },
     "execution_count": 7,
     "metadata": {},
     "output_type": "execute_result"
    },
    {
     "data": {
      "text/plain": [
       "\n",
       "    840\n",
       " 180224\n",
       "[torch.LongStorage of size 2]\n",
       "\n",
       "bruno-vp1-il0-ex3.png\t\n"
      ]
     },
     "execution_count": 7,
     "metadata": {},
     "output_type": "execute_result"
    },
    {
     "data": {
      "text/plain": [
       "\n",
       "    840\n",
       " 180224\n",
       "[torch.LongStorage of size 2]\n"
      ]
     },
     "execution_count": 7,
     "metadata": {},
     "output_type": "execute_result"
    },
    {
     "data": {
      "text/plain": [
       "\n",
       "shmuel-vp0-il2-ex3.png\t\n"
      ]
     },
     "execution_count": 7,
     "metadata": {},
     "output_type": "execute_result"
    },
    {
     "data": {
      "text/plain": [
       "\n",
       "    840\n",
       " 180224\n",
       "[torch.LongStorage of size 2]\n",
       "\n",
       "inon1-vp3-il2-ex2.png\t\n"
      ]
     },
     "execution_count": 7,
     "metadata": {},
     "output_type": "execute_result"
    },
    {
     "data": {
      "text/plain": [
       "\n",
       "    840\n",
       " 180224\n",
       "[torch.LongStorage of size 2]\n",
       "\n"
      ]
     },
     "execution_count": 7,
     "metadata": {},
     "output_type": "execute_result"
    },
    {
     "data": {
      "text/plain": [
       "amit-vp4-il1-ex2.png\t\n"
      ]
     },
     "execution_count": 7,
     "metadata": {},
     "output_type": "execute_result"
    },
    {
     "data": {
      "text/plain": [
       "\n",
       "    840\n",
       " 180224\n",
       "[torch.LongStorage of size 2]\n",
       "\n",
       "inon1-vp4-il2-ex3.png\t\n"
      ]
     },
     "execution_count": 7,
     "metadata": {},
     "output_type": "execute_result"
    },
    {
     "data": {
      "text/plain": [
       "\n",
       "    840\n",
       " 180224\n",
       "[torch.LongStorage of size 2]\n",
       "\n"
      ]
     },
     "execution_count": 7,
     "metadata": {},
     "output_type": "execute_result"
    },
    {
     "data": {
      "text/plain": [
       "avishai-vp0-il1-ex3.png\t\n"
      ]
     },
     "execution_count": 7,
     "metadata": {},
     "output_type": "execute_result"
    },
    {
     "data": {
      "text/plain": [
       "\n",
       "    840\n",
       " 180224\n",
       "[torch.LongStorage of size 2]\n",
       "\n"
      ]
     },
     "execution_count": 7,
     "metadata": {},
     "output_type": "execute_result"
    },
    {
     "data": {
      "text/plain": [
       "meir-vp0-il1-ex2.png\t\n"
      ]
     },
     "execution_count": 7,
     "metadata": {},
     "output_type": "execute_result"
    },
    {
     "data": {
      "text/plain": [
       "\n",
       "    840\n",
       " 180224\n",
       "[torch.LongStorage of size 2]\n",
       "\n",
       "inon1-vp2-il1-ex2.png\t\n"
      ]
     },
     "execution_count": 7,
     "metadata": {},
     "output_type": "execute_result"
    },
    {
     "data": {
      "text/plain": [
       "\n",
       "    840\n",
       " 180224\n",
       "[torch.LongStorage of size 2]\n",
       "\n",
       "uri-vp0-il1-ex2.png\t\n"
      ]
     },
     "execution_count": 7,
     "metadata": {},
     "output_type": "execute_result"
    },
    {
     "data": {
      "text/plain": [
       "\n",
       "    840\n",
       " 180224\n",
       "[torch.LongStorage of size 2]\n",
       "\n",
       "tuvia-vp1-il0-ex3.png\t\n"
      ]
     },
     "execution_count": 7,
     "metadata": {},
     "output_type": "execute_result"
    },
    {
     "data": {
      "text/plain": [
       "\n",
       "    840\n",
       " 180224\n",
       "[torch.LongStorage of size 2]\n",
       "\n",
       "david-vp2-il1-ex3.png\t\n"
      ]
     },
     "execution_count": 7,
     "metadata": {},
     "output_type": "execute_result"
    },
    {
     "data": {
      "text/plain": [
       "\n",
       "    840\n",
       " 180224\n",
       "[torch.LongStorage of size 2]\n",
       "\n",
       "eli-vp1-il1-ex2.png\t\n"
      ]
     },
     "execution_count": 7,
     "metadata": {},
     "output_type": "execute_result"
    },
    {
     "data": {
      "text/plain": [
       "\n",
       "    840\n",
       " 180224\n",
       "[torch.LongStorage of size 2]\n",
       "\n",
       "avidan-vp4-il0-ex3.png\t\n"
      ]
     },
     "execution_count": 7,
     "metadata": {},
     "output_type": "execute_result"
    },
    {
     "data": {
      "text/plain": [
       "\n",
       "    840\n",
       " 180224\n",
       "[torch.LongStorage of size 2]\n",
       "\n"
      ]
     },
     "execution_count": 7,
     "metadata": {},
     "output_type": "execute_result"
    },
    {
     "data": {
      "text/plain": [
       "yakov-vp1-il1-ex2.png\t\n"
      ]
     },
     "execution_count": 7,
     "metadata": {},
     "output_type": "execute_result"
    },
    {
     "data": {
      "text/plain": [
       "\n",
       "    840\n",
       " 180224\n",
       "[torch.LongStorage of size 2]\n",
       "\n"
      ]
     },
     "execution_count": 7,
     "metadata": {},
     "output_type": "execute_result"
    },
    {
     "data": {
      "text/plain": [
       "moshe-vp3-il1-ex3.png\t\n"
      ]
     },
     "execution_count": 7,
     "metadata": {},
     "output_type": "execute_result"
    },
    {
     "data": {
      "text/plain": [
       "\n",
       "    840\n",
       " 180224\n",
       "[torch.LongStorage of size 2]\n",
       "\n"
      ]
     },
     "execution_count": 7,
     "metadata": {},
     "output_type": "execute_result"
    },
    {
     "data": {
      "text/plain": [
       "meir-vp1-il2-ex2.png\t\n"
      ]
     },
     "execution_count": 7,
     "metadata": {},
     "output_type": "execute_result"
    },
    {
     "data": {
      "text/plain": [
       "\n",
       "    840\n",
       " 180224\n",
       "[torch.LongStorage of size 2]\n",
       "\n"
      ]
     },
     "execution_count": 7,
     "metadata": {},
     "output_type": "execute_result"
    },
    {
     "data": {
      "text/plain": [
       "amir1-vp4-il2-ex2.png\t\n"
      ]
     },
     "execution_count": 7,
     "metadata": {},
     "output_type": "execute_result"
    },
    {
     "data": {
      "text/plain": [
       "\n",
       "    840\n",
       " 180224\n",
       "[torch.LongStorage of size 2]\n",
       "\n",
       "amir2-vp2-il1-ex2.png\t\n"
      ]
     },
     "execution_count": 7,
     "metadata": {},
     "output_type": "execute_result"
    },
    {
     "data": {
      "text/plain": [
       "\n",
       "    840\n",
       " 180224\n",
       "[torch.LongStorage of size 2]\n",
       "\n",
       "tuvia-vp2-il0-ex2.png\t\n"
      ]
     },
     "execution_count": 7,
     "metadata": {},
     "output_type": "execute_result"
    },
    {
     "data": {
      "text/plain": [
       "\n",
       "    840\n",
       " 180224\n",
       "[torch.LongStorage of size 2]\n",
       "\n",
       "goel-vp1-il2-ex2.png\t\n"
      ]
     },
     "execution_count": 7,
     "metadata": {},
     "output_type": "execute_result"
    },
    {
     "data": {
      "text/plain": [
       "\n",
       "    840\n",
       " 180224\n",
       "[torch.LongStorage of size 2]\n",
       "\n",
       "amit-vp3-il1-ex2.png\t\n"
      ]
     },
     "execution_count": 7,
     "metadata": {},
     "output_type": "execute_result"
    },
    {
     "data": {
      "text/plain": [
       "\n",
       "    840\n",
       " 180224\n",
       "[torch.LongStorage of size 2]\n",
       "\n",
       "goel-vp3-il1-ex2.png\t\n"
      ]
     },
     "execution_count": 7,
     "metadata": {},
     "output_type": "execute_result"
    },
    {
     "data": {
      "text/plain": [
       "\n",
       "    840\n",
       " 180224\n",
       "[torch.LongStorage of size 2]\n",
       "\n",
       "amir1-vp1-il2-ex2.png\t\n"
      ]
     },
     "execution_count": 7,
     "metadata": {},
     "output_type": "execute_result"
    },
    {
     "data": {
      "text/plain": [
       "\n",
       "    840\n",
       " 180224\n",
       "[torch.LongStorage of size 2]\n",
       "\n"
      ]
     },
     "execution_count": 7,
     "metadata": {},
     "output_type": "execute_result"
    },
    {
     "data": {
      "text/plain": [
       "dani-vp3-il2-ex3.png\t\n"
      ]
     },
     "execution_count": 7,
     "metadata": {},
     "output_type": "execute_result"
    },
    {
     "data": {
      "text/plain": [
       "\n",
       "    840\n",
       " 180224\n",
       "[torch.LongStorage of size 2]\n",
       "\n"
      ]
     },
     "execution_count": 7,
     "metadata": {},
     "output_type": "execute_result"
    },
    {
     "data": {
      "text/plain": [
       "eyal-vp3-il1-ex2.png\t\n"
      ]
     },
     "execution_count": 7,
     "metadata": {},
     "output_type": "execute_result"
    },
    {
     "data": {
      "text/plain": [
       "\n",
       "    840\n",
       " 180224\n",
       "[torch.LongStorage of size 2]\n",
       "\n"
      ]
     },
     "execution_count": 7,
     "metadata": {},
     "output_type": "execute_result"
    },
    {
     "data": {
      "text/plain": [
       "shmuel-vp0-il0-ex2.png\t\n"
      ]
     },
     "execution_count": 7,
     "metadata": {},
     "output_type": "execute_result"
    },
    {
     "data": {
      "text/plain": [
       "\n",
       "    840\n",
       " 180224\n",
       "[torch.LongStorage of size 2]\n",
       "\n",
       "menashe-vp0-il0-ex3.png\t\n"
      ]
     },
     "execution_count": 7,
     "metadata": {},
     "output_type": "execute_result"
    },
    {
     "data": {
      "text/plain": [
       "\n",
       "    840\n",
       " 180224\n",
       "[torch.LongStorage of size 2]\n",
       "\n",
       "shmuel-vp2-il0-ex2.png\t\n"
      ]
     },
     "execution_count": 7,
     "metadata": {},
     "output_type": "execute_result"
    },
    {
     "data": {
      "text/plain": [
       "\n",
       "    840\n",
       " 180224\n",
       "[torch.LongStorage of size 2]\n",
       "\n",
       "yaron-vp4-il1-ex2.png\t\n"
      ]
     },
     "execution_count": 7,
     "metadata": {},
     "output_type": "execute_result"
    },
    {
     "data": {
      "text/plain": [
       "\n",
       "    840\n",
       " 180224\n",
       "[torch.LongStorage of size 2]\n",
       "\n",
       "amir-vp0-il0-ex2.png\t\n"
      ]
     },
     "execution_count": 7,
     "metadata": {},
     "output_type": "execute_result"
    },
    {
     "data": {
      "text/plain": [
       "\n",
       "    840\n",
       " 180224\n",
       "[torch.LongStorage of size 2]\n",
       "\n",
       "david-vp0-il0-ex2.png\t\n"
      ]
     },
     "execution_count": 7,
     "metadata": {},
     "output_type": "execute_result"
    },
    {
     "data": {
      "text/plain": [
       "\n",
       "    840\n",
       " 180224\n",
       "[torch.LongStorage of size 2]\n",
       "\n",
       "goel-vp0-il2-ex2.png\t\n"
      ]
     },
     "execution_count": 7,
     "metadata": {},
     "output_type": "execute_result"
    },
    {
     "data": {
      "text/plain": [
       "\n",
       "    840\n",
       " 180224\n",
       "[torch.LongStorage of size 2]\n",
       "\n",
       "avidan-vp4-il1-ex2.png\t\n"
      ]
     },
     "execution_count": 7,
     "metadata": {},
     "output_type": "execute_result"
    },
    {
     "data": {
      "text/plain": [
       "\n",
       "    840\n",
       " 180224\n",
       "[torch.LongStorage of size 2]\n",
       "\n"
      ]
     },
     "execution_count": 7,
     "metadata": {},
     "output_type": "execute_result"
    },
    {
     "data": {
      "text/plain": [
       "moshe1-vp2-il1-ex3.png\t\n"
      ]
     },
     "execution_count": 7,
     "metadata": {},
     "output_type": "execute_result"
    },
    {
     "data": {
      "text/plain": [
       "\n",
       "    840\n",
       " 180224\n",
       "[torch.LongStorage of size 2]\n",
       "\n",
       "moshe1-vp2-il0-ex2.png\t\n"
      ]
     },
     "execution_count": 7,
     "metadata": {},
     "output_type": "execute_result"
    },
    {
     "data": {
      "text/plain": [
       "\n",
       "    840\n",
       " 180224\n",
       "[torch.LongStorage of size 2]\n",
       "\n"
      ]
     },
     "execution_count": 7,
     "metadata": {},
     "output_type": "execute_result"
    },
    {
     "data": {
      "text/plain": [
       "amir-vp3-il2-ex2.png\t\n"
      ]
     },
     "execution_count": 7,
     "metadata": {},
     "output_type": "execute_result"
    },
    {
     "data": {
      "text/plain": [
       "\n",
       "    840\n",
       " 180224\n",
       "[torch.LongStorage of size 2]\n",
       "\n",
       "amit-vp0-il0-ex2.png\t\n"
      ]
     },
     "execution_count": 7,
     "metadata": {},
     "output_type": "execute_result"
    },
    {
     "data": {
      "text/plain": [
       "\n",
       "    840\n",
       " 180224\n",
       "[torch.LongStorage of size 2]\n",
       "\n"
      ]
     },
     "execution_count": 7,
     "metadata": {},
     "output_type": "execute_result"
    },
    {
     "data": {
      "text/plain": [
       "amit-vp1-il0-ex2.png\t\n"
      ]
     },
     "execution_count": 7,
     "metadata": {},
     "output_type": "execute_result"
    },
    {
     "data": {
      "text/plain": [
       "\n",
       "    840\n",
       " 180224\n",
       "[torch.LongStorage of size 2]\n",
       "\n"
      ]
     },
     "execution_count": 7,
     "metadata": {},
     "output_type": "execute_result"
    },
    {
     "data": {
      "text/plain": [
       "uri-vp0-il0-ex2.png\t\n"
      ]
     },
     "execution_count": 7,
     "metadata": {},
     "output_type": "execute_result"
    },
    {
     "data": {
      "text/plain": [
       "\n",
       "    840\n",
       " 180224\n",
       "[torch.LongStorage of size 2]\n",
       "\n",
       "huan-vp2-il0-ex2.png\t\n"
      ]
     },
     "execution_count": 7,
     "metadata": {},
     "output_type": "execute_result"
    },
    {
     "data": {
      "text/plain": [
       "\n",
       "    840\n",
       " 180224\n",
       "[torch.LongStorage of size 2]\n",
       "\n",
       "uri-vp3-il0-ex2.png\t\n"
      ]
     },
     "execution_count": 7,
     "metadata": {},
     "output_type": "execute_result"
    },
    {
     "data": {
      "text/plain": [
       "\n",
       "    840\n",
       " 180224\n",
       "[torch.LongStorage of size 2]\n",
       "\n",
       "edelman-vp0-il2-ex2.png\t\n"
      ]
     },
     "execution_count": 7,
     "metadata": {},
     "output_type": "execute_result"
    },
    {
     "data": {
      "text/plain": [
       "\n",
       "    840\n",
       " 180224\n",
       "[torch.LongStorage of size 2]\n",
       "\n",
       "uri-vp2-il1-ex2.png\t\n"
      ]
     },
     "execution_count": 7,
     "metadata": {},
     "output_type": "execute_result"
    },
    {
     "data": {
      "text/plain": [
       "\n",
       "    840\n",
       " 180224\n",
       "[torch.LongStorage of size 2]\n",
       "\n"
      ]
     },
     "execution_count": 7,
     "metadata": {},
     "output_type": "execute_result"
    },
    {
     "data": {
      "text/plain": [
       "yakov-vp0-il1-ex2.png\t\n"
      ]
     },
     "execution_count": 7,
     "metadata": {},
     "output_type": "execute_result"
    },
    {
     "data": {
      "text/plain": [
       "\n",
       "    840\n",
       " 180224\n",
       "[torch.LongStorage of size 2]\n",
       "\n"
      ]
     },
     "execution_count": 7,
     "metadata": {},
     "output_type": "execute_result"
    },
    {
     "data": {
      "text/plain": [
       "eli-vp1-il2-ex3.png\t\n"
      ]
     },
     "execution_count": 7,
     "metadata": {},
     "output_type": "execute_result"
    },
    {
     "data": {
      "text/plain": [
       "\n",
       "    840\n",
       " 180224\n",
       "[torch.LongStorage of size 2]\n",
       "\n"
      ]
     },
     "execution_count": 7,
     "metadata": {},
     "output_type": "execute_result"
    },
    {
     "data": {
      "text/plain": [
       "avidan-vp4-il2-ex2.png\t\n"
      ]
     },
     "execution_count": 7,
     "metadata": {},
     "output_type": "execute_result"
    },
    {
     "data": {
      "text/plain": [
       "\n",
       "    840\n",
       " 180224\n",
       "[torch.LongStorage of size 2]\n",
       "\n"
      ]
     },
     "execution_count": 7,
     "metadata": {},
     "output_type": "execute_result"
    },
    {
     "data": {
      "text/plain": [
       "bruno-vp4-il1-ex2.png\t\n"
      ]
     },
     "execution_count": 7,
     "metadata": {},
     "output_type": "execute_result"
    },
    {
     "data": {
      "text/plain": [
       "\n",
       "    840\n",
       " 180224\n",
       "[torch.LongStorage of size 2]\n",
       "\n"
      ]
     },
     "execution_count": 7,
     "metadata": {},
     "output_type": "execute_result"
    },
    {
     "data": {
      "text/plain": [
       "meir1-vp0-il2-ex3.png\t\n"
      ]
     },
     "execution_count": 7,
     "metadata": {},
     "output_type": "execute_result"
    },
    {
     "data": {
      "text/plain": [
       "\n",
       "    840\n",
       " 180224\n",
       "[torch.LongStorage of size 2]\n",
       "\n",
       "inon1-vp0-il1-ex2.png\t\n"
      ]
     },
     "execution_count": 7,
     "metadata": {},
     "output_type": "execute_result"
    },
    {
     "data": {
      "text/plain": [
       "\n",
       "    840\n",
       " 180224\n",
       "[torch.LongStorage of size 2]\n",
       "\n",
       "shabtai-vp2-il0-ex2.png\t\n"
      ]
     },
     "execution_count": 7,
     "metadata": {},
     "output_type": "execute_result"
    },
    {
     "data": {
      "text/plain": [
       "\n",
       "    840\n",
       " 180224\n",
       "[torch.LongStorage of size 2]\n",
       "\n",
       "huan-vp4-il0-ex2.png\t\n"
      ]
     },
     "execution_count": 7,
     "metadata": {},
     "output_type": "execute_result"
    },
    {
     "data": {
      "text/plain": [
       "\n",
       "    840\n",
       " 180224\n",
       "[torch.LongStorage of size 2]\n",
       "\n",
       "shabtai-vp4-il2-ex2.png\t\n"
      ]
     },
     "execution_count": 7,
     "metadata": {},
     "output_type": "execute_result"
    },
    {
     "data": {
      "text/plain": [
       "\n",
       "    840\n",
       " 180224\n",
       "[torch.LongStorage of size 2]\n",
       "\n",
       "moshe1-vp1-il2-ex3.png\t\n"
      ]
     },
     "execution_count": 7,
     "metadata": {},
     "output_type": "execute_result"
    },
    {
     "data": {
      "text/plain": [
       "\n",
       "    840\n",
       " 180224\n",
       "[torch.LongStorage of size 2]\n",
       "\n",
       "yaron-vp2-il2-ex2.png\t\n"
      ]
     },
     "execution_count": 7,
     "metadata": {},
     "output_type": "execute_result"
    },
    {
     "data": {
      "text/plain": [
       "\n",
       "    840\n",
       " 180224\n",
       "[torch.LongStorage of size 2]\n",
       "\n",
       "yaron-vp1-il2-ex2.png\t\n"
      ]
     },
     "execution_count": 7,
     "metadata": {},
     "output_type": "execute_result"
    },
    {
     "data": {
      "text/plain": [
       "\n",
       "    840\n",
       " 180224\n",
       "[torch.LongStorage of size 2]\n",
       "\n",
       "bruno-vp4-il2-ex3.png\t\n"
      ]
     },
     "execution_count": 7,
     "metadata": {},
     "output_type": "execute_result"
    },
    {
     "data": {
      "text/plain": [
       "\n",
       "    840\n",
       " 180224\n",
       "[torch.LongStorage of size 2]\n",
       "\n"
      ]
     },
     "execution_count": 7,
     "metadata": {},
     "output_type": "execute_result"
    },
    {
     "data": {
      "text/plain": [
       "uri-vp3-il1-ex2.png\t\n"
      ]
     },
     "execution_count": 7,
     "metadata": {},
     "output_type": "execute_result"
    },
    {
     "data": {
      "text/plain": [
       "\n",
       "    840\n",
       " 180224\n",
       "[torch.LongStorage of size 2]\n",
       "\n"
      ]
     },
     "execution_count": 7,
     "metadata": {},
     "output_type": "execute_result"
    },
    {
     "data": {
      "text/plain": [
       "eli-vp2-il0-ex3.png\t\n"
      ]
     },
     "execution_count": 7,
     "metadata": {},
     "output_type": "execute_result"
    },
    {
     "data": {
      "text/plain": [
       "\n",
       "    840\n",
       " 180224\n",
       "[torch.LongStorage of size 2]\n",
       "\n",
       "yaron-vp1-il0-ex3.png\t\n"
      ]
     },
     "execution_count": 7,
     "metadata": {},
     "output_type": "execute_result"
    },
    {
     "data": {
      "text/plain": [
       "\n",
       "    840\n",
       " 180224\n",
       "[torch.LongStorage of size 2]\n",
       "\n"
      ]
     },
     "execution_count": 7,
     "metadata": {},
     "output_type": "execute_result"
    },
    {
     "data": {
      "text/plain": [
       "meir-vp3-il0-ex3.png\t\n"
      ]
     },
     "execution_count": 7,
     "metadata": {},
     "output_type": "execute_result"
    },
    {
     "data": {
      "text/plain": [
       "\n",
       "    840\n",
       " 180224\n",
       "[torch.LongStorage of size 2]\n",
       "\n",
       "edelman-vp1-il1-ex3.png\t\n"
      ]
     },
     "execution_count": 7,
     "metadata": {},
     "output_type": "execute_result"
    },
    {
     "data": {
      "text/plain": [
       "\n",
       "    840\n",
       " 180224\n",
       "[torch.LongStorage of size 2]\n",
       "\n",
       "amit-vp0-il0-ex3.png\t\n"
      ]
     },
     "execution_count": 7,
     "metadata": {},
     "output_type": "execute_result"
    },
    {
     "data": {
      "text/plain": [
       "\n",
       "    840\n",
       " 180224\n",
       "[torch.LongStorage of size 2]\n",
       "\n",
       "meir1-vp4-il0-ex3.png\t\n"
      ]
     },
     "execution_count": 7,
     "metadata": {},
     "output_type": "execute_result"
    },
    {
     "data": {
      "text/plain": [
       "\n",
       "    840\n",
       " 180224\n",
       "[torch.LongStorage of size 2]\n",
       "\n"
      ]
     },
     "execution_count": 7,
     "metadata": {},
     "output_type": "execute_result"
    },
    {
     "data": {
      "text/plain": [
       "menashe-vp2-il0-ex2.png\t\n"
      ]
     },
     "execution_count": 7,
     "metadata": {},
     "output_type": "execute_result"
    },
    {
     "data": {
      "text/plain": [
       "\n",
       "    840\n",
       " 180224\n",
       "[torch.LongStorage of size 2]\n",
       "\n",
       "yishay-vp3-il1-ex2.png\t\n"
      ]
     },
     "execution_count": 7,
     "metadata": {},
     "output_type": "execute_result"
    },
    {
     "data": {
      "text/plain": [
       "\n",
       "    840\n",
       " 180224\n",
       "[torch.LongStorage of size 2]\n",
       "\n",
       "huan-vp2-il0-ex3.png\t\n"
      ]
     },
     "execution_count": 7,
     "metadata": {},
     "output_type": "execute_result"
    },
    {
     "data": {
      "text/plain": [
       "\n",
       "    840\n",
       " 180224\n",
       "[torch.LongStorage of size 2]\n",
       "\n"
      ]
     },
     "execution_count": 7,
     "metadata": {},
     "output_type": "execute_result"
    },
    {
     "data": {
      "text/plain": [
       "moshe-vp2-il2-ex3.png\t\n"
      ]
     },
     "execution_count": 7,
     "metadata": {},
     "output_type": "execute_result"
    },
    {
     "data": {
      "text/plain": [
       "\n",
       "    840\n",
       " 180224\n",
       "[torch.LongStorage of size 2]\n",
       "\n",
       "shabtai-vp4-il1-ex2.png\t\n"
      ]
     },
     "execution_count": 7,
     "metadata": {},
     "output_type": "execute_result"
    },
    {
     "data": {
      "text/plain": [
       "\n",
       "    840\n",
       " 180224\n",
       "[torch.LongStorage of size 2]\n",
       "\n"
      ]
     },
     "execution_count": 7,
     "metadata": {},
     "output_type": "execute_result"
    },
    {
     "data": {
      "text/plain": [
       "eyal-vp1-il0-ex2.png\t\n"
      ]
     },
     "execution_count": 7,
     "metadata": {},
     "output_type": "execute_result"
    },
    {
     "data": {
      "text/plain": [
       "\n",
       "    840\n",
       " 180224\n",
       "[torch.LongStorage of size 2]\n",
       "\n",
       "yakov-vp0-il0-ex3.png\t\n"
      ]
     },
     "execution_count": 7,
     "metadata": {},
     "output_type": "execute_result"
    },
    {
     "data": {
      "text/plain": [
       "\n",
       "    840\n",
       " 180224\n",
       "[torch.LongStorage of size 2]\n",
       "\n"
      ]
     },
     "execution_count": 7,
     "metadata": {},
     "output_type": "execute_result"
    },
    {
     "data": {
      "text/plain": [
       "amir1-vp0-il2-ex3.png\t\n"
      ]
     },
     "execution_count": 7,
     "metadata": {},
     "output_type": "execute_result"
    },
    {
     "data": {
      "text/plain": [
       "\n",
       "    840\n",
       " 180224\n",
       "[torch.LongStorage of size 2]\n",
       "\n"
      ]
     },
     "execution_count": 7,
     "metadata": {},
     "output_type": "execute_result"
    },
    {
     "data": {
      "text/plain": [
       "yaron-vp0-il1-ex2.png\t\n"
      ]
     },
     "execution_count": 7,
     "metadata": {},
     "output_type": "execute_result"
    },
    {
     "data": {
      "text/plain": [
       "\n",
       "    840\n",
       " 180224\n",
       "[torch.LongStorage of size 2]\n",
       "\n",
       "edelman-vp2-il2-ex2.png\t\n"
      ]
     },
     "execution_count": 7,
     "metadata": {},
     "output_type": "execute_result"
    },
    {
     "data": {
      "text/plain": [
       "\n",
       "    840\n",
       " 180224\n",
       "[torch.LongStorage of size 2]\n",
       "\n",
       "goel-vp0-il2-ex3.png\t\n"
      ]
     },
     "execution_count": 7,
     "metadata": {},
     "output_type": "execute_result"
    },
    {
     "data": {
      "text/plain": [
       "\n",
       "    840\n",
       " 180224\n",
       "[torch.LongStorage of size 2]\n",
       "\n",
       "dani-vp4-il0-ex3.png\t\n"
      ]
     },
     "execution_count": 7,
     "metadata": {},
     "output_type": "execute_result"
    },
    {
     "data": {
      "text/plain": [
       "\n",
       "    840\n",
       " 180224\n",
       "[torch.LongStorage of size 2]\n",
       "\n",
       "amir-vp3-il1-ex3.png\t\n"
      ]
     },
     "execution_count": 7,
     "metadata": {},
     "output_type": "execute_result"
    },
    {
     "data": {
      "text/plain": [
       "\n",
       "    840\n",
       " 180224\n",
       "[torch.LongStorage of size 2]\n",
       "\n",
       "amir2-vp0-il0-ex2.png\t\n"
      ]
     },
     "execution_count": 7,
     "metadata": {},
     "output_type": "execute_result"
    },
    {
     "data": {
      "text/plain": [
       "\n",
       "    840\n",
       " 180224\n",
       "[torch.LongStorage of size 2]\n",
       "\n",
       "moshe-vp3-il0-ex2.png\t\n"
      ]
     },
     "execution_count": 7,
     "metadata": {},
     "output_type": "execute_result"
    },
    {
     "data": {
      "text/plain": [
       "\n",
       "    840\n",
       " 180224\n",
       "[torch.LongStorage of size 2]\n",
       "\n"
      ]
     },
     "execution_count": 7,
     "metadata": {},
     "output_type": "execute_result"
    },
    {
     "data": {
      "text/plain": [
       "amit-vp1-il2-ex3.png\t\n"
      ]
     },
     "execution_count": 7,
     "metadata": {},
     "output_type": "execute_result"
    },
    {
     "data": {
      "text/plain": [
       "\n",
       "    840\n",
       " 180224\n",
       "[torch.LongStorage of size 2]\n",
       "\n"
      ]
     },
     "execution_count": 7,
     "metadata": {},
     "output_type": "execute_result"
    },
    {
     "data": {
      "text/plain": [
       "amir-vp0-il1-ex3.png\t\n"
      ]
     },
     "execution_count": 7,
     "metadata": {},
     "output_type": "execute_result"
    },
    {
     "data": {
      "text/plain": [
       "\n",
       "    840\n",
       " 180224\n",
       "[torch.LongStorage of size 2]\n",
       "\n",
       "moshe-vp3-il2-ex3.png\t\n"
      ]
     },
     "execution_count": 7,
     "metadata": {},
     "output_type": "execute_result"
    },
    {
     "data": {
      "text/plain": [
       "\n",
       "    840\n",
       " 180224\n",
       "[torch.LongStorage of size 2]\n",
       "\n"
      ]
     },
     "execution_count": 7,
     "metadata": {},
     "output_type": "execute_result"
    },
    {
     "data": {
      "text/plain": [
       "tuvia-vp1-il2-ex3.png\t\n"
      ]
     },
     "execution_count": 7,
     "metadata": {},
     "output_type": "execute_result"
    },
    {
     "data": {
      "text/plain": [
       "\n",
       "    840\n",
       " 180224\n",
       "[torch.LongStorage of size 2]\n",
       "\n",
       "moshe-vp0-il0-ex3.png\t\n"
      ]
     },
     "execution_count": 7,
     "metadata": {},
     "output_type": "execute_result"
    },
    {
     "data": {
      "text/plain": [
       "\n",
       "    840\n",
       " 180224\n",
       "[torch.LongStorage of size 2]\n",
       "\n",
       "menashe-vp1-il2-ex2.png\t\n"
      ]
     },
     "execution_count": 7,
     "metadata": {},
     "output_type": "execute_result"
    },
    {
     "data": {
      "text/plain": [
       "\n",
       "    840\n",
       " 180224\n",
       "[torch.LongStorage of size 2]\n",
       "\n",
       "meir-vp4-il2-ex2.png\t\n"
      ]
     },
     "execution_count": 7,
     "metadata": {},
     "output_type": "execute_result"
    },
    {
     "data": {
      "text/plain": [
       "\n",
       "    840\n",
       " 180224\n",
       "[torch.LongStorage of size 2]\n",
       "\n",
       "meir-vp1-il1-ex3.png\t\n"
      ]
     },
     "execution_count": 7,
     "metadata": {},
     "output_type": "execute_result"
    },
    {
     "data": {
      "text/plain": [
       "\n",
       "    840\n",
       " 180224\n",
       "[torch.LongStorage of size 2]\n",
       "\n"
      ]
     },
     "execution_count": 7,
     "metadata": {},
     "output_type": "execute_result"
    },
    {
     "data": {
      "text/plain": [
       "dani-vp3-il0-ex3.png\t\n"
      ]
     },
     "execution_count": 7,
     "metadata": {},
     "output_type": "execute_result"
    },
    {
     "data": {
      "text/plain": [
       "\n",
       "    840\n",
       " 180224\n",
       "[torch.LongStorage of size 2]\n",
       "\n",
       "eli-vp0-il0-ex3.png\t\n"
      ]
     },
     "execution_count": 7,
     "metadata": {},
     "output_type": "execute_result"
    },
    {
     "data": {
      "text/plain": [
       "\n",
       "    840\n",
       " 180224\n",
       "[torch.LongStorage of size 2]\n",
       "\n",
       "yishay-vp4-il1-ex3.png\t\n"
      ]
     },
     "execution_count": 7,
     "metadata": {},
     "output_type": "execute_result"
    },
    {
     "data": {
      "text/plain": [
       "\n",
       "    840\n",
       " 180224\n",
       "[torch.LongStorage of size 2]\n",
       "\n",
       "bruno-vp2-il1-ex3.png\t\n"
      ]
     },
     "execution_count": 7,
     "metadata": {},
     "output_type": "execute_result"
    },
    {
     "data": {
      "text/plain": [
       "\n",
       "    840\n",
       " 180224\n",
       "[torch.LongStorage of size 2]\n",
       "\n"
      ]
     },
     "execution_count": 7,
     "metadata": {},
     "output_type": "execute_result"
    },
    {
     "data": {
      "text/plain": [
       "eli-vp4-il1-ex2.png\t\n"
      ]
     },
     "execution_count": 7,
     "metadata": {},
     "output_type": "execute_result"
    },
    {
     "data": {
      "text/plain": [
       "\n",
       "    840\n",
       " 180224\n",
       "[torch.LongStorage of size 2]\n",
       "\n"
      ]
     },
     "execution_count": 7,
     "metadata": {},
     "output_type": "execute_result"
    },
    {
     "data": {
      "text/plain": [
       "eli-vp4-il2-ex3.png\t\n"
      ]
     },
     "execution_count": 7,
     "metadata": {},
     "output_type": "execute_result"
    },
    {
     "data": {
      "text/plain": [
       "\n",
       "    840\n",
       " 180224\n",
       "[torch.LongStorage of size 2]\n",
       "\n"
      ]
     },
     "execution_count": 7,
     "metadata": {},
     "output_type": "execute_result"
    },
    {
     "data": {
      "text/plain": [
       "amit-vp0-il2-ex3.png\t\n"
      ]
     },
     "execution_count": 7,
     "metadata": {},
     "output_type": "execute_result"
    },
    {
     "data": {
      "text/plain": [
       "\n",
       "    840\n",
       " 180224\n",
       "[torch.LongStorage of size 2]\n",
       "\n",
       "bruno-vp1-il2-ex2.png\t\n"
      ]
     },
     "execution_count": 7,
     "metadata": {},
     "output_type": "execute_result"
    },
    {
     "data": {
      "text/plain": [
       "\n",
       "    840\n",
       " 180224\n",
       "[torch.LongStorage of size 2]\n",
       "\n",
       "moshe1-vp1-il1-ex2.png\t\n"
      ]
     },
     "execution_count": 7,
     "metadata": {},
     "output_type": "execute_result"
    },
    {
     "data": {
      "text/plain": [
       "\n",
       "    840\n",
       " 180224\n",
       "[torch.LongStorage of size 2]\n",
       "\n",
       "meir-vp2-il2-ex2.png\t\n"
      ]
     },
     "execution_count": 7,
     "metadata": {},
     "output_type": "execute_result"
    },
    {
     "data": {
      "text/plain": [
       "\n",
       "    840\n",
       " 180224\n",
       "[torch.LongStorage of size 2]\n",
       "\n",
       "david-vp2-il2-ex3.png\t\n"
      ]
     },
     "execution_count": 7,
     "metadata": {},
     "output_type": "execute_result"
    },
    {
     "data": {
      "text/plain": [
       "\n",
       "    840\n",
       " 180224\n",
       "[torch.LongStorage of size 2]\n",
       "\n",
       "shabtai-vp3-il1-ex3.png\t\n"
      ]
     },
     "execution_count": 7,
     "metadata": {},
     "output_type": "execute_result"
    },
    {
     "data": {
      "text/plain": [
       "\n",
       "    840\n",
       " 180224\n",
       "[torch.LongStorage of size 2]\n",
       "\n"
      ]
     },
     "execution_count": 7,
     "metadata": {},
     "output_type": "execute_result"
    },
    {
     "data": {
      "text/plain": [
       "goel-vp3-il2-ex3.png\t\n"
      ]
     },
     "execution_count": 7,
     "metadata": {},
     "output_type": "execute_result"
    },
    {
     "data": {
      "text/plain": [
       "\n",
       "    840\n",
       " 180224\n",
       "[torch.LongStorage of size 2]\n",
       "\n",
       "bruno-vp0-il2-ex2.png\t\n"
      ]
     },
     "execution_count": 7,
     "metadata": {},
     "output_type": "execute_result"
    },
    {
     "data": {
      "text/plain": [
       "\n",
       "    840\n",
       " 180224\n",
       "[torch.LongStorage of size 2]\n",
       "\n"
      ]
     },
     "execution_count": 7,
     "metadata": {},
     "output_type": "execute_result"
    },
    {
     "data": {
      "text/plain": [
       "amit-vp1-il1-ex3.png\t\n"
      ]
     },
     "execution_count": 7,
     "metadata": {},
     "output_type": "execute_result"
    },
    {
     "data": {
      "text/plain": [
       "\n",
       "    840\n",
       " 180224\n",
       "[torch.LongStorage of size 2]\n",
       "\n"
      ]
     },
     "execution_count": 7,
     "metadata": {},
     "output_type": "execute_result"
    },
    {
     "data": {
      "text/plain": [
       "shabtai-vp2-il2-ex3.png\t\n"
      ]
     },
     "execution_count": 7,
     "metadata": {},
     "output_type": "execute_result"
    },
    {
     "data": {
      "text/plain": [
       "\n",
       "    840\n",
       " 180224\n",
       "[torch.LongStorage of size 2]\n",
       "\n"
      ]
     },
     "execution_count": 7,
     "metadata": {},
     "output_type": "execute_result"
    },
    {
     "data": {
      "text/plain": [
       "amir1-vp0-il0-ex3.png\t\n"
      ]
     },
     "execution_count": 7,
     "metadata": {},
     "output_type": "execute_result"
    },
    {
     "data": {
      "text/plain": [
       "\n",
       "    840\n",
       " 180224\n",
       "[torch.LongStorage of size 2]\n",
       "\n"
      ]
     },
     "execution_count": 7,
     "metadata": {},
     "output_type": "execute_result"
    },
    {
     "data": {
      "text/plain": [
       "eyal-vp4-il1-ex3.png\t\n"
      ]
     },
     "execution_count": 7,
     "metadata": {},
     "output_type": "execute_result"
    },
    {
     "data": {
      "text/plain": [
       "\n",
       "    840\n",
       " 180224\n",
       "[torch.LongStorage of size 2]\n",
       "\n",
       "edelman-vp1-il2-ex2.png\t\n"
      ]
     },
     "execution_count": 7,
     "metadata": {},
     "output_type": "execute_result"
    },
    {
     "data": {
      "text/plain": [
       "\n",
       "    840\n",
       " 180224\n",
       "[torch.LongStorage of size 2]\n",
       "\n",
       "avishai-vp3-il0-ex3.png\t\n"
      ]
     },
     "execution_count": 7,
     "metadata": {},
     "output_type": "execute_result"
    },
    {
     "data": {
      "text/plain": [
       "\n",
       "    840\n",
       " 180224\n",
       "[torch.LongStorage of size 2]\n",
       "\n",
       "dani-vp2-il0-ex3.png\t\n"
      ]
     },
     "execution_count": 7,
     "metadata": {},
     "output_type": "execute_result"
    },
    {
     "data": {
      "text/plain": [
       "\n",
       "    840\n",
       " 180224\n",
       "[torch.LongStorage of size 2]\n",
       "\n",
       "moshe-vp2-il2-ex2.png\t\n"
      ]
     },
     "execution_count": 7,
     "metadata": {},
     "output_type": "execute_result"
    },
    {
     "data": {
      "text/plain": [
       "\n",
       "    840\n",
       " 180224\n",
       "[torch.LongStorage of size 2]\n",
       "\n",
       "yakov-vp1-il1-ex3.png\t\n"
      ]
     },
     "execution_count": 7,
     "metadata": {},
     "output_type": "execute_result"
    },
    {
     "data": {
      "text/plain": [
       "\n",
       "    840\n",
       " 180224\n",
       "[torch.LongStorage of size 2]\n",
       "\n",
       "shmuel-vp3-il0-ex3.png\t\n"
      ]
     },
     "execution_count": 7,
     "metadata": {},
     "output_type": "execute_result"
    },
    {
     "data": {
      "text/plain": [
       "\n",
       "    840\n",
       " 180224\n",
       "[torch.LongStorage of size 2]\n",
       "\n",
       "avidan-vp4-il1-ex3.png\t\n"
      ]
     },
     "execution_count": 7,
     "metadata": {},
     "output_type": "execute_result"
    },
    {
     "data": {
      "text/plain": [
       "\n",
       "    840\n",
       " 180224\n",
       "[torch.LongStorage of size 2]\n",
       "\n",
       "meir1-vp2-il1-ex2.png\t\n"
      ]
     },
     "execution_count": 7,
     "metadata": {},
     "output_type": "execute_result"
    },
    {
     "data": {
      "text/plain": [
       "\n",
       "    840\n",
       " 180224\n",
       "[torch.LongStorage of size 2]\n",
       "\n",
       "huan-vp0-il0-ex3.png\t\n"
      ]
     },
     "execution_count": 7,
     "metadata": {},
     "output_type": "execute_result"
    },
    {
     "data": {
      "text/plain": [
       "\n",
       "    840\n",
       " 180224\n",
       "[torch.LongStorage of size 2]\n",
       "\n"
      ]
     },
     "execution_count": 7,
     "metadata": {},
     "output_type": "execute_result"
    },
    {
     "data": {
      "text/plain": [
       "avishai-vp3-il1-ex3.png\t\n"
      ]
     },
     "execution_count": 7,
     "metadata": {},
     "output_type": "execute_result"
    },
    {
     "data": {
      "text/plain": [
       "\n",
       "    840\n",
       " 180224\n",
       "[torch.LongStorage of size 2]\n",
       "\n"
      ]
     },
     "execution_count": 7,
     "metadata": {},
     "output_type": "execute_result"
    },
    {
     "data": {
      "text/plain": [
       "tuvia-vp4-il0-ex3.png\t\n"
      ]
     },
     "execution_count": 7,
     "metadata": {},
     "output_type": "execute_result"
    },
    {
     "data": {
      "text/plain": [
       "\n",
       "    840\n",
       " 180224\n",
       "[torch.LongStorage of size 2]\n",
       "\n",
       "uri-vp1-il0-ex2.png\t\n"
      ]
     },
     "execution_count": 7,
     "metadata": {},
     "output_type": "execute_result"
    },
    {
     "data": {
      "text/plain": [
       "\n",
       "    840\n",
       " 180224\n",
       "[torch.LongStorage of size 2]\n",
       "\n"
      ]
     },
     "execution_count": 7,
     "metadata": {},
     "output_type": "execute_result"
    },
    {
     "data": {
      "text/plain": [
       "avidan-vp2-il0-ex3.png\t\n"
      ]
     },
     "execution_count": 7,
     "metadata": {},
     "output_type": "execute_result"
    },
    {
     "data": {
      "text/plain": [
       "\n",
       "    840\n",
       " 180224\n",
       "[torch.LongStorage of size 2]\n",
       "\n"
      ]
     },
     "execution_count": 7,
     "metadata": {},
     "output_type": "execute_result"
    },
    {
     "data": {
      "text/plain": [
       "moshe-vp3-il1-ex2.png\t\n"
      ]
     },
     "execution_count": 7,
     "metadata": {},
     "output_type": "execute_result"
    },
    {
     "data": {
      "text/plain": [
       "\n",
       "    840\n",
       " 180224\n",
       "[torch.LongStorage of size 2]\n",
       "\n",
       "avidan-vp1-il2-ex2.png\t\n"
      ]
     },
     "execution_count": 7,
     "metadata": {},
     "output_type": "execute_result"
    },
    {
     "data": {
      "text/plain": [
       "\n",
       "    840\n",
       " 180224\n",
       "[torch.LongStorage of size 2]\n",
       "\n",
       "goel-vp1-il1-ex3.png\t\n"
      ]
     },
     "execution_count": 7,
     "metadata": {},
     "output_type": "execute_result"
    },
    {
     "data": {
      "text/plain": [
       "\n",
       "    840\n",
       " 180224\n",
       "[torch.LongStorage of size 2]\n",
       "\n",
       "amir2-vp3-il1-ex3.png\t\n"
      ]
     },
     "execution_count": 7,
     "metadata": {},
     "output_type": "execute_result"
    },
    {
     "data": {
      "text/plain": [
       "\n",
       "    840\n",
       " 180224\n",
       "[torch.LongStorage of size 2]\n",
       "\n"
      ]
     },
     "execution_count": 7,
     "metadata": {},
     "output_type": "execute_result"
    },
    {
     "data": {
      "text/plain": [
       "edelman-vp3-il1-ex3.png\t\n"
      ]
     },
     "execution_count": 7,
     "metadata": {},
     "output_type": "execute_result"
    },
    {
     "data": {
      "text/plain": [
       "\n",
       "    840\n",
       " 180224\n",
       "[torch.LongStorage of size 2]\n",
       "\n",
       "bruno-vp3-il0-ex2.png\t\n"
      ]
     },
     "execution_count": 7,
     "metadata": {},
     "output_type": "execute_result"
    },
    {
     "data": {
      "text/plain": [
       "\n",
       "    840\n",
       " 180224\n",
       "[torch.LongStorage of size 2]\n",
       "\n",
       "david-vp1-il1-ex2.png\t\n"
      ]
     },
     "execution_count": 7,
     "metadata": {},
     "output_type": "execute_result"
    },
    {
     "data": {
      "text/plain": [
       "\n",
       "    840\n",
       " 180224\n",
       "[torch.LongStorage of size 2]\n",
       "\n"
      ]
     },
     "execution_count": 7,
     "metadata": {},
     "output_type": "execute_result"
    },
    {
     "data": {
      "text/plain": [
       "edelman-vp0-il0-ex3.png\t\n"
      ]
     },
     "execution_count": 7,
     "metadata": {},
     "output_type": "execute_result"
    },
    {
     "data": {
      "text/plain": [
       "\n",
       "    840\n",
       " 180224\n",
       "[torch.LongStorage of size 2]\n",
       "\n"
      ]
     },
     "execution_count": 7,
     "metadata": {},
     "output_type": "execute_result"
    },
    {
     "data": {
      "text/plain": [
       "amir-vp3-il2-ex3.png\t\n"
      ]
     },
     "execution_count": 7,
     "metadata": {},
     "output_type": "execute_result"
    },
    {
     "data": {
      "text/plain": [
       "\n",
       "    840\n",
       " 180224\n",
       "[torch.LongStorage of size 2]\n",
       "\n"
      ]
     },
     "execution_count": 7,
     "metadata": {},
     "output_type": "execute_result"
    },
    {
     "data": {
      "text/plain": [
       "amir-vp2-il2-ex3.png\t\n"
      ]
     },
     "execution_count": 7,
     "metadata": {},
     "output_type": "execute_result"
    },
    {
     "data": {
      "text/plain": [
       "\n",
       "    840\n",
       " 180224\n",
       "[torch.LongStorage of size 2]\n",
       "\n"
      ]
     },
     "execution_count": 7,
     "metadata": {},
     "output_type": "execute_result"
    },
    {
     "data": {
      "text/plain": [
       "dani-vp3-il2-ex2.png\t\n"
      ]
     },
     "execution_count": 7,
     "metadata": {},
     "output_type": "execute_result"
    },
    {
     "data": {
      "text/plain": [
       "\n",
       "    840\n",
       " 180224\n",
       "[torch.LongStorage of size 2]\n",
       "\n",
       "dani-vp2-il1-ex2.png\t\n"
      ]
     },
     "execution_count": 7,
     "metadata": {},
     "output_type": "execute_result"
    },
    {
     "data": {
      "text/plain": [
       "\n",
       "    840\n",
       " 180224\n",
       "[torch.LongStorage of size 2]\n",
       "\n"
      ]
     },
     "execution_count": 7,
     "metadata": {},
     "output_type": "execute_result"
    },
    {
     "data": {
      "text/plain": [
       "avishai-vp0-il0-ex2.png\t\n"
      ]
     },
     "execution_count": 7,
     "metadata": {},
     "output_type": "execute_result"
    },
    {
     "data": {
      "text/plain": [
       "\n",
       "    840\n",
       " 180224\n",
       "[torch.LongStorage of size 2]\n",
       "\n",
       "meir1-vp2-il2-ex3.png\t\n"
      ]
     },
     "execution_count": 7,
     "metadata": {},
     "output_type": "execute_result"
    },
    {
     "data": {
      "text/plain": [
       "\n",
       "    840\n",
       " 180224\n",
       "[torch.LongStorage of size 2]\n",
       "\n",
       "dani-vp4-il1-ex2.png\t\n"
      ]
     },
     "execution_count": 7,
     "metadata": {},
     "output_type": "execute_result"
    },
    {
     "data": {
      "text/plain": [
       "\n",
       "    840\n",
       " 180224\n",
       "[torch.LongStorage of size 2]\n",
       "\n",
       "huan1-vp2-il0-ex2.png\t\n"
      ]
     },
     "execution_count": 7,
     "metadata": {},
     "output_type": "execute_result"
    },
    {
     "data": {
      "text/plain": [
       "\n",
       "    840\n",
       " 180224\n",
       "[torch.LongStorage of size 2]\n",
       "\n",
       "moshe1-vp4-il0-ex2.png\t\n"
      ]
     },
     "execution_count": 7,
     "metadata": {},
     "output_type": "execute_result"
    },
    {
     "data": {
      "text/plain": [
       "\n",
       "    840\n",
       " 180224\n",
       "[torch.LongStorage of size 2]\n",
       "\n",
       "avidan-vp3-il1-ex3.png\t\n"
      ]
     },
     "execution_count": 7,
     "metadata": {},
     "output_type": "execute_result"
    },
    {
     "data": {
      "text/plain": [
       "\n",
       "    840\n",
       " 180224\n",
       "[torch.LongStorage of size 2]\n",
       "\n",
       "goel-vp1-il1-ex2.png\t\n"
      ]
     },
     "execution_count": 7,
     "metadata": {},
     "output_type": "execute_result"
    },
    {
     "data": {
      "text/plain": [
       "\n",
       "    840\n",
       " 180224\n",
       "[torch.LongStorage of size 2]\n",
       "\n"
      ]
     },
     "execution_count": 7,
     "metadata": {},
     "output_type": "execute_result"
    },
    {
     "data": {
      "text/plain": [
       "huan1-vp0-il0-ex2.png\t\n"
      ]
     },
     "execution_count": 7,
     "metadata": {},
     "output_type": "execute_result"
    },
    {
     "data": {
      "text/plain": [
       "\n",
       "    840\n",
       " 180224\n",
       "[torch.LongStorage of size 2]\n",
       "\n",
       "amir2-vp0-il2-ex2.png\t\n"
      ]
     },
     "execution_count": 7,
     "metadata": {},
     "output_type": "execute_result"
    },
    {
     "data": {
      "text/plain": [
       "\n",
       "    840\n",
       " 180224\n",
       "[torch.LongStorage of size 2]\n",
       "\n",
       "tuvia-vp2-il0-ex3.png\t\n"
      ]
     },
     "execution_count": 7,
     "metadata": {},
     "output_type": "execute_result"
    },
    {
     "data": {
      "text/plain": [
       "\n",
       "    840\n",
       " 180224\n",
       "[torch.LongStorage of size 2]\n",
       "\n"
      ]
     },
     "execution_count": 7,
     "metadata": {},
     "output_type": "execute_result"
    },
    {
     "data": {
      "text/plain": [
       "huan1-vp1-il2-ex2.png\t\n"
      ]
     },
     "execution_count": 7,
     "metadata": {},
     "output_type": "execute_result"
    },
    {
     "data": {
      "text/plain": [
       "\n",
       "    840\n",
       " 180224\n",
       "[torch.LongStorage of size 2]\n",
       "\n",
       "uri-vp0-il1-ex3.png\t\n"
      ]
     },
     "execution_count": 7,
     "metadata": {},
     "output_type": "execute_result"
    },
    {
     "data": {
      "text/plain": [
       "\n",
       "    840\n",
       " 180224\n",
       "[torch.LongStorage of size 2]\n",
       "\n"
      ]
     },
     "execution_count": 7,
     "metadata": {},
     "output_type": "execute_result"
    },
    {
     "data": {
      "text/plain": [
       "eli-vp2-il0-ex2.png\t\n"
      ]
     },
     "execution_count": 7,
     "metadata": {},
     "output_type": "execute_result"
    },
    {
     "data": {
      "text/plain": [
       "\n",
       "    840\n",
       " 180224\n",
       "[torch.LongStorage of size 2]\n",
       "\n",
       "david-vp4-il2-ex3.png\t\n"
      ]
     },
     "execution_count": 7,
     "metadata": {},
     "output_type": "execute_result"
    },
    {
     "data": {
      "text/plain": [
       "\n",
       "    840\n",
       " 180224\n",
       "[torch.LongStorage of size 2]\n",
       "\n",
       "amir2-vp4-il1-ex3.png\t\n"
      ]
     },
     "execution_count": 7,
     "metadata": {},
     "output_type": "execute_result"
    },
    {
     "data": {
      "text/plain": [
       "\n",
       "    840\n",
       " 180224\n",
       "[torch.LongStorage of size 2]\n",
       "\n",
       "bruno-vp4-il0-ex2.png\t\n"
      ]
     },
     "execution_count": 7,
     "metadata": {},
     "output_type": "execute_result"
    },
    {
     "data": {
      "text/plain": [
       "\n",
       "    840\n",
       " 180224\n",
       "[torch.LongStorage of size 2]\n",
       "\n",
       "dani-vp0-il0-ex2.png\t\n"
      ]
     },
     "execution_count": 7,
     "metadata": {},
     "output_type": "execute_result"
    },
    {
     "data": {
      "text/plain": [
       "\n",
       "    840\n",
       " 180224\n",
       "[torch.LongStorage of size 2]\n",
       "\n"
      ]
     },
     "execution_count": 7,
     "metadata": {},
     "output_type": "execute_result"
    },
    {
     "data": {
      "text/plain": [
       "amir-vp0-il1-ex2.png\t\n"
      ]
     },
     "execution_count": 7,
     "metadata": {},
     "output_type": "execute_result"
    },
    {
     "data": {
      "text/plain": [
       "\n",
       "    840\n",
       " 180224\n",
       "[torch.LongStorage of size 2]\n",
       "\n"
      ]
     },
     "execution_count": 7,
     "metadata": {},
     "output_type": "execute_result"
    },
    {
     "data": {
      "text/plain": [
       "yakov-vp3-il1-ex3.png\t\n"
      ]
     },
     "execution_count": 7,
     "metadata": {},
     "output_type": "execute_result"
    },
    {
     "data": {
      "text/plain": [
       "\n",
       "    840\n",
       " 180224\n",
       "[torch.LongStorage of size 2]\n",
       "\n"
      ]
     },
     "execution_count": 7,
     "metadata": {},
     "output_type": "execute_result"
    },
    {
     "data": {
      "text/plain": [
       "yaron-vp2-il1-ex3.png\t\n"
      ]
     },
     "execution_count": 7,
     "metadata": {},
     "output_type": "execute_result"
    },
    {
     "data": {
      "text/plain": [
       "\n",
       "    840\n",
       " 180224\n",
       "[torch.LongStorage of size 2]\n",
       "\n"
      ]
     },
     "execution_count": 7,
     "metadata": {},
     "output_type": "execute_result"
    },
    {
     "data": {
      "text/plain": [
       "yakov-vp1-il0-ex3.png\t\n"
      ]
     },
     "execution_count": 7,
     "metadata": {},
     "output_type": "execute_result"
    },
    {
     "data": {
      "text/plain": [
       "\n",
       "    840\n",
       " 180224\n",
       "[torch.LongStorage of size 2]\n",
       "\n",
       "shmuel-vp4-il1-ex2.png\t\n"
      ]
     },
     "execution_count": 7,
     "metadata": {},
     "output_type": "execute_result"
    },
    {
     "data": {
      "text/plain": [
       "\n",
       "    840\n",
       " 180224\n",
       "[torch.LongStorage of size 2]\n",
       "\n",
       "avishai-vp4-il2-ex2.png\t\n"
      ]
     },
     "execution_count": 7,
     "metadata": {},
     "output_type": "execute_result"
    },
    {
     "data": {
      "text/plain": [
       "\n",
       "    840\n",
       " 180224\n",
       "[torch.LongStorage of size 2]\n",
       "\n",
       "edelman-vp3-il1-ex2.png\t\n"
      ]
     },
     "execution_count": 7,
     "metadata": {},
     "output_type": "execute_result"
    },
    {
     "data": {
      "text/plain": [
       "\n",
       "    840\n",
       " 180224\n",
       "[torch.LongStorage of size 2]\n",
       "\n"
      ]
     },
     "execution_count": 7,
     "metadata": {},
     "output_type": "execute_result"
    },
    {
     "data": {
      "text/plain": [
       "goel-vp3-il0-ex3.png\t\n"
      ]
     },
     "execution_count": 7,
     "metadata": {},
     "output_type": "execute_result"
    },
    {
     "data": {
      "text/plain": [
       "\n",
       "    840\n",
       " 180224\n",
       "[torch.LongStorage of size 2]\n",
       "\n"
      ]
     },
     "execution_count": 7,
     "metadata": {},
     "output_type": "execute_result"
    },
    {
     "data": {
      "text/plain": [
       "menashe-vp0-il1-ex3.png\t\n"
      ]
     },
     "execution_count": 7,
     "metadata": {},
     "output_type": "execute_result"
    },
    {
     "data": {
      "text/plain": [
       "\n",
       "    840\n",
       " 180224\n",
       "[torch.LongStorage of size 2]\n",
       "\n",
       "moshe1-vp3-il1-ex2.png\t\n"
      ]
     },
     "execution_count": 7,
     "metadata": {},
     "output_type": "execute_result"
    },
    {
     "data": {
      "text/plain": [
       "\n",
       "    840\n",
       " 180224\n",
       "[torch.LongStorage of size 2]\n",
       "\n"
      ]
     },
     "execution_count": 7,
     "metadata": {},
     "output_type": "execute_result"
    },
    {
     "data": {
      "text/plain": [
       "menashe-vp3-il2-ex3.png\t\n"
      ]
     },
     "execution_count": 7,
     "metadata": {},
     "output_type": "execute_result"
    },
    {
     "data": {
      "text/plain": [
       "\n",
       "    840\n",
       " 180224\n",
       "[torch.LongStorage of size 2]\n",
       "\n",
       "shabtai-vp4-il2-ex3.png\t\n"
      ]
     },
     "execution_count": 7,
     "metadata": {},
     "output_type": "execute_result"
    },
    {
     "data": {
      "text/plain": [
       "\n",
       "    840\n",
       " 180224\n",
       "[torch.LongStorage of size 2]\n",
       "\n",
       "uri-vp1-il1-ex2.png\t\n"
      ]
     },
     "execution_count": 7,
     "metadata": {},
     "output_type": "execute_result"
    },
    {
     "data": {
      "text/plain": [
       "\n",
       "    840\n",
       " 180224\n",
       "[torch.LongStorage of size 2]\n",
       "\n"
      ]
     },
     "execution_count": 7,
     "metadata": {},
     "output_type": "execute_result"
    },
    {
     "data": {
      "text/plain": [
       "menashe-vp4-il0-ex3.png\t\n"
      ]
     },
     "execution_count": 7,
     "metadata": {},
     "output_type": "execute_result"
    },
    {
     "data": {
      "text/plain": [
       "\n",
       "    840\n",
       " 180224\n",
       "[torch.LongStorage of size 2]\n",
       "\n"
      ]
     },
     "execution_count": 7,
     "metadata": {},
     "output_type": "execute_result"
    },
    {
     "data": {
      "text/plain": [
       "yaron-vp1-il2-ex3.png\t\n"
      ]
     },
     "execution_count": 7,
     "metadata": {},
     "output_type": "execute_result"
    },
    {
     "data": {
      "text/plain": [
       "\n",
       "    840\n",
       " 180224\n",
       "[torch.LongStorage of size 2]\n",
       "\n"
      ]
     },
     "execution_count": 7,
     "metadata": {},
     "output_type": "execute_result"
    },
    {
     "data": {
      "text/plain": [
       "yishay-vp4-il2-ex3.png\t\n"
      ]
     },
     "execution_count": 7,
     "metadata": {},
     "output_type": "execute_result"
    },
    {
     "data": {
      "text/plain": [
       "\n",
       "    840\n",
       " 180224\n",
       "[torch.LongStorage of size 2]\n",
       "\n",
       "tuvia-vp3-il0-ex3.png\t\n"
      ]
     },
     "execution_count": 7,
     "metadata": {},
     "output_type": "execute_result"
    },
    {
     "data": {
      "text/plain": [
       "\n",
       "    840\n",
       " 180224\n",
       "[torch.LongStorage of size 2]\n",
       "\n",
       "edelman-vp4-il0-ex3.png\t\n"
      ]
     },
     "execution_count": 7,
     "metadata": {},
     "output_type": "execute_result"
    },
    {
     "data": {
      "text/plain": [
       "\n",
       "    840\n",
       " 180224\n",
       "[torch.LongStorage of size 2]\n",
       "\n"
      ]
     },
     "execution_count": 7,
     "metadata": {},
     "output_type": "execute_result"
    },
    {
     "data": {
      "text/plain": [
       "shabtai-vp1-il2-ex3.png\t\n"
      ]
     },
     "execution_count": 7,
     "metadata": {},
     "output_type": "execute_result"
    },
    {
     "data": {
      "text/plain": [
       "\n",
       "    840\n",
       " 180224\n",
       "[torch.LongStorage of size 2]\n",
       "\n",
       "avidan-vp0-il1-ex2.png\t\n"
      ]
     },
     "execution_count": 7,
     "metadata": {},
     "output_type": "execute_result"
    },
    {
     "data": {
      "text/plain": [
       "\n",
       "    840\n",
       " 180224\n",
       "[torch.LongStorage of size 2]\n",
       "\n",
       "david-vp2-il2-ex2.png\t\n"
      ]
     },
     "execution_count": 7,
     "metadata": {},
     "output_type": "execute_result"
    },
    {
     "data": {
      "text/plain": [
       "\n",
       "    840\n",
       " 180224\n",
       "[torch.LongStorage of size 2]\n"
      ]
     },
     "execution_count": 7,
     "metadata": {},
     "output_type": "execute_result"
    },
    {
     "data": {
      "text/plain": [
       "\n",
       "amir2-vp0-il1-ex2.png\t\n"
      ]
     },
     "execution_count": 7,
     "metadata": {},
     "output_type": "execute_result"
    },
    {
     "data": {
      "text/plain": [
       "\n",
       "    840\n",
       " 180224\n",
       "[torch.LongStorage of size 2]\n",
       "\n",
       "huan-vp0-il2-ex2.png\t\n"
      ]
     },
     "execution_count": 7,
     "metadata": {},
     "output_type": "execute_result"
    },
    {
     "data": {
      "text/plain": [
       "\n",
       "    840\n",
       " 180224\n",
       "[torch.LongStorage of size 2]\n",
       "\n",
       "bruno-vp3-il1-ex3.png\t\n"
      ]
     },
     "execution_count": 7,
     "metadata": {},
     "output_type": "execute_result"
    },
    {
     "data": {
      "text/plain": [
       "\n",
       "    840\n",
       " 180224\n",
       "[torch.LongStorage of size 2]\n",
       "\n",
       "huan1-vp4-il0-ex2.png\t\n"
      ]
     },
     "execution_count": 7,
     "metadata": {},
     "output_type": "execute_result"
    },
    {
     "data": {
      "text/plain": [
       "\n",
       "    840\n",
       " 180224\n",
       "[torch.LongStorage of size 2]\n",
       "\n"
      ]
     },
     "execution_count": 7,
     "metadata": {},
     "output_type": "execute_result"
    },
    {
     "data": {
      "text/plain": [
       "shabtai-vp0-il1-ex3.png\t\n"
      ]
     },
     "execution_count": 7,
     "metadata": {},
     "output_type": "execute_result"
    },
    {
     "data": {
      "text/plain": [
       "\n",
       "    840\n",
       " 180224\n",
       "[torch.LongStorage of size 2]\n",
       "\n"
      ]
     },
     "execution_count": 7,
     "metadata": {},
     "output_type": "execute_result"
    },
    {
     "data": {
      "text/plain": [
       "amir1-vp1-il0-ex3.png\t\n"
      ]
     },
     "execution_count": 7,
     "metadata": {},
     "output_type": "execute_result"
    },
    {
     "data": {
      "text/plain": [
       "\n",
       "    840\n",
       " 180224\n",
       "[torch.LongStorage of size 2]\n",
       "\n"
      ]
     },
     "execution_count": 7,
     "metadata": {},
     "output_type": "execute_result"
    },
    {
     "data": {
      "text/plain": [
       "avishai-vp0-il2-ex2.png\t\n"
      ]
     },
     "execution_count": 7,
     "metadata": {},
     "output_type": "execute_result"
    },
    {
     "data": {
      "text/plain": [
       "\n",
       "    840\n",
       " 180224\n",
       "[torch.LongStorage of size 2]\n",
       "\n"
      ]
     },
     "execution_count": 7,
     "metadata": {},
     "output_type": "execute_result"
    },
    {
     "data": {
      "text/plain": [
       "avishai-vp1-il1-ex3.png\t\n"
      ]
     },
     "execution_count": 7,
     "metadata": {},
     "output_type": "execute_result"
    },
    {
     "data": {
      "text/plain": [
       "\n",
       "    840\n",
       " 180224\n",
       "[torch.LongStorage of size 2]\n",
       "\n"
      ]
     },
     "execution_count": 7,
     "metadata": {},
     "output_type": "execute_result"
    },
    {
     "data": {
      "text/plain": [
       "meir-vp1-il0-ex3.png\t\n"
      ]
     },
     "execution_count": 7,
     "metadata": {},
     "output_type": "execute_result"
    },
    {
     "data": {
      "text/plain": [
       "\n",
       "    840\n",
       " 180224\n",
       "[torch.LongStorage of size 2]\n",
       "\n"
      ]
     },
     "execution_count": 7,
     "metadata": {},
     "output_type": "execute_result"
    },
    {
     "data": {
      "text/plain": [
       "yishay-vp2-il2-ex2.png\t\n"
      ]
     },
     "execution_count": 7,
     "metadata": {},
     "output_type": "execute_result"
    },
    {
     "data": {
      "text/plain": [
       "\n",
       "    840\n",
       " 180224\n",
       "[torch.LongStorage of size 2]\n",
       "\n",
       "tuvia-vp0-il0-ex2.png\t\n"
      ]
     },
     "execution_count": 7,
     "metadata": {},
     "output_type": "execute_result"
    },
    {
     "data": {
      "text/plain": [
       "\n",
       "    840\n",
       " 180224\n",
       "[torch.LongStorage of size 2]\n",
       "\n",
       "yaron-vp0-il1-ex3.png\t\n"
      ]
     },
     "execution_count": 7,
     "metadata": {},
     "output_type": "execute_result"
    },
    {
     "data": {
      "text/plain": [
       "\n",
       "    840\n",
       " 180224\n",
       "[torch.LongStorage of size 2]\n",
       "\n",
       "amit-vp3-il2-ex3.png\t\n"
      ]
     },
     "execution_count": 7,
     "metadata": {},
     "output_type": "execute_result"
    },
    {
     "data": {
      "text/plain": [
       "\n",
       "    840\n",
       " 180224\n",
       "[torch.LongStorage of size 2]\n",
       "\n",
       "dani-vp2-il2-ex3.png\t\n"
      ]
     },
     "execution_count": 7,
     "metadata": {},
     "output_type": "execute_result"
    },
    {
     "data": {
      "text/plain": [
       "\n",
       "    840\n",
       " 180224\n",
       "[torch.LongStorage of size 2]\n",
       "\n",
       "amir1-vp2-il1-ex3.png\t\n"
      ]
     },
     "execution_count": 7,
     "metadata": {},
     "output_type": "execute_result"
    },
    {
     "data": {
      "text/plain": [
       "\n",
       "    840\n",
       " 180224\n",
       "[torch.LongStorage of size 2]\n",
       "\n",
       "menashe-vp4-il0-ex2.png\t\n"
      ]
     },
     "execution_count": 7,
     "metadata": {},
     "output_type": "execute_result"
    },
    {
     "data": {
      "text/plain": [
       "\n",
       "    840\n",
       " 180224\n",
       "[torch.LongStorage of size 2]\n",
       "\n",
       "moshe1-vp0-il1-ex3.png\t\n"
      ]
     },
     "execution_count": 7,
     "metadata": {},
     "output_type": "execute_result"
    },
    {
     "data": {
      "text/plain": [
       "\n",
       "    840\n",
       " 180224\n",
       "[torch.LongStorage of size 2]\n",
       "\n",
       "amir-vp2-il0-ex3.png\t\n"
      ]
     },
     "execution_count": 7,
     "metadata": {},
     "output_type": "execute_result"
    },
    {
     "data": {
      "text/plain": [
       "\n",
       "    840\n",
       " 180224\n",
       "[torch.LongStorage of size 2]\n",
       "\n"
      ]
     },
     "execution_count": 7,
     "metadata": {},
     "output_type": "execute_result"
    },
    {
     "data": {
      "text/plain": [
       "yishay-vp3-il0-ex3.png\t\n"
      ]
     },
     "execution_count": 7,
     "metadata": {},
     "output_type": "execute_result"
    },
    {
     "data": {
      "text/plain": [
       "\n",
       "    840\n",
       " 180224\n",
       "[torch.LongStorage of size 2]\n",
       "\n",
       "shabtai-vp1-il0-ex3.png\t\n"
      ]
     },
     "execution_count": 7,
     "metadata": {},
     "output_type": "execute_result"
    },
    {
     "data": {
      "text/plain": [
       "\n",
       "    840\n",
       " 180224\n",
       "[torch.LongStorage of size 2]\n",
       "\n"
      ]
     },
     "execution_count": 7,
     "metadata": {},
     "output_type": "execute_result"
    },
    {
     "data": {
      "text/plain": [
       "avishai-vp3-il1-ex2.png\t\n"
      ]
     },
     "execution_count": 7,
     "metadata": {},
     "output_type": "execute_result"
    },
    {
     "data": {
      "text/plain": [
       "\n",
       "    840\n",
       " 180224\n",
       "[torch.LongStorage of size 2]\n",
       "\n",
       "huan1-vp0-il1-ex3.png\t\n"
      ]
     },
     "execution_count": 7,
     "metadata": {},
     "output_type": "execute_result"
    },
    {
     "data": {
      "text/plain": [
       "\n",
       "    840\n",
       " 180224\n",
       "[torch.LongStorage of size 2]\n",
       "\n",
       "shmuel-vp2-il1-ex2.png\t\n"
      ]
     },
     "execution_count": 7,
     "metadata": {},
     "output_type": "execute_result"
    },
    {
     "data": {
      "text/plain": [
       "\n",
       "    840\n",
       " 180224\n",
       "[torch.LongStorage of size 2]\n",
       "\n",
       "menashe-vp2-il1-ex2.png\t\n"
      ]
     },
     "execution_count": 7,
     "metadata": {},
     "output_type": "execute_result"
    },
    {
     "data": {
      "text/plain": [
       "\n",
       "    840\n",
       " 180224\n",
       "[torch.LongStorage of size 2]\n",
       "\n",
       "amit-vp3-il0-ex2.png\t\n"
      ]
     },
     "execution_count": 7,
     "metadata": {},
     "output_type": "execute_result"
    },
    {
     "data": {
      "text/plain": [
       "\n",
       "    840\n",
       " 180224\n",
       "[torch.LongStorage of size 2]\n",
       "\n",
       "edelman-vp2-il0-ex3.png\t\n"
      ]
     },
     "execution_count": 7,
     "metadata": {},
     "output_type": "execute_result"
    },
    {
     "data": {
      "text/plain": [
       "\n",
       "    840\n",
       " 180224\n",
       "[torch.LongStorage of size 2]\n",
       "\n",
       "shabtai-vp1-il1-ex3.png\t\n"
      ]
     },
     "execution_count": 7,
     "metadata": {},
     "output_type": "execute_result"
    },
    {
     "data": {
      "text/plain": [
       "\n",
       "    840\n",
       " 180224\n",
       "[torch.LongStorage of size 2]\n",
       "\n",
       "tuvia-vp4-il1-ex2.png\t\n"
      ]
     },
     "execution_count": 7,
     "metadata": {},
     "output_type": "execute_result"
    },
    {
     "data": {
      "text/plain": [
       "\n",
       "    840\n",
       " 180224\n",
       "[torch.LongStorage of size 2]\n",
       "\n"
      ]
     },
     "execution_count": 7,
     "metadata": {},
     "output_type": "execute_result"
    },
    {
     "data": {
      "text/plain": [
       "shabtai-vp3-il0-ex2.png\t\n"
      ]
     },
     "execution_count": 7,
     "metadata": {},
     "output_type": "execute_result"
    },
    {
     "data": {
      "text/plain": [
       "\n",
       "    840\n",
       " 180224\n",
       "[torch.LongStorage of size 2]\n",
       "\n"
      ]
     },
     "execution_count": 7,
     "metadata": {},
     "output_type": "execute_result"
    },
    {
     "data": {
      "text/plain": [
       "shabtai-vp3-il2-ex2.png\t\n"
      ]
     },
     "execution_count": 7,
     "metadata": {},
     "output_type": "execute_result"
    },
    {
     "data": {
      "text/plain": [
       "\n",
       "    840\n",
       " 180224\n",
       "[torch.LongStorage of size 2]\n",
       "\n"
      ]
     },
     "execution_count": 7,
     "metadata": {},
     "output_type": "execute_result"
    },
    {
     "data": {
      "text/plain": [
       "bruno-vp2-il2-ex2.png\t\n"
      ]
     },
     "execution_count": 7,
     "metadata": {},
     "output_type": "execute_result"
    },
    {
     "data": {
      "text/plain": [
       "\n",
       "    840\n",
       " 180224\n",
       "[torch.LongStorage of size 2]\n",
       "\n"
      ]
     },
     "execution_count": 7,
     "metadata": {},
     "output_type": "execute_result"
    },
    {
     "data": {
      "text/plain": [
       "menashe-vp1-il0-ex3.png\t\n"
      ]
     },
     "execution_count": 7,
     "metadata": {},
     "output_type": "execute_result"
    },
    {
     "data": {
      "text/plain": [
       "\n",
       "    840\n",
       " 180224\n",
       "[torch.LongStorage of size 2]\n",
       "\n"
      ]
     },
     "execution_count": 7,
     "metadata": {},
     "output_type": "execute_result"
    },
    {
     "data": {
      "text/plain": [
       "goel-vp1-il2-ex3.png\t\n"
      ]
     },
     "execution_count": 7,
     "metadata": {},
     "output_type": "execute_result"
    },
    {
     "data": {
      "text/plain": [
       "\n",
       "    840\n",
       " 180224\n",
       "[torch.LongStorage of size 2]\n",
       "\n"
      ]
     },
     "execution_count": 7,
     "metadata": {},
     "output_type": "execute_result"
    },
    {
     "data": {
      "text/plain": [
       "avishai-vp3-il2-ex2.png\t\n"
      ]
     },
     "execution_count": 7,
     "metadata": {},
     "output_type": "execute_result"
    },
    {
     "data": {
      "text/plain": [
       "\n",
       "    840\n",
       " 180224\n",
       "[torch.LongStorage of size 2]\n",
       "\n",
       "goel-vp4-il0-ex3.png\t\n"
      ]
     },
     "execution_count": 7,
     "metadata": {},
     "output_type": "execute_result"
    },
    {
     "data": {
      "text/plain": [
       "\n",
       "    840\n",
       " 180224\n",
       "[torch.LongStorage of size 2]\n",
       "\n",
       "bruno-vp2-il0-ex3.png\t\n"
      ]
     },
     "execution_count": 7,
     "metadata": {},
     "output_type": "execute_result"
    },
    {
     "data": {
      "text/plain": [
       "\n",
       "    840\n",
       " 180224\n",
       "[torch.LongStorage of size 2]\n",
       "\n"
      ]
     },
     "execution_count": 7,
     "metadata": {},
     "output_type": "execute_result"
    },
    {
     "data": {
      "text/plain": [
       "goel-vp2-il0-ex2.png\t\n"
      ]
     },
     "execution_count": 7,
     "metadata": {},
     "output_type": "execute_result"
    },
    {
     "data": {
      "text/plain": [
       "\n",
       "    840\n",
       " 180224\n",
       "[torch.LongStorage of size 2]\n",
       "\n",
       "tuvia-vp0-il0-ex3.png\t\n"
      ]
     },
     "execution_count": 7,
     "metadata": {},
     "output_type": "execute_result"
    },
    {
     "data": {
      "text/plain": [
       "\n",
       "    840\n",
       " 180224\n",
       "[torch.LongStorage of size 2]\n",
       "\n",
       "amit-vp4-il0-ex3.png\t\n"
      ]
     },
     "execution_count": 7,
     "metadata": {},
     "output_type": "execute_result"
    },
    {
     "data": {
      "text/plain": [
       "\n",
       "    840\n",
       " 180224\n",
       "[torch.LongStorage of size 2]\n",
       "\n"
      ]
     },
     "execution_count": 7,
     "metadata": {},
     "output_type": "execute_result"
    },
    {
     "data": {
      "text/plain": [
       "eyal-vp1-il1-ex3.png\t\n"
      ]
     },
     "execution_count": 7,
     "metadata": {},
     "output_type": "execute_result"
    },
    {
     "data": {
      "text/plain": [
       "\n",
       "    840\n",
       " 180224\n",
       "[torch.LongStorage of size 2]\n",
       "\n",
       "amir2-vp2-il2-ex3.png\t\n"
      ]
     },
     "execution_count": 7,
     "metadata": {},
     "output_type": "execute_result"
    },
    {
     "data": {
      "text/plain": [
       "\n",
       "    840\n",
       " 180224\n",
       "[torch.LongStorage of size 2]\n",
       "\n",
       "menashe-vp0-il2-ex2.png\t\n"
      ]
     },
     "execution_count": 7,
     "metadata": {},
     "output_type": "execute_result"
    },
    {
     "data": {
      "text/plain": [
       "\n",
       "    840\n",
       " 180224\n",
       "[torch.LongStorage of size 2]\n",
       "\n"
      ]
     },
     "execution_count": 7,
     "metadata": {},
     "output_type": "execute_result"
    },
    {
     "data": {
      "text/plain": [
       "yaron-vp3-il0-ex2.png\t\n"
      ]
     },
     "execution_count": 7,
     "metadata": {},
     "output_type": "execute_result"
    },
    {
     "data": {
      "text/plain": [
       "\n",
       "    840\n",
       " 180224\n",
       "[torch.LongStorage of size 2]\n",
       "\n"
      ]
     },
     "execution_count": 7,
     "metadata": {},
     "output_type": "execute_result"
    },
    {
     "data": {
      "text/plain": [
       "amir-vp4-il2-ex3.png\t\n"
      ]
     },
     "execution_count": 7,
     "metadata": {},
     "output_type": "execute_result"
    },
    {
     "data": {
      "text/plain": [
       "\n",
       "    840\n",
       " 180224\n",
       "[torch.LongStorage of size 2]\n",
       "\n",
       "avishai-vp4-il1-ex3.png\t\n"
      ]
     },
     "execution_count": 7,
     "metadata": {},
     "output_type": "execute_result"
    },
    {
     "data": {
      "text/plain": [
       "\n",
       "    840\n",
       " 180224\n",
       "[torch.LongStorage of size 2]\n",
       "\n",
       "shabtai-vp0-il0-ex3.png\t\n"
      ]
     },
     "execution_count": 7,
     "metadata": {},
     "output_type": "execute_result"
    },
    {
     "data": {
      "text/plain": [
       "\n",
       "    840\n",
       " 180224\n",
       "[torch.LongStorage of size 2]\n",
       "\n"
      ]
     },
     "execution_count": 7,
     "metadata": {},
     "output_type": "execute_result"
    },
    {
     "data": {
      "text/plain": [
       "meir1-vp1-il1-ex2.png\t\n"
      ]
     },
     "execution_count": 7,
     "metadata": {},
     "output_type": "execute_result"
    },
    {
     "data": {
      "text/plain": [
       "\n",
       "    840\n",
       " 180224\n",
       "[torch.LongStorage of size 2]\n",
       "\n"
      ]
     },
     "execution_count": 7,
     "metadata": {},
     "output_type": "execute_result"
    },
    {
     "data": {
      "text/plain": [
       "uri-vp0-il0-ex3.png\t\n"
      ]
     },
     "execution_count": 7,
     "metadata": {},
     "output_type": "execute_result"
    },
    {
     "data": {
      "text/plain": [
       "\n",
       "    840\n",
       " 180224\n",
       "[torch.LongStorage of size 2]\n",
       "\n",
       "meir1-vp2-il1-ex3.png\t\n"
      ]
     },
     "execution_count": 7,
     "metadata": {},
     "output_type": "execute_result"
    },
    {
     "data": {
      "text/plain": [
       "\n",
       "    840\n",
       " 180224\n",
       "[torch.LongStorage of size 2]\n",
       "\n",
       "yakov-vp1-il2-ex3.png\t\n"
      ]
     },
     "execution_count": 7,
     "metadata": {},
     "output_type": "execute_result"
    },
    {
     "data": {
      "text/plain": [
       "\n",
       "    840\n",
       " 180224\n",
       "[torch.LongStorage of size 2]\n",
       "\n",
       "yishay-vp4-il2-ex2.png\t\n"
      ]
     },
     "execution_count": 7,
     "metadata": {},
     "output_type": "execute_result"
    },
    {
     "data": {
      "text/plain": [
       "\n",
       "    840\n",
       " 180224\n",
       "[torch.LongStorage of size 2]\n",
       "\n",
       "yishay-vp1-il0-ex3.png\t\n"
      ]
     },
     "execution_count": 7,
     "metadata": {},
     "output_type": "execute_result"
    },
    {
     "data": {
      "text/plain": [
       "\n",
       "    840\n",
       " 180224\n",
       "[torch.LongStorage of size 2]\n",
       "\n",
       "yishay-vp4-il0-ex3.png\t\n"
      ]
     },
     "execution_count": 7,
     "metadata": {},
     "output_type": "execute_result"
    },
    {
     "data": {
      "text/plain": [
       "\n",
       "    840\n",
       " 180224\n",
       "[torch.LongStorage of size 2]\n",
       "\n",
       "bruno-vp0-il0-ex3.png\t\n"
      ]
     },
     "execution_count": 7,
     "metadata": {},
     "output_type": "execute_result"
    },
    {
     "data": {
      "text/plain": [
       "\n",
       "    840\n",
       " 180224\n",
       "[torch.LongStorage of size 2]\n",
       "\n"
      ]
     },
     "execution_count": 7,
     "metadata": {},
     "output_type": "execute_result"
    },
    {
     "data": {
      "text/plain": [
       "huan1-vp2-il2-ex3.png\t\n"
      ]
     },
     "execution_count": 7,
     "metadata": {},
     "output_type": "execute_result"
    },
    {
     "data": {
      "text/plain": [
       "\n",
       "    840\n",
       " 180224\n",
       "[torch.LongStorage of size 2]\n",
       "\n"
      ]
     },
     "execution_count": 7,
     "metadata": {},
     "output_type": "execute_result"
    },
    {
     "data": {
      "text/plain": [
       "david-vp1-il2-ex2.png\t\n"
      ]
     },
     "execution_count": 7,
     "metadata": {},
     "output_type": "execute_result"
    },
    {
     "data": {
      "text/plain": [
       "\n",
       "    840\n",
       " 180224\n",
       "[torch.LongStorage of size 2]\n",
       "\n"
      ]
     },
     "execution_count": 7,
     "metadata": {},
     "output_type": "execute_result"
    },
    {
     "data": {
      "text/plain": [
       "eyal-vp4-il2-ex3.png\t\n"
      ]
     },
     "execution_count": 7,
     "metadata": {},
     "output_type": "execute_result"
    },
    {
     "data": {
      "text/plain": [
       "\n",
       "    840\n",
       " 180224\n",
       "[torch.LongStorage of size 2]\n",
       "\n",
       "eyal-vp2-il2-ex2.png\t\n"
      ]
     },
     "execution_count": 7,
     "metadata": {},
     "output_type": "execute_result"
    },
    {
     "data": {
      "text/plain": [
       "\n",
       "    840\n",
       " 180224\n",
       "[torch.LongStorage of size 2]\n",
       "\n"
      ]
     },
     "execution_count": 7,
     "metadata": {},
     "output_type": "execute_result"
    },
    {
     "data": {
      "text/plain": [
       "menashe-vp1-il0-ex2.png\t\n"
      ]
     },
     "execution_count": 7,
     "metadata": {},
     "output_type": "execute_result"
    },
    {
     "data": {
      "text/plain": [
       "\n",
       "    840\n",
       " 180224\n",
       "[torch.LongStorage of size 2]\n",
       "\n"
      ]
     },
     "execution_count": 7,
     "metadata": {},
     "output_type": "execute_result"
    },
    {
     "data": {
      "text/plain": [
       "moshe-vp0-il1-ex3.png\t\n"
      ]
     },
     "execution_count": 7,
     "metadata": {},
     "output_type": "execute_result"
    },
    {
     "data": {
      "text/plain": [
       "\n",
       "    840\n",
       " 180224\n",
       "[torch.LongStorage of size 2]\n",
       "\n",
       "yishay-vp1-il2-ex2.png\t\n"
      ]
     },
     "execution_count": 7,
     "metadata": {},
     "output_type": "execute_result"
    },
    {
     "data": {
      "text/plain": [
       "\n",
       "    840\n",
       " 180224\n",
       "[torch.LongStorage of size 2]\n",
       "\n",
       "menashe-vp4-il2-ex2.png\t\n"
      ]
     },
     "execution_count": 7,
     "metadata": {},
     "output_type": "execute_result"
    },
    {
     "data": {
      "text/plain": [
       "\n",
       "    840\n",
       " 180224\n",
       "[torch.LongStorage of size 2]\n",
       "\n",
       "eyal-vp0-il1-ex3.png\t\n"
      ]
     },
     "execution_count": 7,
     "metadata": {},
     "output_type": "execute_result"
    },
    {
     "data": {
      "text/plain": [
       "\n",
       "    840\n",
       " 180224\n",
       "[torch.LongStorage of size 2]\n",
       "\n",
       "tuvia-vp3-il2-ex2.png\t\n"
      ]
     },
     "execution_count": 7,
     "metadata": {},
     "output_type": "execute_result"
    },
    {
     "data": {
      "text/plain": [
       "\n",
       "    840\n",
       " 180224\n",
       "[torch.LongStorage of size 2]\n",
       "\n"
      ]
     },
     "execution_count": 7,
     "metadata": {},
     "output_type": "execute_result"
    },
    {
     "data": {
      "text/plain": [
       "moshe1-vp1-il0-ex3.png\t\n"
      ]
     },
     "execution_count": 7,
     "metadata": {},
     "output_type": "execute_result"
    },
    {
     "data": {
      "text/plain": [
       "\n",
       "    840\n",
       " 180224\n",
       "[torch.LongStorage of size 2]\n",
       "\n",
       "avishai-vp2-il0-ex3.png\t\n"
      ]
     },
     "execution_count": 7,
     "metadata": {},
     "output_type": "execute_result"
    },
    {
     "data": {
      "text/plain": [
       "\n",
       "    840\n",
       " 180224\n",
       "[torch.LongStorage of size 2]\n",
       "\n",
       "amir-vp4-il0-ex3.png\t\n"
      ]
     },
     "execution_count": 7,
     "metadata": {},
     "output_type": "execute_result"
    },
    {
     "data": {
      "text/plain": [
       "\n",
       "    840\n",
       " 180224\n",
       "[torch.LongStorage of size 2]\n",
       "\n"
      ]
     },
     "execution_count": 7,
     "metadata": {},
     "output_type": "execute_result"
    },
    {
     "data": {
      "text/plain": [
       "amir1-vp1-il2-ex3.png\t\n"
      ]
     },
     "execution_count": 7,
     "metadata": {},
     "output_type": "execute_result"
    },
    {
     "data": {
      "text/plain": [
       "\n",
       "    840\n",
       " 180224\n",
       "[torch.LongStorage of size 2]\n",
       "\n"
      ]
     },
     "execution_count": 7,
     "metadata": {},
     "output_type": "execute_result"
    },
    {
     "data": {
      "text/plain": [
       "yaron-vp3-il2-ex3.png\t\n"
      ]
     },
     "execution_count": 7,
     "metadata": {},
     "output_type": "execute_result"
    },
    {
     "data": {
      "text/plain": [
       "\n",
       "    840\n",
       " 180224\n",
       "[torch.LongStorage of size 2]\n",
       "\n"
      ]
     },
     "execution_count": 7,
     "metadata": {},
     "output_type": "execute_result"
    },
    {
     "data": {
      "text/plain": [
       "avidan-vp3-il1-ex2.png\t\n"
      ]
     },
     "execution_count": 7,
     "metadata": {},
     "output_type": "execute_result"
    },
    {
     "data": {
      "text/plain": [
       "\n",
       "    840\n",
       " 180224\n",
       "[torch.LongStorage of size 2]\n",
       "\n"
      ]
     },
     "execution_count": 7,
     "metadata": {},
     "output_type": "execute_result"
    },
    {
     "data": {
      "text/plain": [
       "meir1-vp1-il2-ex3.png\t\n"
      ]
     },
     "execution_count": 7,
     "metadata": {},
     "output_type": "execute_result"
    },
    {
     "data": {
      "text/plain": [
       "\n",
       "    840\n",
       " 180224\n",
       "[torch.LongStorage of size 2]\n",
       "\n"
      ]
     },
     "execution_count": 7,
     "metadata": {},
     "output_type": "execute_result"
    },
    {
     "data": {
      "text/plain": [
       "shabtai-vp4-il1-ex3.png\t\n"
      ]
     },
     "execution_count": 7,
     "metadata": {},
     "output_type": "execute_result"
    },
    {
     "data": {
      "text/plain": [
       "\n",
       "    840\n",
       " 180224\n",
       "[torch.LongStorage of size 2]\n",
       "\n"
      ]
     },
     "execution_count": 7,
     "metadata": {},
     "output_type": "execute_result"
    },
    {
     "data": {
      "text/plain": [
       "meir-vp1-il0-ex2.png\t\n"
      ]
     },
     "execution_count": 7,
     "metadata": {},
     "output_type": "execute_result"
    },
    {
     "data": {
      "text/plain": [
       "\n",
       "    840\n",
       " 180224\n",
       "[torch.LongStorage of size 2]\n",
       "\n",
       "yishay-vp2-il2-ex3.png\t\n"
      ]
     },
     "execution_count": 7,
     "metadata": {},
     "output_type": "execute_result"
    },
    {
     "data": {
      "text/plain": [
       "\n",
       "    840\n",
       " 180224\n",
       "[torch.LongStorage of size 2]\n",
       "\n",
       "yishay-vp2-il1-ex2.png\t\n"
      ]
     },
     "execution_count": 7,
     "metadata": {},
     "output_type": "execute_result"
    },
    {
     "data": {
      "text/plain": [
       "\n",
       "    840\n",
       " 180224\n",
       "[torch.LongStorage of size 2]\n",
       "\n"
      ]
     },
     "execution_count": 7,
     "metadata": {},
     "output_type": "execute_result"
    },
    {
     "data": {
      "text/plain": [
       "menashe-vp1-il1-ex2.png\t\n"
      ]
     },
     "execution_count": 7,
     "metadata": {},
     "output_type": "execute_result"
    },
    {
     "data": {
      "text/plain": [
       "\n",
       "    840\n",
       " 180224\n",
       "[torch.LongStorage of size 2]\n",
       "\n",
       "moshe1-vp1-il2-ex2.png\t\n"
      ]
     },
     "execution_count": 7,
     "metadata": {},
     "output_type": "execute_result"
    },
    {
     "data": {
      "text/plain": [
       "\n",
       "    840\n",
       " 180224\n",
       "[torch.LongStorage of size 2]\n",
       "\n",
       "amir1-vp2-il0-ex3.png\t\n"
      ]
     },
     "execution_count": 7,
     "metadata": {},
     "output_type": "execute_result"
    },
    {
     "data": {
      "text/plain": [
       "\n",
       "    840\n",
       " 180224\n",
       "[torch.LongStorage of size 2]\n",
       "\n",
       "tuvia-vp2-il2-ex3.png\t\n"
      ]
     },
     "execution_count": 7,
     "metadata": {},
     "output_type": "execute_result"
    },
    {
     "data": {
      "text/plain": [
       "\n",
       "    840\n",
       " 180224\n",
       "[torch.LongStorage of size 2]\n",
       "\n",
       "dani-vp1-il1-ex3.png\t\n"
      ]
     },
     "execution_count": 7,
     "metadata": {},
     "output_type": "execute_result"
    },
    {
     "data": {
      "text/plain": [
       "\n",
       "    840\n",
       " 180224\n",
       "[torch.LongStorage of size 2]\n",
       "\n"
      ]
     },
     "execution_count": 7,
     "metadata": {},
     "output_type": "execute_result"
    },
    {
     "data": {
      "text/plain": [
       "edelman-vp1-il0-ex2.png\t\n"
      ]
     },
     "execution_count": 7,
     "metadata": {},
     "output_type": "execute_result"
    },
    {
     "data": {
      "text/plain": [
       "\n",
       "    840\n",
       " 180224\n",
       "[torch.LongStorage of size 2]\n",
       "\n"
      ]
     },
     "execution_count": 7,
     "metadata": {},
     "output_type": "execute_result"
    },
    {
     "data": {
      "text/plain": [
       "yishay-vp0-il1-ex3.png\t\n"
      ]
     },
     "execution_count": 7,
     "metadata": {},
     "output_type": "execute_result"
    },
    {
     "data": {
      "text/plain": [
       "\n",
       "    840\n",
       " 180224\n",
       "[torch.LongStorage of size 2]\n",
       "\n"
      ]
     },
     "execution_count": 7,
     "metadata": {},
     "output_type": "execute_result"
    },
    {
     "data": {
      "text/plain": [
       "huan1-vp4-il0-ex3.png\t\n"
      ]
     },
     "execution_count": 7,
     "metadata": {},
     "output_type": "execute_result"
    },
    {
     "data": {
      "text/plain": [
       "\n",
       "    840\n",
       " 180224\n",
       "[torch.LongStorage of size 2]\n",
       "\n",
       "inon1-vp1-il2-ex2.png\t\n"
      ]
     },
     "execution_count": 7,
     "metadata": {},
     "output_type": "execute_result"
    },
    {
     "data": {
      "text/plain": [
       "\n",
       "    840\n",
       " 180224\n",
       "[torch.LongStorage of size 2]\n",
       "\n"
      ]
     },
     "execution_count": 7,
     "metadata": {},
     "output_type": "execute_result"
    },
    {
     "data": {
      "text/plain": [
       "yaron-vp3-il0-ex3.png\t\n"
      ]
     },
     "execution_count": 7,
     "metadata": {},
     "output_type": "execute_result"
    },
    {
     "data": {
      "text/plain": [
       "\n",
       "    840\n",
       " 180224\n",
       "[torch.LongStorage of size 2]\n",
       "\n",
       "uri-vp4-il0-ex2.png\t\n"
      ]
     },
     "execution_count": 7,
     "metadata": {},
     "output_type": "execute_result"
    },
    {
     "data": {
      "text/plain": [
       "\n",
       "    840\n",
       " 180224\n",
       "[torch.LongStorage of size 2]\n",
       "\n",
       "yishay-vp1-il2-ex3.png\t\n"
      ]
     },
     "execution_count": 7,
     "metadata": {},
     "output_type": "execute_result"
    },
    {
     "data": {
      "text/plain": [
       "\n",
       "    840\n",
       " 180224\n",
       "[torch.LongStorage of size 2]\n",
       "\n",
       "avishai-vp0-il2-ex3.png\t\n"
      ]
     },
     "execution_count": 7,
     "metadata": {},
     "output_type": "execute_result"
    },
    {
     "data": {
      "text/plain": [
       "\n",
       "    840\n",
       " 180224\n",
       "[torch.LongStorage of size 2]\n",
       "\n",
       "eyal-vp4-il0-ex3.png\t\n"
      ]
     },
     "execution_count": 7,
     "metadata": {},
     "output_type": "execute_result"
    },
    {
     "data": {
      "text/plain": [
       "\n",
       "    840\n",
       " 180224\n",
       "[torch.LongStorage of size 2]\n",
       "\n"
      ]
     },
     "execution_count": 7,
     "metadata": {},
     "output_type": "execute_result"
    },
    {
     "data": {
      "text/plain": [
       "yishay-vp0-il1-ex2.png\t\n"
      ]
     },
     "execution_count": 7,
     "metadata": {},
     "output_type": "execute_result"
    },
    {
     "data": {
      "text/plain": [
       "\n",
       "    840\n",
       " 180224\n",
       "[torch.LongStorage of size 2]\n",
       "\n",
       "dani-vp1-il0-ex3.png\t\n"
      ]
     },
     "execution_count": 7,
     "metadata": {},
     "output_type": "execute_result"
    },
    {
     "data": {
      "text/plain": [
       "\n",
       "    840\n",
       " 180224\n",
       "[torch.LongStorage of size 2]\n",
       "\n",
       "eyal-vp2-il1-ex3.png\t\n"
      ]
     },
     "execution_count": 7,
     "metadata": {},
     "output_type": "execute_result"
    },
    {
     "data": {
      "text/plain": [
       "\n",
       "    840\n",
       " 180224\n",
       "[torch.LongStorage of size 2]\n",
       "\n"
      ]
     },
     "execution_count": 7,
     "metadata": {},
     "output_type": "execute_result"
    },
    {
     "data": {
      "text/plain": [
       "inon1-vp3-il2-ex3.png\t\n"
      ]
     },
     "execution_count": 7,
     "metadata": {},
     "output_type": "execute_result"
    },
    {
     "data": {
      "text/plain": [
       "\n",
       "    840\n",
       " 180224\n",
       "[torch.LongStorage of size 2]\n",
       "\n"
      ]
     },
     "execution_count": 7,
     "metadata": {},
     "output_type": "execute_result"
    },
    {
     "data": {
      "text/plain": [
       "inon1-vp3-il1-ex2.png\t\n"
      ]
     },
     "execution_count": 7,
     "metadata": {},
     "output_type": "execute_result"
    },
    {
     "data": {
      "text/plain": [
       "\n",
       "    840\n",
       " 180224\n",
       "[torch.LongStorage of size 2]\n",
       "\n"
      ]
     },
     "execution_count": 7,
     "metadata": {},
     "output_type": "execute_result"
    },
    {
     "data": {
      "text/plain": [
       "amir1-vp2-il1-ex2.png\t\n"
      ]
     },
     "execution_count": 7,
     "metadata": {},
     "output_type": "execute_result"
    },
    {
     "data": {
      "text/plain": [
       "\n",
       "    840\n",
       " 180224\n",
       "[torch.LongStorage of size 2]\n",
       "\n",
       "david-vp2-il1-ex2.png\t\n"
      ]
     },
     "execution_count": 7,
     "metadata": {},
     "output_type": "execute_result"
    },
    {
     "data": {
      "text/plain": [
       "\n",
       "    840\n",
       " 180224\n",
       "[torch.LongStorage of size 2]\n",
       "\n"
      ]
     },
     "execution_count": 7,
     "metadata": {},
     "output_type": "execute_result"
    },
    {
     "data": {
      "text/plain": [
       "tuvia-vp4-il0-ex2.png\t\n"
      ]
     },
     "execution_count": 7,
     "metadata": {},
     "output_type": "execute_result"
    },
    {
     "data": {
      "text/plain": [
       "\n",
       "    840\n",
       " 180224\n",
       "[torch.LongStorage of size 2]\n",
       "\n"
      ]
     },
     "execution_count": 7,
     "metadata": {},
     "output_type": "execute_result"
    },
    {
     "data": {
      "text/plain": [
       "eli-vp3-il0-ex3.png\t\n"
      ]
     },
     "execution_count": 7,
     "metadata": {},
     "output_type": "execute_result"
    },
    {
     "data": {
      "text/plain": [
       "\n",
       "    840\n",
       " 180224\n",
       "[torch.LongStorage of size 2]\n",
       "\n"
      ]
     },
     "execution_count": 7,
     "metadata": {},
     "output_type": "execute_result"
    },
    {
     "data": {
      "text/plain": [
       "yakov-vp2-il2-ex3.png\t\n"
      ]
     },
     "execution_count": 7,
     "metadata": {},
     "output_type": "execute_result"
    },
    {
     "data": {
      "text/plain": [
       "\n",
       "    840\n",
       " 180224\n",
       "[torch.LongStorage of size 2]\n",
       "\n",
       "tuvia-vp2-il1-ex3.png\t\n"
      ]
     },
     "execution_count": 7,
     "metadata": {},
     "output_type": "execute_result"
    },
    {
     "data": {
      "text/plain": [
       "\n",
       "    840\n",
       " 180224\n",
       "[torch.LongStorage of size 2]\n",
       "\n",
       "goel-vp4-il2-ex3.png\t\n"
      ]
     },
     "execution_count": 7,
     "metadata": {},
     "output_type": "execute_result"
    },
    {
     "data": {
      "text/plain": [
       "\n",
       "    840\n",
       " 180224\n",
       "[torch.LongStorage of size 2]\n",
       "\n",
       "amir1-vp0-il1-ex2.png\t\n"
      ]
     },
     "execution_count": 7,
     "metadata": {},
     "output_type": "execute_result"
    },
    {
     "data": {
      "text/plain": [
       "\n",
       "    840\n",
       " 180224\n",
       "[torch.LongStorage of size 2]\n",
       "\n",
       "edelman-vp0-il1-ex2.png\t\n"
      ]
     },
     "execution_count": 7,
     "metadata": {},
     "output_type": "execute_result"
    },
    {
     "data": {
      "text/plain": [
       "\n",
       "    840\n",
       " 180224\n",
       "[torch.LongStorage of size 2]\n",
       "\n",
       "yakov-vp3-il2-ex2.png\t\n"
      ]
     },
     "execution_count": 7,
     "metadata": {},
     "output_type": "execute_result"
    },
    {
     "data": {
      "text/plain": [
       "\n",
       "    840\n",
       " 180224\n",
       "[torch.LongStorage of size 2]\n",
       "\n",
       "meir1-vp2-il2-ex2.png\t\n"
      ]
     },
     "execution_count": 7,
     "metadata": {},
     "output_type": "execute_result"
    },
    {
     "data": {
      "text/plain": [
       "\n",
       "    840\n",
       " 180224\n",
       "[torch.LongStorage of size 2]\n",
       "\n"
      ]
     },
     "execution_count": 7,
     "metadata": {},
     "output_type": "execute_result"
    },
    {
     "data": {
      "text/plain": [
       "moshe1-vp3-il2-ex3.png\t\n"
      ]
     },
     "execution_count": 7,
     "metadata": {},
     "output_type": "execute_result"
    },
    {
     "data": {
      "text/plain": [
       "\n",
       "    840\n",
       " 180224\n",
       "[torch.LongStorage of size 2]\n",
       "\n"
      ]
     },
     "execution_count": 7,
     "metadata": {},
     "output_type": "execute_result"
    },
    {
     "data": {
      "text/plain": [
       "uri-vp4-il2-ex3.png\t\n"
      ]
     },
     "execution_count": 7,
     "metadata": {},
     "output_type": "execute_result"
    },
    {
     "data": {
      "text/plain": [
       "\n",
       "    840\n",
       " 180224\n",
       "[torch.LongStorage of size 2]\n",
       "\n"
      ]
     },
     "execution_count": 7,
     "metadata": {},
     "output_type": "execute_result"
    },
    {
     "data": {
      "text/plain": [
       "edelman-vp1-il0-ex3.png\t\n"
      ]
     },
     "execution_count": 7,
     "metadata": {},
     "output_type": "execute_result"
    },
    {
     "data": {
      "text/plain": [
       "\n",
       "    840\n",
       " 180224\n",
       "[torch.LongStorage of size 2]\n",
       "\n"
      ]
     },
     "execution_count": 7,
     "metadata": {},
     "output_type": "execute_result"
    },
    {
     "data": {
      "text/plain": [
       "david-vp3-il0-ex3.png\t\n"
      ]
     },
     "execution_count": 7,
     "metadata": {},
     "output_type": "execute_result"
    },
    {
     "data": {
      "text/plain": [
       "\n",
       "    840\n",
       " 180224\n",
       "[torch.LongStorage of size 2]\n",
       "\n"
      ]
     },
     "execution_count": 7,
     "metadata": {},
     "output_type": "execute_result"
    },
    {
     "data": {
      "text/plain": [
       "yishay-vp2-il0-ex2.png\t\n"
      ]
     },
     "execution_count": 7,
     "metadata": {},
     "output_type": "execute_result"
    },
    {
     "data": {
      "text/plain": [
       "\n",
       "    840\n",
       " 180224\n",
       "[torch.LongStorage of size 2]\n",
       "\n"
      ]
     },
     "execution_count": 7,
     "metadata": {},
     "output_type": "execute_result"
    },
    {
     "data": {
      "text/plain": [
       "moshe-vp0-il2-ex3.png\t\n"
      ]
     },
     "execution_count": 7,
     "metadata": {},
     "output_type": "execute_result"
    },
    {
     "data": {
      "text/plain": [
       "\n",
       "    840\n",
       " 180224\n",
       "[torch.LongStorage of size 2]\n",
       "\n",
       "amir-vp0-il2-ex2.png\t\n"
      ]
     },
     "execution_count": 7,
     "metadata": {},
     "output_type": "execute_result"
    },
    {
     "data": {
      "text/plain": [
       "\n",
       "    840\n",
       " 180224\n",
       "[torch.LongStorage of size 2]\n",
       "\n",
       "yaron-vp3-il1-ex2.png\t\n"
      ]
     },
     "execution_count": 7,
     "metadata": {},
     "output_type": "execute_result"
    },
    {
     "data": {
      "text/plain": [
       "\n",
       "    840\n",
       " 180224\n",
       "[torch.LongStorage of size 2]\n",
       "\n",
       "avidan-vp1-il1-ex2.png\t\n"
      ]
     },
     "execution_count": 7,
     "metadata": {},
     "output_type": "execute_result"
    },
    {
     "data": {
      "text/plain": [
       "\n",
       "    840\n",
       " 180224\n",
       "[torch.LongStorage of size 2]\n",
       "\n"
      ]
     },
     "execution_count": 7,
     "metadata": {},
     "output_type": "execute_result"
    },
    {
     "data": {
      "text/plain": [
       "avishai-vp4-il2-ex3.png\t\n"
      ]
     },
     "execution_count": 7,
     "metadata": {},
     "output_type": "execute_result"
    },
    {
     "data": {
      "text/plain": [
       "\n",
       "    840\n",
       " 180224\n",
       "[torch.LongStorage of size 2]\n",
       "\n",
       "yishay-vp0-il2-ex3.png\t\n"
      ]
     },
     "execution_count": 7,
     "metadata": {},
     "output_type": "execute_result"
    },
    {
     "data": {
      "text/plain": [
       "\n",
       "    840\n",
       " 180224\n",
       "[torch.LongStorage of size 2]\n",
       "\n",
       "moshe-vp1-il1-ex3.png\t\n"
      ]
     },
     "execution_count": 7,
     "metadata": {},
     "output_type": "execute_result"
    },
    {
     "data": {
      "text/plain": [
       "\n",
       "    840\n",
       " 180224\n",
       "[torch.LongStorage of size 2]\n",
       "\n"
      ]
     },
     "execution_count": 7,
     "metadata": {},
     "output_type": "execute_result"
    },
    {
     "data": {
      "text/plain": [
       "meir-vp0-il0-ex3.png\t\n"
      ]
     },
     "execution_count": 7,
     "metadata": {},
     "output_type": "execute_result"
    },
    {
     "data": {
      "text/plain": [
       "\n",
       "    840\n",
       " 180224\n",
       "[torch.LongStorage of size 2]\n",
       "\n"
      ]
     },
     "execution_count": 7,
     "metadata": {},
     "output_type": "execute_result"
    },
    {
     "data": {
      "text/plain": [
       "avidan-vp3-il0-ex3.png\t\n"
      ]
     },
     "execution_count": 7,
     "metadata": {},
     "output_type": "execute_result"
    },
    {
     "data": {
      "text/plain": [
       "\n",
       "    840\n",
       " 180224\n",
       "[torch.LongStorage of size 2]\n",
       "\n",
       "amir1-vp4-il0-ex2.png\t\n"
      ]
     },
     "execution_count": 7,
     "metadata": {},
     "output_type": "execute_result"
    },
    {
     "data": {
      "text/plain": [
       "\n",
       "    840\n",
       " 180224\n",
       "[torch.LongStorage of size 2]\n",
       "\n"
      ]
     },
     "execution_count": 7,
     "metadata": {},
     "output_type": "execute_result"
    },
    {
     "data": {
      "text/plain": [
       "yakov-vp3-il1-ex2.png\t\n"
      ]
     },
     "execution_count": 7,
     "metadata": {},
     "output_type": "execute_result"
    },
    {
     "data": {
      "text/plain": [
       "\n",
       "    840\n",
       " 180224\n",
       "[torch.LongStorage of size 2]\n",
       "\n",
       "inon1-vp4-il1-ex2.png\t\n"
      ]
     },
     "execution_count": 7,
     "metadata": {},
     "output_type": "execute_result"
    },
    {
     "data": {
      "text/plain": [
       "\n",
       "    840\n",
       " 180224\n",
       "[torch.LongStorage of size 2]\n",
       "\n",
       "dani-vp1-il2-ex3.png\t\n"
      ]
     },
     "execution_count": 7,
     "metadata": {},
     "output_type": "execute_result"
    },
    {
     "data": {
      "text/plain": [
       "\n",
       "    840\n",
       " 180224\n",
       "[torch.LongStorage of size 2]\n",
       "\n",
       "yaron-vp1-il1-ex3.png\t\n"
      ]
     },
     "execution_count": 7,
     "metadata": {},
     "output_type": "execute_result"
    },
    {
     "data": {
      "text/plain": [
       "\n",
       "    840\n",
       " 180224\n",
       "[torch.LongStorage of size 2]\n",
       "\n",
       "amir2-vp2-il1-ex3.png\t\n"
      ]
     },
     "execution_count": 7,
     "metadata": {},
     "output_type": "execute_result"
    },
    {
     "data": {
      "text/plain": [
       "\n",
       "    840\n",
       " 180224\n",
       "[torch.LongStorage of size 2]\n",
       "\n",
       "inon1-vp2-il0-ex3.png\t\n"
      ]
     },
     "execution_count": 7,
     "metadata": {},
     "output_type": "execute_result"
    },
    {
     "data": {
      "text/plain": [
       "\n",
       "    840\n",
       " 180224\n",
       "[torch.LongStorage of size 2]\n",
       "\n",
       "moshe1-vp2-il2-ex2.png\t\n"
      ]
     },
     "execution_count": 7,
     "metadata": {},
     "output_type": "execute_result"
    },
    {
     "data": {
      "text/plain": [
       "\n",
       "    840\n",
       " 180224\n",
       "[torch.LongStorage of size 2]\n",
       "\n"
      ]
     },
     "execution_count": 7,
     "metadata": {},
     "output_type": "execute_result"
    },
    {
     "data": {
      "text/plain": [
       "dani-vp4-il2-ex2.png\t\n"
      ]
     },
     "execution_count": 7,
     "metadata": {},
     "output_type": "execute_result"
    },
    {
     "data": {
      "text/plain": [
       "\n",
       "    840\n",
       " 180224\n",
       "[torch.LongStorage of size 2]\n",
       "\n",
       "amir-vp3-il0-ex2.png\t\n"
      ]
     },
     "execution_count": 7,
     "metadata": {},
     "output_type": "execute_result"
    },
    {
     "data": {
      "text/plain": [
       "\n",
       "    840\n",
       " 180224\n",
       "[torch.LongStorage of size 2]\n",
       "\n"
      ]
     },
     "execution_count": 7,
     "metadata": {},
     "output_type": "execute_result"
    },
    {
     "data": {
      "text/plain": [
       "edelman-vp0-il0-ex2.png\t\n"
      ]
     },
     "execution_count": 7,
     "metadata": {},
     "output_type": "execute_result"
    },
    {
     "data": {
      "text/plain": [
       "\n",
       "    840\n",
       " 180224\n",
       "[torch.LongStorage of size 2]\n",
       "\n"
      ]
     },
     "execution_count": 7,
     "metadata": {},
     "output_type": "execute_result"
    },
    {
     "data": {
      "text/plain": [
       "yakov-vp4-il1-ex2.png\t\n"
      ]
     },
     "execution_count": 7,
     "metadata": {},
     "output_type": "execute_result"
    },
    {
     "data": {
      "text/plain": [
       "\n",
       "    840\n",
       " 180224\n",
       "[torch.LongStorage of size 2]\n",
       "\n"
      ]
     },
     "execution_count": 7,
     "metadata": {},
     "output_type": "execute_result"
    },
    {
     "data": {
      "text/plain": [
       "avishai-vp1-il2-ex3.png\t\n"
      ]
     },
     "execution_count": 7,
     "metadata": {},
     "output_type": "execute_result"
    },
    {
     "data": {
      "text/plain": [
       "\n",
       "    840\n",
       " 180224\n",
       "[torch.LongStorage of size 2]\n",
       "\n"
      ]
     },
     "execution_count": 7,
     "metadata": {},
     "output_type": "execute_result"
    },
    {
     "data": {
      "text/plain": [
       "shmuel-vp1-il0-ex3.png\t\n"
      ]
     },
     "execution_count": 7,
     "metadata": {},
     "output_type": "execute_result"
    },
    {
     "data": {
      "text/plain": [
       "\n",
       "    840\n",
       " 180224\n",
       "[torch.LongStorage of size 2]\n",
       "\n",
       "huan1-vp2-il0-ex3.png\t"
      ]
     },
     "execution_count": 7,
     "metadata": {},
     "output_type": "execute_result"
    },
    {
     "data": {
      "text/plain": [
       "\n"
      ]
     },
     "execution_count": 7,
     "metadata": {},
     "output_type": "execute_result"
    },
    {
     "data": {
      "text/plain": [
       "\n",
       "    840\n",
       " 180224\n",
       "[torch.LongStorage of size 2]\n",
       "\n",
       "huan1-vp4-il1-ex2.png\t\n"
      ]
     },
     "execution_count": 7,
     "metadata": {},
     "output_type": "execute_result"
    },
    {
     "data": {
      "text/plain": [
       "\n",
       "    840\n",
       " 180224\n",
       "[torch.LongStorage of size 2]\n",
       "\n"
      ]
     },
     "execution_count": 7,
     "metadata": {},
     "output_type": "execute_result"
    },
    {
     "data": {
      "text/plain": [
       "david-vp3-il2-ex3.png\t\n"
      ]
     },
     "execution_count": 7,
     "metadata": {},
     "output_type": "execute_result"
    },
    {
     "data": {
      "text/plain": [
       "\n",
       "    840\n",
       " 180224\n",
       "[torch.LongStorage of size 2]\n",
       "\n"
      ]
     },
     "execution_count": 7,
     "metadata": {},
     "output_type": "execute_result"
    },
    {
     "data": {
      "text/plain": [
       "amit-vp3-il0-ex3.png\t\n"
      ]
     },
     "execution_count": 7,
     "metadata": {},
     "output_type": "execute_result"
    },
    {
     "data": {
      "text/plain": [
       "\n",
       "    840\n",
       " 180224\n",
       "[torch.LongStorage of size 2]\n",
       "\n",
       "moshe-vp0-il0-ex2.png\t\n"
      ]
     },
     "execution_count": 7,
     "metadata": {},
     "output_type": "execute_result"
    },
    {
     "data": {
      "text/plain": [
       "\n",
       "    840\n",
       " 180224\n",
       "[torch.LongStorage of size 2]\n",
       "\n",
       "huan1-vp3-il1-ex3.png\t\n"
      ]
     },
     "execution_count": 7,
     "metadata": {},
     "output_type": "execute_result"
    },
    {
     "data": {
      "text/plain": [
       "\n",
       "    840\n",
       " 180224\n",
       "[torch.LongStorage of size 2]\n",
       "\n"
      ]
     },
     "execution_count": 7,
     "metadata": {},
     "output_type": "execute_result"
    },
    {
     "data": {
      "text/plain": [
       "huan-vp2-il1-ex3.png\t\n"
      ]
     },
     "execution_count": 7,
     "metadata": {},
     "output_type": "execute_result"
    },
    {
     "data": {
      "text/plain": [
       "\n",
       "    840\n",
       " 180224\n",
       "[torch.LongStorage of size 2]\n",
       "\n",
       "meir1-vp4-il1-ex2.png\t\n"
      ]
     },
     "execution_count": 7,
     "metadata": {},
     "output_type": "execute_result"
    },
    {
     "data": {
      "text/plain": [
       "\n",
       "    840\n",
       " 180224\n",
       "[torch.LongStorage of size 2]\n",
       "\n",
       "meir1-vp3-il1-ex3.png\t\n"
      ]
     },
     "execution_count": 7,
     "metadata": {},
     "output_type": "execute_result"
    },
    {
     "data": {
      "text/plain": [
       "\n",
       "    840\n",
       " 180224\n",
       "[torch.LongStorage of size 2]\n",
       "\n"
      ]
     },
     "execution_count": 7,
     "metadata": {},
     "output_type": "execute_result"
    },
    {
     "data": {
      "text/plain": [
       "menashe-vp4-il1-ex3.png\t\n"
      ]
     },
     "execution_count": 7,
     "metadata": {},
     "output_type": "execute_result"
    },
    {
     "data": {
      "text/plain": [
       "\n",
       "    840\n",
       " 180224\n",
       "[torch.LongStorage of size 2]\n",
       "\n",
       "eli-vp2-il1-ex3.png\t\n"
      ]
     },
     "execution_count": 7,
     "metadata": {},
     "output_type": "execute_result"
    },
    {
     "data": {
      "text/plain": [
       "\n",
       "    840\n",
       " 180224\n",
       "[torch.LongStorage of size 2]\n",
       "\n"
      ]
     },
     "execution_count": 7,
     "metadata": {},
     "output_type": "execute_result"
    },
    {
     "data": {
      "text/plain": [
       "david-vp4-il0-ex3.png\t\n"
      ]
     },
     "execution_count": 7,
     "metadata": {},
     "output_type": "execute_result"
    },
    {
     "data": {
      "text/plain": [
       "\n",
       "    840\n",
       " 180224\n",
       "[torch.LongStorage of size 2]\n",
       "\n"
      ]
     },
     "execution_count": 7,
     "metadata": {},
     "output_type": "execute_result"
    },
    {
     "data": {
      "text/plain": [
       "inon1-vp2-il2-ex3.png\t\n"
      ]
     },
     "execution_count": 7,
     "metadata": {},
     "output_type": "execute_result"
    },
    {
     "data": {
      "text/plain": [
       "\n",
       "    840\n",
       " 180224\n",
       "[torch.LongStorage of size 2]\n",
       "\n"
      ]
     },
     "execution_count": 7,
     "metadata": {},
     "output_type": "execute_result"
    },
    {
     "data": {
      "text/plain": [
       "eyal-vp3-il1-ex3.png\t\n"
      ]
     },
     "execution_count": 7,
     "metadata": {},
     "output_type": "execute_result"
    },
    {
     "data": {
      "text/plain": [
       "\n",
       "    840\n",
       " 180224\n",
       "[torch.LongStorage of size 2]\n",
       "\n"
      ]
     },
     "execution_count": 7,
     "metadata": {},
     "output_type": "execute_result"
    },
    {
     "data": {
      "text/plain": [
       "inon1-vp0-il1-ex3.png\t\n"
      ]
     },
     "execution_count": 7,
     "metadata": {},
     "output_type": "execute_result"
    },
    {
     "data": {
      "text/plain": [
       "\n",
       "    840\n",
       " 180224\n",
       "[torch.LongStorage of size 2]\n",
       "\n"
      ]
     },
     "execution_count": 7,
     "metadata": {},
     "output_type": "execute_result"
    },
    {
     "data": {
      "text/plain": [
       "uri-vp3-il2-ex2.png\t\n"
      ]
     },
     "execution_count": 7,
     "metadata": {},
     "output_type": "execute_result"
    },
    {
     "data": {
      "text/plain": [
       "\n",
       "    840\n",
       " 180224\n",
       "[torch.LongStorage of size 2]\n",
       "\n",
       "meir-vp3-il1-ex3.png\t\n"
      ]
     },
     "execution_count": 7,
     "metadata": {},
     "output_type": "execute_result"
    },
    {
     "data": {
      "text/plain": [
       "\n",
       "    840\n",
       " 180224\n",
       "[torch.LongStorage of size 2]\n",
       "\n",
       "amir2-vp2-il2-ex2.png\t\n"
      ]
     },
     "execution_count": 7,
     "metadata": {},
     "output_type": "execute_result"
    },
    {
     "data": {
      "text/plain": [
       "\n",
       "    840\n",
       " 180224\n",
       "[torch.LongStorage of size 2]\n",
       "\n",
       "yakov-vp4-il0-ex2.png\t\n"
      ]
     },
     "execution_count": 7,
     "metadata": {},
     "output_type": "execute_result"
    },
    {
     "data": {
      "text/plain": [
       "\n",
       "    840\n",
       " 180224\n",
       "[torch.LongStorage of size 2]\n",
       "\n",
       "meir1-vp2-il0-ex3.png\t\n"
      ]
     },
     "execution_count": 7,
     "metadata": {},
     "output_type": "execute_result"
    },
    {
     "data": {
      "text/plain": [
       "\n",
       "    840\n",
       " 180224\n",
       "[torch.LongStorage of size 2]\n",
       "\n",
       "eli-vp4-il1-ex3.png\t\n"
      ]
     },
     "execution_count": 7,
     "metadata": {},
     "output_type": "execute_result"
    },
    {
     "data": {
      "text/plain": [
       "\n",
       "    840\n",
       " 180224\n",
       "[torch.LongStorage of size 2]\n",
       "\n",
       "avidan-vp3-il2-ex2.png\t\n"
      ]
     },
     "execution_count": 7,
     "metadata": {},
     "output_type": "execute_result"
    },
    {
     "data": {
      "text/plain": [
       "\n",
       "    840\n",
       " 180224\n",
       "[torch.LongStorage of size 2]\n",
       "\n"
      ]
     },
     "execution_count": 7,
     "metadata": {},
     "output_type": "execute_result"
    },
    {
     "data": {
      "text/plain": [
       "moshe-vp2-il1-ex3.png\t\n"
      ]
     },
     "execution_count": 7,
     "metadata": {},
     "output_type": "execute_result"
    },
    {
     "data": {
      "text/plain": [
       "\n",
       "    840\n",
       " 180224\n",
       "[torch.LongStorage of size 2]\n",
       "\n",
       "avishai-vp4-il0-ex2.png\t\n"
      ]
     },
     "execution_count": 7,
     "metadata": {},
     "output_type": "execute_result"
    },
    {
     "data": {
      "text/plain": [
       "\n",
       "    840\n",
       " 180224\n",
       "[torch.LongStorage of size 2]\n",
       "\n"
      ]
     },
     "execution_count": 7,
     "metadata": {},
     "output_type": "execute_result"
    },
    {
     "data": {
      "text/plain": [
       "amir1-vp1-il0-ex2.png\t\n"
      ]
     },
     "execution_count": 7,
     "metadata": {},
     "output_type": "execute_result"
    },
    {
     "data": {
      "text/plain": [
       "\n",
       "    840\n",
       " 180224\n",
       "[torch.LongStorage of size 2]\n",
       "\n",
       "shmuel-vp2-il1-ex3.png\t\n"
      ]
     },
     "execution_count": 7,
     "metadata": {},
     "output_type": "execute_result"
    },
    {
     "data": {
      "text/plain": [
       "\n",
       "    840\n",
       " 180224\n",
       "[torch.LongStorage of size 2]\n",
       "\n"
      ]
     },
     "execution_count": 7,
     "metadata": {},
     "output_type": "execute_result"
    },
    {
     "data": {
      "text/plain": [
       "shmuel-vp2-il2-ex3.png\t\n"
      ]
     },
     "execution_count": 7,
     "metadata": {},
     "output_type": "execute_result"
    },
    {
     "data": {
      "text/plain": [
       "\n",
       "    840\n",
       " 180224\n",
       "[torch.LongStorage of size 2]\n",
       "\n"
      ]
     },
     "execution_count": 7,
     "metadata": {},
     "output_type": "execute_result"
    },
    {
     "data": {
      "text/plain": [
       "moshe-vp1-il1-ex2.png\t\n"
      ]
     },
     "execution_count": 7,
     "metadata": {},
     "output_type": "execute_result"
    },
    {
     "data": {
      "text/plain": [
       "\n",
       "    840\n",
       " 180224\n",
       "[torch.LongStorage of size 2]\n",
       "\n",
       "avishai-vp1-il0-ex3.png\t\n"
      ]
     },
     "execution_count": 7,
     "metadata": {},
     "output_type": "execute_result"
    },
    {
     "data": {
      "text/plain": [
       "\n",
       "    840\n",
       " 180224\n",
       "[torch.LongStorage of size 2]\n",
       "\n",
       "avidan-vp0-il2-ex2.png\t\n"
      ]
     },
     "execution_count": 7,
     "metadata": {},
     "output_type": "execute_result"
    },
    {
     "data": {
      "text/plain": [
       "\n",
       "    840\n",
       " 180224\n",
       "[torch.LongStorage of size 2]\n",
       "\n",
       "amir2-vp4-il1-ex2.png\t\n"
      ]
     },
     "execution_count": 7,
     "metadata": {},
     "output_type": "execute_result"
    },
    {
     "data": {
      "text/plain": [
       "\n",
       "    840\n",
       " 180224\n",
       "[torch.LongStorage of size 2]\n",
       "\n"
      ]
     },
     "execution_count": 7,
     "metadata": {},
     "output_type": "execute_result"
    },
    {
     "data": {
      "text/plain": [
       "eli-vp0-il2-ex2.png\t\n"
      ]
     },
     "execution_count": 7,
     "metadata": {},
     "output_type": "execute_result"
    },
    {
     "data": {
      "text/plain": [
       "\n",
       "    840\n",
       " 180224\n",
       "[torch.LongStorage of size 2]\n",
       "\n",
       "tuvia-vp3-il1-ex3.png\t\n"
      ]
     },
     "execution_count": 7,
     "metadata": {},
     "output_type": "execute_result"
    },
    {
     "data": {
      "text/plain": [
       "\n",
       "    840\n",
       " 180224\n",
       "[torch.LongStorage of size 2]\n",
       "\n",
       "huan-vp4-il0-ex3.png\t\n"
      ]
     },
     "execution_count": 7,
     "metadata": {},
     "output_type": "execute_result"
    },
    {
     "data": {
      "text/plain": [
       "\n",
       "    840\n",
       " 180224\n",
       "[torch.LongStorage of size 2]\n",
       "\n"
      ]
     },
     "execution_count": 7,
     "metadata": {},
     "output_type": "execute_result"
    },
    {
     "data": {
      "text/plain": [
       "huan1-vp1-il2-ex3.png\t\n"
      ]
     },
     "execution_count": 7,
     "metadata": {},
     "output_type": "execute_result"
    },
    {
     "data": {
      "text/plain": [
       "\n",
       "    840\n",
       " 180224\n",
       "[torch.LongStorage of size 2]\n",
       "\n"
      ]
     },
     "execution_count": 7,
     "metadata": {},
     "output_type": "execute_result"
    },
    {
     "data": {
      "text/plain": [
       "amir2-vp2-il0-ex3.png\t\n"
      ]
     },
     "execution_count": 7,
     "metadata": {},
     "output_type": "execute_result"
    },
    {
     "data": {
      "text/plain": [
       "\n",
       "    840\n",
       " 180224\n",
       "[torch.LongStorage of size 2]\n",
       "\n",
       "bruno-vp2-il0-ex2.png\t\n"
      ]
     },
     "execution_count": 7,
     "metadata": {},
     "output_type": "execute_result"
    },
    {
     "data": {
      "text/plain": [
       "\n",
       "    840\n",
       " 180224\n",
       "[torch.LongStorage of size 2]\n",
       "\n"
      ]
     },
     "execution_count": 7,
     "metadata": {},
     "output_type": "execute_result"
    },
    {
     "data": {
      "text/plain": [
       "goel-vp0-il0-ex2.png\t\n"
      ]
     },
     "execution_count": 7,
     "metadata": {},
     "output_type": "execute_result"
    },
    {
     "data": {
      "text/plain": [
       "\n",
       "    840\n",
       " 180224\n",
       "[torch.LongStorage of size 2]\n",
       "\n",
       "yaron-vp2-il2-ex3.png\t\n"
      ]
     },
     "execution_count": 7,
     "metadata": {},
     "output_type": "execute_result"
    },
    {
     "data": {
      "text/plain": [
       "\n",
       "    840\n",
       " 180224\n",
       "[torch.LongStorage of size 2]\n",
       "\n",
       "inon1-vp1-il0-ex3.png\t\n"
      ]
     },
     "execution_count": 7,
     "metadata": {},
     "output_type": "execute_result"
    },
    {
     "data": {
      "text/plain": [
       "\n",
       "    840\n",
       " 180224\n",
       "[torch.LongStorage of size 2]\n",
       "\n",
       "moshe1-vp3-il2-ex2.png\t\n"
      ]
     },
     "execution_count": 7,
     "metadata": {},
     "output_type": "execute_result"
    },
    {
     "data": {
      "text/plain": [
       "\n",
       "    840\n",
       " 180224\n",
       "[torch.LongStorage of size 2]\n",
       "\n",
       "meir1-vp3-il1-ex2.png\t\n"
      ]
     },
     "execution_count": 7,
     "metadata": {},
     "output_type": "execute_result"
    },
    {
     "data": {
      "text/plain": [
       "\n",
       "    840\n",
       " 180224\n",
       "[torch.LongStorage of size 2]\n",
       "\n",
       "huan-vp2-il1-ex2.png\t\n"
      ]
     },
     "execution_count": 7,
     "metadata": {},
     "output_type": "execute_result"
    },
    {
     "data": {
      "text/plain": [
       "\n",
       "    840\n",
       " 180224\n",
       "[torch.LongStorage of size 2]\n",
       "\n",
       "amir2-vp0-il2-ex3.png\t\n"
      ]
     },
     "execution_count": 7,
     "metadata": {},
     "output_type": "execute_result"
    },
    {
     "data": {
      "text/plain": [
       "\n",
       "    840\n",
       " 180224\n",
       "[torch.LongStorage of size 2]\n",
       "\n",
       "meir-vp4-il0-ex2.png\t\n"
      ]
     },
     "execution_count": 7,
     "metadata": {},
     "output_type": "execute_result"
    },
    {
     "data": {
      "text/plain": [
       "\n",
       "    840\n",
       " 180224\n",
       "[torch.LongStorage of size 2]\n",
       "\n"
      ]
     },
     "execution_count": 7,
     "metadata": {},
     "output_type": "execute_result"
    },
    {
     "data": {
      "text/plain": [
       "eli-vp1-il1-ex3.png\t\n"
      ]
     },
     "execution_count": 7,
     "metadata": {},
     "output_type": "execute_result"
    },
    {
     "data": {
      "text/plain": [
       "\n",
       "    840\n",
       " 180224\n",
       "[torch.LongStorage of size 2]\n",
       "\n"
      ]
     },
     "execution_count": 7,
     "metadata": {},
     "output_type": "execute_result"
    },
    {
     "data": {
      "text/plain": [
       "avidan-vp2-il1-ex2.png\t\n"
      ]
     },
     "execution_count": 7,
     "metadata": {},
     "output_type": "execute_result"
    },
    {
     "data": {
      "text/plain": [
       "\n",
       "    840\n",
       " 180224\n",
       "[torch.LongStorage of size 2]\n",
       "\n"
      ]
     },
     "execution_count": 7,
     "metadata": {},
     "output_type": "execute_result"
    },
    {
     "data": {
      "text/plain": [
       "bruno-vp1-il2-ex3.png\t\n"
      ]
     },
     "execution_count": 7,
     "metadata": {},
     "output_type": "execute_result"
    },
    {
     "data": {
      "text/plain": [
       "\n",
       "    840\n",
       " 180224\n",
       "[torch.LongStorage of size 2]\n",
       "\n"
      ]
     },
     "execution_count": 7,
     "metadata": {},
     "output_type": "execute_result"
    },
    {
     "data": {
      "text/plain": [
       "yakov-vp3-il2-ex3.png\t\n"
      ]
     },
     "execution_count": 7,
     "metadata": {},
     "output_type": "execute_result"
    },
    {
     "data": {
      "text/plain": [
       "\n",
       "    840\n",
       " 180224\n",
       "[torch.LongStorage of size 2]\n",
       "\n",
       "moshe-vp1-il2-ex2.png\t\n"
      ]
     },
     "execution_count": 7,
     "metadata": {},
     "output_type": "execute_result"
    },
    {
     "data": {
      "text/plain": [
       "\n",
       "    840\n",
       " 180224\n",
       "[torch.LongStorage of size 2]\n",
       "\n"
      ]
     },
     "execution_count": 7,
     "metadata": {},
     "output_type": "execute_result"
    },
    {
     "data": {
      "text/plain": [
       "amir1-vp3-il2-ex2.png\t\n"
      ]
     },
     "execution_count": 7,
     "metadata": {},
     "output_type": "execute_result"
    },
    {
     "data": {
      "text/plain": [
       "\n",
       "    840\n",
       " 180224\n",
       "[torch.LongStorage of size 2]\n",
       "\n"
      ]
     },
     "execution_count": 7,
     "metadata": {},
     "output_type": "execute_result"
    },
    {
     "data": {
      "text/plain": [
       "amit-vp4-il0-ex2.png\t\n"
      ]
     },
     "execution_count": 7,
     "metadata": {},
     "output_type": "execute_result"
    },
    {
     "data": {
      "text/plain": [
       "\n",
       "    840\n",
       " 180224\n",
       "[torch.LongStorage of size 2]\n",
       "\n",
       "goel-vp3-il2-ex2.png\t\n"
      ]
     },
     "execution_count": 7,
     "metadata": {},
     "output_type": "execute_result"
    },
    {
     "data": {
      "text/plain": [
       "\n",
       "    840\n",
       " 180224\n",
       "[torch.LongStorage of size 2]\n",
       "\n",
       "inon1-vp2-il1-ex3.png\t\n"
      ]
     },
     "execution_count": 7,
     "metadata": {},
     "output_type": "execute_result"
    },
    {
     "data": {
      "text/plain": [
       "\n",
       "    840\n",
       " 180224\n",
       "[torch.LongStorage of size 2]\n",
       "\n",
       "amir2-vp3-il1-ex2.png\t\n"
      ]
     },
     "execution_count": 7,
     "metadata": {},
     "output_type": "execute_result"
    },
    {
     "data": {
      "text/plain": [
       "\n",
       "    840\n",
       " 180224\n",
       "[torch.LongStorage of size 2]\n",
       "\n",
       "meir-vp3-il2-ex3.png\t\n"
      ]
     },
     "execution_count": 7,
     "metadata": {},
     "output_type": "execute_result"
    },
    {
     "data": {
      "text/plain": [
       "\n",
       "    840\n",
       " 180224\n",
       "[torch.LongStorage of size 2]\n",
       "\n"
      ]
     },
     "execution_count": 7,
     "metadata": {},
     "output_type": "execute_result"
    },
    {
     "data": {
      "text/plain": [
       "shabtai-vp1-il2-ex2.png\t\n"
      ]
     },
     "execution_count": 7,
     "metadata": {},
     "output_type": "execute_result"
    },
    {
     "data": {
      "text/plain": [
       "\n",
       "    840\n",
       " 180224\n",
       "[torch.LongStorage of size 2]\n",
       "\n",
       "avishai-vp2-il2-ex3.png\t\n"
      ]
     },
     "execution_count": 7,
     "metadata": {},
     "output_type": "execute_result"
    },
    {
     "data": {
      "text/plain": [
       "\n",
       "    840\n",
       " 180224\n",
       "[torch.LongStorage of size 2]\n",
       "\n"
      ]
     },
     "execution_count": 7,
     "metadata": {},
     "output_type": "execute_result"
    },
    {
     "data": {
      "text/plain": [
       "avishai-vp2-il2-ex2.png\t\n"
      ]
     },
     "execution_count": 7,
     "metadata": {},
     "output_type": "execute_result"
    },
    {
     "data": {
      "text/plain": [
       "\n",
       "    840\n",
       " 180224\n",
       "[torch.LongStorage of size 2]\n",
       "\n"
      ]
     },
     "execution_count": 7,
     "metadata": {},
     "output_type": "execute_result"
    },
    {
     "data": {
      "text/plain": [
       "david-vp1-il2-ex3.png\t\n"
      ]
     },
     "execution_count": 7,
     "metadata": {},
     "output_type": "execute_result"
    },
    {
     "data": {
      "text/plain": [
       "\n",
       "    840\n",
       " 180224\n",
       "[torch.LongStorage of size 2]\n",
       "\n",
       "huan1-vp0-il1-ex2.png\t\n"
      ]
     },
     "execution_count": 7,
     "metadata": {},
     "output_type": "execute_result"
    },
    {
     "data": {
      "text/plain": [
       "\n",
       "    840\n",
       " 180224\n",
       "[torch.LongStorage of size 2]\n",
       "\n",
       "moshe1-vp1-il0-ex2.png\t\n"
      ]
     },
     "execution_count": 7,
     "metadata": {},
     "output_type": "execute_result"
    },
    {
     "data": {
      "text/plain": [
       "\n",
       "    840\n",
       " 180224\n",
       "[torch.LongStorage of size 2]\n",
       "\n",
       "uri-vp2-il2-ex3.png\t\n"
      ]
     },
     "execution_count": 7,
     "metadata": {},
     "output_type": "execute_result"
    },
    {
     "data": {
      "text/plain": [
       "\n",
       "    840\n",
       " 180224\n",
       "[torch.LongStorage of size 2]\n",
       "\n",
       "moshe1-vp2-il2-ex3.png\t\n"
      ]
     },
     "execution_count": 7,
     "metadata": {},
     "output_type": "execute_result"
    },
    {
     "data": {
      "text/plain": [
       "\n",
       "    840\n",
       " 180224\n",
       "[torch.LongStorage of size 2]\n",
       "\n"
      ]
     },
     "execution_count": 7,
     "metadata": {},
     "output_type": "execute_result"
    },
    {
     "data": {
      "text/plain": [
       "uri-vp3-il0-ex3.png\t\n"
      ]
     },
     "execution_count": 7,
     "metadata": {},
     "output_type": "execute_result"
    },
    {
     "data": {
      "text/plain": [
       "\n",
       "    840\n",
       " 180224\n",
       "[torch.LongStorage of size 2]\n",
       "\n",
       "yaron-vp1-il1-ex2.png\t\n"
      ]
     },
     "execution_count": 7,
     "metadata": {},
     "output_type": "execute_result"
    },
    {
     "data": {
      "text/plain": [
       "\n",
       "    840\n",
       " 180224\n",
       "[torch.LongStorage of size 2]\n",
       "\n",
       "david-vp4-il0-ex2.png\t\n"
      ]
     },
     "execution_count": 7,
     "metadata": {},
     "output_type": "execute_result"
    },
    {
     "data": {
      "text/plain": [
       "\n",
       "    840\n",
       " 180224\n",
       "[torch.LongStorage of size 2]\n",
       "\n",
       "david-vp3-il2-ex2.png\t\n"
      ]
     },
     "execution_count": 7,
     "metadata": {},
     "output_type": "execute_result"
    },
    {
     "data": {
      "text/plain": [
       "\n",
       "    840\n",
       " 180224\n",
       "[torch.LongStorage of size 2]\n",
       "\n",
       "meir1-vp3-il0-ex2.png\t\n"
      ]
     },
     "execution_count": 7,
     "metadata": {},
     "output_type": "execute_result"
    },
    {
     "data": {
      "text/plain": [
       "\n",
       "    840\n",
       " 180224\n",
       "[torch.LongStorage of size 2]\n",
       "\n",
       "moshe1-vp3-il1-ex3.png\t\n"
      ]
     },
     "execution_count": 7,
     "metadata": {},
     "output_type": "execute_result"
    },
    {
     "data": {
      "text/plain": [
       "\n",
       "    840\n",
       " 180224\n",
       "[torch.LongStorage of size 2]\n",
       "\n"
      ]
     },
     "execution_count": 7,
     "metadata": {},
     "output_type": "execute_result"
    },
    {
     "data": {
      "text/plain": [
       "avishai-vp1-il1-ex2.png\t\n"
      ]
     },
     "execution_count": 7,
     "metadata": {},
     "output_type": "execute_result"
    },
    {
     "data": {
      "text/plain": [
       "\n",
       "    840\n",
       " 180224\n",
       "[torch.LongStorage of size 2]\n",
       "\n"
      ]
     },
     "execution_count": 7,
     "metadata": {},
     "output_type": "execute_result"
    },
    {
     "data": {
      "text/plain": [
       "shabtai-vp0-il2-ex2.png\t\n"
      ]
     },
     "execution_count": 7,
     "metadata": {},
     "output_type": "execute_result"
    },
    {
     "data": {
      "text/plain": [
       "\n",
       "    840\n",
       " 180224\n",
       "[torch.LongStorage of size 2]\n",
       "\n"
      ]
     },
     "execution_count": 7,
     "metadata": {},
     "output_type": "execute_result"
    },
    {
     "data": {
      "text/plain": [
       "avishai-vp2-il1-ex2.png\t\n"
      ]
     },
     "execution_count": 7,
     "metadata": {},
     "output_type": "execute_result"
    },
    {
     "data": {
      "text/plain": [
       "\n",
       "    840\n",
       " 180224\n",
       "[torch.LongStorage of size 2]\n",
       "\n",
       "huan1-vp3-il0-ex3.png\t\n"
      ]
     },
     "execution_count": 7,
     "metadata": {},
     "output_type": "execute_result"
    },
    {
     "data": {
      "text/plain": [
       "\n",
       "    840\n",
       " 180224\n",
       "[torch.LongStorage of size 2]\n",
       "\n"
      ]
     },
     "execution_count": 7,
     "metadata": {},
     "output_type": "execute_result"
    },
    {
     "data": {
      "text/plain": [
       "huan-vp4-il1-ex3.png\t\n"
      ]
     },
     "execution_count": 7,
     "metadata": {},
     "output_type": "execute_result"
    },
    {
     "data": {
      "text/plain": [
       "\n",
       "    840\n",
       " 180224\n",
       "[torch.LongStorage of size 2]\n",
       "\n"
      ]
     },
     "execution_count": 7,
     "metadata": {},
     "output_type": "execute_result"
    },
    {
     "data": {
      "text/plain": [
       "eyal-vp2-il1-ex2.png\t\n"
      ]
     },
     "execution_count": 7,
     "metadata": {},
     "output_type": "execute_result"
    },
    {
     "data": {
      "text/plain": [
       "\n",
       "    840\n",
       " 180224\n",
       "[torch.LongStorage of size 2]\n",
       "\n",
       "bruno-vp3-il0-ex3.png\t\n"
      ]
     },
     "execution_count": 7,
     "metadata": {},
     "output_type": "execute_result"
    },
    {
     "data": {
      "text/plain": [
       "\n",
       "    840\n",
       " 180224\n",
       "[torch.LongStorage of size 2]\n",
       "\n"
      ]
     },
     "execution_count": 7,
     "metadata": {},
     "output_type": "execute_result"
    },
    {
     "data": {
      "text/plain": [
       "edelman-vp3-il2-ex2.png\t\n"
      ]
     },
     "execution_count": 7,
     "metadata": {},
     "output_type": "execute_result"
    },
    {
     "data": {
      "text/plain": [
       "\n",
       "    840\n",
       " 180224\n",
       "[torch.LongStorage of size 2]\n",
       "\n"
      ]
     },
     "execution_count": 7,
     "metadata": {},
     "output_type": "execute_result"
    },
    {
     "data": {
      "text/plain": [
       "inon1-vp1-il2-ex3.png\t\n"
      ]
     },
     "execution_count": 7,
     "metadata": {},
     "output_type": "execute_result"
    },
    {
     "data": {
      "text/plain": [
       "\n",
       "    840\n",
       " 180224\n",
       "[torch.LongStorage of size 2]\n",
       "\n",
       "yishay-vp2-il0-ex3.png\t\n"
      ]
     },
     "execution_count": 7,
     "metadata": {},
     "output_type": "execute_result"
    },
    {
     "data": {
      "text/plain": [
       "\n",
       "    840\n",
       " 180224\n",
       "[torch.LongStorage of size 2]\n",
       "\n",
       "meir1-vp1-il1-ex3.png\t\n"
      ]
     },
     "execution_count": 7,
     "metadata": {},
     "output_type": "execute_result"
    },
    {
     "data": {
      "text/plain": [
       "\n",
       "    840\n",
       " 180224\n",
       "[torch.LongStorage of size 2]\n",
       "\n"
      ]
     },
     "execution_count": 7,
     "metadata": {},
     "output_type": "execute_result"
    },
    {
     "data": {
      "text/plain": [
       "avidan-vp2-il1-ex3.png\t\n"
      ]
     },
     "execution_count": 7,
     "metadata": {},
     "output_type": "execute_result"
    },
    {
     "data": {
      "text/plain": [
       "\n",
       "    840\n",
       " 180224\n",
       "[torch.LongStorage of size 2]\n",
       "\n",
       "dani-vp1-il2-ex2.png\t\n"
      ]
     },
     "execution_count": 7,
     "metadata": {},
     "output_type": "execute_result"
    },
    {
     "data": {
      "text/plain": [
       "\n",
       "    840\n",
       " 180224\n",
       "[torch.LongStorage of size 2]\n",
       "\n",
       "goel-vp3-il0-ex2.png\t\n"
      ]
     },
     "execution_count": 7,
     "metadata": {},
     "output_type": "execute_result"
    },
    {
     "data": {
      "text/plain": [
       "\n",
       "    840\n",
       " 180224\n",
       "[torch.LongStorage of size 2]\n",
       "\n",
       "amir2-vp1-il2-ex3.png\t\n"
      ]
     },
     "execution_count": 7,
     "metadata": {},
     "output_type": "execute_result"
    },
    {
     "data": {
      "text/plain": [
       "\n",
       "    840\n",
       " 180224\n",
       "[torch.LongStorage of size 2]\n",
       "\n"
      ]
     },
     "execution_count": 7,
     "metadata": {},
     "output_type": "execute_result"
    },
    {
     "data": {
      "text/plain": [
       "huan1-vp2-il1-ex3.png\t\n"
      ]
     },
     "execution_count": 7,
     "metadata": {},
     "output_type": "execute_result"
    },
    {
     "data": {
      "text/plain": [
       "\n",
       "    840\n",
       " 180224\n",
       "[torch.LongStorage of size 2]\n",
       "\n"
      ]
     },
     "execution_count": 7,
     "metadata": {},
     "output_type": "execute_result"
    },
    {
     "data": {
      "text/plain": [
       "eli-vp0-il1-ex3.png\t\n"
      ]
     },
     "execution_count": 7,
     "metadata": {},
     "output_type": "execute_result"
    },
    {
     "data": {
      "text/plain": [
       "\n",
       "    840\n",
       " 180224\n",
       "[torch.LongStorage of size 2]\n",
       "\n",
       "amit-vp2-il2-ex3.png\t\n"
      ]
     },
     "execution_count": 7,
     "metadata": {},
     "output_type": "execute_result"
    },
    {
     "data": {
      "text/plain": [
       "\n",
       "    840\n",
       " 180224\n",
       "[torch.LongStorage of size 2]\n",
       "\n",
       "amit-vp2-il2-ex2.png\t\n"
      ]
     },
     "execution_count": 7,
     "metadata": {},
     "output_type": "execute_result"
    },
    {
     "data": {
      "text/plain": [
       "\n",
       "    840\n",
       " 180224\n",
       "[torch.LongStorage of size 2]\n",
       "\n",
       "amir1-vp2-il2-ex2.png\t\n"
      ]
     },
     "execution_count": 7,
     "metadata": {},
     "output_type": "execute_result"
    },
    {
     "data": {
      "text/plain": [
       "\n",
       "    840\n",
       " 180224\n",
       "[torch.LongStorage of size 2]\n",
       "\n",
       "amit-vp1-il1-ex2.png\t\n"
      ]
     },
     "execution_count": 7,
     "metadata": {},
     "output_type": "execute_result"
    },
    {
     "data": {
      "text/plain": [
       "\n",
       "    840\n",
       " 180224\n",
       "[torch.LongStorage of size 2]\n",
       "\n",
       "amir1-vp0-il2-ex2.png\t\n"
      ]
     },
     "execution_count": 7,
     "metadata": {},
     "output_type": "execute_result"
    },
    {
     "data": {
      "text/plain": [
       "\n",
       "    840\n",
       " 180224\n",
       "[torch.LongStorage of size 2]\n",
       "\n",
       "uri-vp4-il1-ex3.png\t\n"
      ]
     },
     "execution_count": 7,
     "metadata": {},
     "output_type": "execute_result"
    },
    {
     "data": {
      "text/plain": [
       "\n",
       "    840\n",
       " 180224\n",
       "[torch.LongStorage of size 2]\n",
       "\n",
       "edelman-vp3-il2-ex3.png\t\n"
      ]
     },
     "execution_count": 7,
     "metadata": {},
     "output_type": "execute_result"
    },
    {
     "data": {
      "text/plain": [
       "\n",
       "    840\n",
       " 180224\n",
       "[torch.LongStorage of size 2]\n",
       "\n",
       "amir-vp4-il1-ex2.png\t\n"
      ]
     },
     "execution_count": 7,
     "metadata": {},
     "output_type": "execute_result"
    },
    {
     "data": {
      "text/plain": [
       "\n",
       "    840\n",
       " 180224\n",
       "[torch.LongStorage of size 2]\n",
       "\n",
       "moshe1-vp4-il1-ex2.png\t\n"
      ]
     },
     "execution_count": 7,
     "metadata": {},
     "output_type": "execute_result"
    },
    {
     "data": {
      "text/plain": [
       "\n",
       "    840\n",
       " 180224\n",
       "[torch.LongStorage of size 2]\n",
       "\n"
      ]
     },
     "execution_count": 7,
     "metadata": {},
     "output_type": "execute_result"
    },
    {
     "data": {
      "text/plain": [
       "yakov-vp4-il2-ex3.png\t\n"
      ]
     },
     "execution_count": 7,
     "metadata": {},
     "output_type": "execute_result"
    },
    {
     "data": {
      "text/plain": [
       "\n",
       "    840\n",
       " 180224\n",
       "[torch.LongStorage of size 2]\n",
       "\n"
      ]
     },
     "execution_count": 7,
     "metadata": {},
     "output_type": "execute_result"
    },
    {
     "data": {
      "text/plain": [
       "shmuel-vp1-il2-ex2.png\t\n"
      ]
     },
     "execution_count": 7,
     "metadata": {},
     "output_type": "execute_result"
    },
    {
     "data": {
      "text/plain": [
       "\n",
       "    840\n",
       " 180224\n",
       "[torch.LongStorage of size 2]\n",
       "\n"
      ]
     },
     "execution_count": 7,
     "metadata": {},
     "output_type": "execute_result"
    },
    {
     "data": {
      "text/plain": [
       "david-vp3-il1-ex2.png\t\n"
      ]
     },
     "execution_count": 7,
     "metadata": {},
     "output_type": "execute_result"
    },
    {
     "data": {
      "text/plain": [
       "\n",
       "    840\n",
       " 180224\n",
       "[torch.LongStorage of size 2]\n",
       "\n"
      ]
     },
     "execution_count": 7,
     "metadata": {},
     "output_type": "execute_result"
    },
    {
     "data": {
      "text/plain": [
       "eyal-vp2-il0-ex3.png\t\n"
      ]
     },
     "execution_count": 7,
     "metadata": {},
     "output_type": "execute_result"
    },
    {
     "data": {
      "text/plain": [
       "\n",
       "    840\n",
       " 180224\n",
       "[torch.LongStorage of size 2]\n",
       "\n",
       "shabtai-vp4-il0-ex3.png\t\n"
      ]
     },
     "execution_count": 7,
     "metadata": {},
     "output_type": "execute_result"
    },
    {
     "data": {
      "text/plain": [
       "\n",
       "    840\n",
       " 180224\n",
       "[torch.LongStorage of size 2]\n",
       "\n",
       "moshe-vp3-il2-ex2.png\t\n"
      ]
     },
     "execution_count": 7,
     "metadata": {},
     "output_type": "execute_result"
    },
    {
     "data": {
      "text/plain": [
       "\n",
       "    840\n",
       " 180224\n",
       "[torch.LongStorage of size 2]\n",
       "\n",
       "amit-vp0-il1-ex2.png\t\n"
      ]
     },
     "execution_count": 7,
     "metadata": {},
     "output_type": "execute_result"
    },
    {
     "data": {
      "text/plain": [
       "\n",
       "    840\n",
       " 180224\n",
       "[torch.LongStorage of size 2]\n",
       "\n"
      ]
     },
     "execution_count": 7,
     "metadata": {},
     "output_type": "execute_result"
    },
    {
     "data": {
      "text/plain": [
       "yakov-vp2-il1-ex2.png\t\n"
      ]
     },
     "execution_count": 7,
     "metadata": {},
     "output_type": "execute_result"
    },
    {
     "data": {
      "text/plain": [
       "\n",
       "    840\n",
       " 180224\n",
       "[torch.LongStorage of size 2]\n",
       "\n",
       "meir1-vp4-il1-ex3.png\t\n"
      ]
     },
     "execution_count": 7,
     "metadata": {},
     "output_type": "execute_result"
    },
    {
     "data": {
      "text/plain": [
       "\n",
       "    840\n",
       " 180224\n",
       "[torch.LongStorage of size 2]\n",
       "\n",
       "huan1-vp1-il0-ex3.png\t\n"
      ]
     },
     "execution_count": 7,
     "metadata": {},
     "output_type": "execute_result"
    },
    {
     "data": {
      "text/plain": [
       "\n",
       "    840\n",
       " 180224\n",
       "[torch.LongStorage of size 2]\n",
       "\n",
       "uri-vp1-il0-ex3.png\t\n"
      ]
     },
     "execution_count": 7,
     "metadata": {},
     "output_type": "execute_result"
    },
    {
     "data": {
      "text/plain": [
       "\n",
       "    840\n",
       " 180224\n",
       "[torch.LongStorage of size 2]\n",
       "\n",
       "shmuel-vp3-il2-ex2.png\t\n"
      ]
     },
     "execution_count": 7,
     "metadata": {},
     "output_type": "execute_result"
    },
    {
     "data": {
      "text/plain": [
       "\n",
       "    840\n",
       " 180224\n",
       "[torch.LongStorage of size 2]\n",
       "\n",
       "avishai-vp4-il0-ex3.png\t\n"
      ]
     },
     "execution_count": 7,
     "metadata": {},
     "output_type": "execute_result"
    },
    {
     "data": {
      "text/plain": [
       "\n",
       "    840\n",
       " 180224\n",
       "[torch.LongStorage of size 2]\n",
       "\n",
       "yaron-vp0-il2-ex3.png\t\n"
      ]
     },
     "execution_count": 7,
     "metadata": {},
     "output_type": "execute_result"
    },
    {
     "data": {
      "text/plain": [
       "\n",
       "    840\n",
       " 180224\n",
       "[torch.LongStorage of size 2]\n",
       "\n"
      ]
     },
     "execution_count": 7,
     "metadata": {},
     "output_type": "execute_result"
    },
    {
     "data": {
      "text/plain": [
       "amir-vp1-il2-ex2.png\t\n"
      ]
     },
     "execution_count": 7,
     "metadata": {},
     "output_type": "execute_result"
    },
    {
     "data": {
      "text/plain": [
       "\n",
       "    840\n",
       " 180224\n",
       "[torch.LongStorage of size 2]\n",
       "\n",
       "david-vp4-il1-ex2.png\t\n"
      ]
     },
     "execution_count": 7,
     "metadata": {},
     "output_type": "execute_result"
    },
    {
     "data": {
      "text/plain": [
       "\n",
       "    840\n",
       " 180224\n",
       "[torch.LongStorage of size 2]\n",
       "\n"
      ]
     },
     "execution_count": 7,
     "metadata": {},
     "output_type": "execute_result"
    },
    {
     "data": {
      "text/plain": [
       "shmuel-vp0-il1-ex2.png\t\n"
      ]
     },
     "execution_count": 7,
     "metadata": {},
     "output_type": "execute_result"
    },
    {
     "data": {
      "text/plain": [
       "\n",
       "    840\n",
       " 180224\n",
       "[torch.LongStorage of size 2]\n",
       "\n"
      ]
     },
     "execution_count": 7,
     "metadata": {},
     "output_type": "execute_result"
    },
    {
     "data": {
      "text/plain": [
       "yishay-vp0-il0-ex3.png\t\n"
      ]
     },
     "execution_count": 7,
     "metadata": {},
     "output_type": "execute_result"
    },
    {
     "data": {
      "text/plain": [
       "\n",
       "    840\n",
       " 180224\n",
       "[torch.LongStorage of size 2]\n",
       "\n"
      ]
     },
     "execution_count": 7,
     "metadata": {},
     "output_type": "execute_result"
    },
    {
     "data": {
      "text/plain": [
       "edelman-vp4-il2-ex3.png\t\n"
      ]
     },
     "execution_count": 7,
     "metadata": {},
     "output_type": "execute_result"
    },
    {
     "data": {
      "text/plain": [
       "\n",
       "    840\n",
       " 180224\n",
       "[torch.LongStorage of size 2]\n",
       "\n",
       "david-vp0-il1-ex3.png\t\n"
      ]
     },
     "execution_count": 7,
     "metadata": {},
     "output_type": "execute_result"
    },
    {
     "data": {
      "text/plain": [
       "\n",
       "    840\n",
       " 180224\n",
       "[torch.LongStorage of size 2]\n",
       "\n",
       "menashe-vp2-il1-ex3.png\t\n"
      ]
     },
     "execution_count": 7,
     "metadata": {},
     "output_type": "execute_result"
    },
    {
     "data": {
      "text/plain": [
       "\n",
       "    840\n",
       " 180224\n",
       "[torch.LongStorage of size 2]\n",
       "\n",
       "shabtai-vp2-il0-ex3.png\t\n"
      ]
     },
     "execution_count": 7,
     "metadata": {},
     "output_type": "execute_result"
    },
    {
     "data": {
      "text/plain": [
       "\n",
       "    840\n",
       " 180224\n",
       "[torch.LongStorage of size 2]\n",
       "\n",
       "eyal-vp0-il2-ex2.png\t\n"
      ]
     },
     "execution_count": 7,
     "metadata": {},
     "output_type": "execute_result"
    },
    {
     "data": {
      "text/plain": [
       "\n",
       "    840\n",
       " 180224\n",
       "[torch.LongStorage of size 2]\n",
       "\n",
       "moshe-vp4-il1-ex2.png\t\n"
      ]
     },
     "execution_count": 7,
     "metadata": {},
     "output_type": "execute_result"
    },
    {
     "data": {
      "text/plain": [
       "\n",
       "    840\n",
       " 180224\n",
       "[torch.LongStorage of size 2]\n",
       "\n",
       "shmuel-vp4-il2-ex3.png\t\n"
      ]
     },
     "execution_count": 7,
     "metadata": {},
     "output_type": "execute_result"
    },
    {
     "data": {
      "text/plain": [
       "\n",
       "    840\n",
       " 180224\n",
       "[torch.LongStorage of size 2]\n",
       "\n"
      ]
     },
     "execution_count": 7,
     "metadata": {},
     "output_type": "execute_result"
    },
    {
     "data": {
      "text/plain": [
       "huan1-vp0-il2-ex3.png\t\n"
      ]
     },
     "execution_count": 7,
     "metadata": {},
     "output_type": "execute_result"
    },
    {
     "data": {
      "text/plain": [
       "\n",
       "    840\n",
       " 180224\n",
       "[torch.LongStorage of size 2]\n",
       "\n"
      ]
     },
     "execution_count": 7,
     "metadata": {},
     "output_type": "execute_result"
    },
    {
     "data": {
      "text/plain": [
       "huan-vp2-il2-ex2.png\t\n"
      ]
     },
     "execution_count": 7,
     "metadata": {},
     "output_type": "execute_result"
    },
    {
     "data": {
      "text/plain": [
       "\n",
       "    840\n",
       " 180224\n",
       "[torch.LongStorage of size 2]\n",
       "\n"
      ]
     },
     "execution_count": 7,
     "metadata": {},
     "output_type": "execute_result"
    },
    {
     "data": {
      "text/plain": [
       "inon1-vp1-il0-ex2.png\t\n"
      ]
     },
     "execution_count": 7,
     "metadata": {},
     "output_type": "execute_result"
    },
    {
     "data": {
      "text/plain": [
       "\n",
       "    840\n",
       " 180224\n",
       "[torch.LongStorage of size 2]\n",
       "\n"
      ]
     },
     "execution_count": 7,
     "metadata": {},
     "output_type": "execute_result"
    },
    {
     "data": {
      "text/plain": [
       "yishay-vp4-il0-ex2.png\t\n"
      ]
     },
     "execution_count": 7,
     "metadata": {},
     "output_type": "execute_result"
    },
    {
     "data": {
      "text/plain": [
       "\n",
       "    840\n",
       " 180224\n",
       "[torch.LongStorage of size 2]\n",
       "\n",
       "huan1-vp2-il1-ex2.png\t\n"
      ]
     },
     "execution_count": 7,
     "metadata": {},
     "output_type": "execute_result"
    },
    {
     "data": {
      "text/plain": [
       "\n",
       "    840\n",
       " 180224\n",
       "[torch.LongStorage of size 2]\n",
       "\n",
       "yakov-vp4-il2-ex2.png\t\n"
      ]
     },
     "execution_count": 7,
     "metadata": {},
     "output_type": "execute_result"
    },
    {
     "data": {
      "text/plain": [
       "\n",
       "    840\n",
       " 180224\n",
       "[torch.LongStorage of size 2]\n",
       "\n"
      ]
     },
     "execution_count": 7,
     "metadata": {},
     "output_type": "execute_result"
    },
    {
     "data": {
      "text/plain": [
       "amir-vp3-il0-ex3.png\t\n"
      ]
     },
     "execution_count": 7,
     "metadata": {},
     "output_type": "execute_result"
    },
    {
     "data": {
      "text/plain": [
       "\n",
       "    840\n",
       " 180224\n",
       "[torch.LongStorage of size 2]\n",
       "\n",
       "david-vp1-il0-ex3.png\t\n"
      ]
     },
     "execution_count": 7,
     "metadata": {},
     "output_type": "execute_result"
    },
    {
     "data": {
      "text/plain": [
       "\n",
       "    840\n",
       " 180224\n",
       "[torch.LongStorage of size 2]\n",
       "\n",
       "eyal-vp3-il0-ex2.png\t\n"
      ]
     },
     "execution_count": 7,
     "metadata": {},
     "output_type": "execute_result"
    },
    {
     "data": {
      "text/plain": [
       "\n",
       "    840\n",
       " 180224\n",
       "[torch.LongStorage of size 2]\n",
       "\n",
       "dani-vp0-il2-ex2.png\t\n"
      ]
     },
     "execution_count": 7,
     "metadata": {},
     "output_type": "execute_result"
    },
    {
     "data": {
      "text/plain": [
       "\n",
       "    840\n",
       " 180224\n",
       "[torch.LongStorage of size 2]\n",
       "\n"
      ]
     },
     "execution_count": 7,
     "metadata": {},
     "output_type": "execute_result"
    },
    {
     "data": {
      "text/plain": [
       "huan1-vp4-il2-ex2.png\t\n"
      ]
     },
     "execution_count": 7,
     "metadata": {},
     "output_type": "execute_result"
    },
    {
     "data": {
      "text/plain": [
       "\n",
       "    840\n",
       " 180224\n",
       "[torch.LongStorage of size 2]\n",
       "\n",
       "menashe-vp0-il2-ex3.png\t\n"
      ]
     },
     "execution_count": 7,
     "metadata": {},
     "output_type": "execute_result"
    },
    {
     "data": {
      "text/plain": [
       "\n",
       "    840\n",
       " 180224\n",
       "[torch.LongStorage of size 2]\n",
       "\n",
       "shmuel-vp0-il1-ex3.png\t\n"
      ]
     },
     "execution_count": 7,
     "metadata": {},
     "output_type": "execute_result"
    },
    {
     "data": {
      "text/plain": [
       "\n",
       "    840\n",
       " 180224\n",
       "[torch.LongStorage of size 2]\n",
       "\n"
      ]
     },
     "execution_count": 7,
     "metadata": {},
     "output_type": "execute_result"
    },
    {
     "data": {
      "text/plain": [
       "goel-vp4-il2-ex2.png\t\n"
      ]
     },
     "execution_count": 7,
     "metadata": {},
     "output_type": "execute_result"
    },
    {
     "data": {
      "text/plain": [
       "\n",
       "    840\n",
       " 180224\n",
       "[torch.LongStorage of size 2]\n",
       "\n"
      ]
     },
     "execution_count": 7,
     "metadata": {},
     "output_type": "execute_result"
    },
    {
     "data": {
      "text/plain": [
       "inon1-vp0-il0-ex3.png\t\n"
      ]
     },
     "execution_count": 7,
     "metadata": {},
     "output_type": "execute_result"
    },
    {
     "data": {
      "text/plain": [
       "\n",
       "    840\n",
       " 180224\n",
       "[torch.LongStorage of size 2]\n",
       "\n"
      ]
     },
     "execution_count": 7,
     "metadata": {},
     "output_type": "execute_result"
    },
    {
     "data": {
      "text/plain": [
       "eyal-vp0-il0-ex3.png\t\n"
      ]
     },
     "execution_count": 7,
     "metadata": {},
     "output_type": "execute_result"
    },
    {
     "data": {
      "text/plain": [
       "\n",
       "    840\n",
       " 180224\n",
       "[torch.LongStorage of size 2]\n",
       "\n",
       "yishay-vp1-il1-ex2.png\t\n"
      ]
     },
     "execution_count": 7,
     "metadata": {},
     "output_type": "execute_result"
    },
    {
     "data": {
      "text/plain": [
       "\n",
       "    840\n",
       " 180224\n",
       "[torch.LongStorage of size 2]\n",
       "\n",
       "meir-vp0-il1-ex3.png\t\n"
      ]
     },
     "execution_count": 7,
     "metadata": {},
     "output_type": "execute_result"
    },
    {
     "data": {
      "text/plain": [
       "\n",
       "    840\n",
       " 180224\n",
       "[torch.LongStorage of size 2]\n",
       "\n",
       "bruno-vp4-il0-ex3.png\t\n"
      ]
     },
     "execution_count": 7,
     "metadata": {},
     "output_type": "execute_result"
    },
    {
     "data": {
      "text/plain": [
       "\n",
       "    840\n",
       " 180224\n",
       "[torch.LongStorage of size 2]\n",
       "\n",
       "david-vp4-il2-ex2.png\t\n"
      ]
     },
     "execution_count": 7,
     "metadata": {},
     "output_type": "execute_result"
    },
    {
     "data": {
      "text/plain": [
       "\n",
       "    840\n",
       " 180224\n",
       "[torch.LongStorage of size 2]\n",
       "\n",
       "meir1-vp4-il2-ex2.png\t\n"
      ]
     },
     "execution_count": 7,
     "metadata": {},
     "output_type": "execute_result"
    },
    {
     "data": {
      "text/plain": [
       "\n",
       "    840\n",
       " 180224\n",
       "[torch.LongStorage of size 2]\n",
       "\n",
       "inon1-vp0-il2-ex3.png\t\n"
      ]
     },
     "execution_count": 7,
     "metadata": {},
     "output_type": "execute_result"
    },
    {
     "data": {
      "text/plain": [
       "\n",
       "    840\n",
       " 180224\n",
       "[torch.LongStorage of size 2]\n",
       "\n",
       "yaron-vp1-il0-ex2.png\t\n"
      ]
     },
     "execution_count": 7,
     "metadata": {},
     "output_type": "execute_result"
    },
    {
     "data": {
      "text/plain": [
       "\n",
       "    840\n",
       " 180224\n",
       "[torch.LongStorage of size 2]\n",
       "\n",
       "amit-vp2-il0-ex3.png\t\n"
      ]
     },
     "execution_count": 7,
     "metadata": {},
     "output_type": "execute_result"
    },
    {
     "data": {
      "text/plain": [
       "\n",
       "    840\n",
       " 180224\n",
       "[torch.LongStorage of size 2]\n",
       "\n",
       "avidan-vp0-il1-ex3.png\t\n"
      ]
     },
     "execution_count": 7,
     "metadata": {},
     "output_type": "execute_result"
    },
    {
     "data": {
      "text/plain": [
       "\n",
       "    840\n",
       " 180224\n",
       "[torch.LongStorage of size 2]\n",
       "\n"
      ]
     },
     "execution_count": 7,
     "metadata": {},
     "output_type": "execute_result"
    },
    {
     "data": {
      "text/plain": [
       "huan1-vp1-il1-ex3.png\t\n"
      ]
     },
     "execution_count": 7,
     "metadata": {},
     "output_type": "execute_result"
    },
    {
     "data": {
      "text/plain": [
       "\n",
       "    840\n",
       " 180224\n",
       "[torch.LongStorage of size 2]\n",
       "\n"
      ]
     },
     "execution_count": 7,
     "metadata": {},
     "output_type": "execute_result"
    },
    {
     "data": {
      "text/plain": [
       "menashe-vp2-il2-ex3.png\t\n"
      ]
     },
     "execution_count": 7,
     "metadata": {},
     "output_type": "execute_result"
    },
    {
     "data": {
      "text/plain": [
       "\n",
       "    840\n",
       " 180224\n",
       "[torch.LongStorage of size 2]\n",
       "\n"
      ]
     },
     "execution_count": 7,
     "metadata": {},
     "output_type": "execute_result"
    },
    {
     "data": {
      "text/plain": [
       "meir1-vp3-il2-ex2.png\t\n"
      ]
     },
     "execution_count": 7,
     "metadata": {},
     "output_type": "execute_result"
    },
    {
     "data": {
      "text/plain": [
       "\n",
       "    840\n",
       " 180224\n",
       "[torch.LongStorage of size 2]\n",
       "\n"
      ]
     },
     "execution_count": 7,
     "metadata": {},
     "output_type": "execute_result"
    },
    {
     "data": {
      "text/plain": [
       "amir1-vp4-il2-ex3.png\t\n"
      ]
     },
     "execution_count": 7,
     "metadata": {},
     "output_type": "execute_result"
    },
    {
     "data": {
      "text/plain": [
       "\n",
       "    840\n",
       " 180224\n",
       "[torch.LongStorage of size 2]\n",
       "\n",
       "dani-vp0-il2-ex3.png\t\n"
      ]
     },
     "execution_count": 7,
     "metadata": {},
     "output_type": "execute_result"
    },
    {
     "data": {
      "text/plain": [
       "\n",
       "    840\n",
       " 180224\n",
       "[torch.LongStorage of size 2]\n",
       "\n",
       "meir1-vp2-il0-ex2.png\t\n"
      ]
     },
     "execution_count": 7,
     "metadata": {},
     "output_type": "execute_result"
    },
    {
     "data": {
      "text/plain": [
       "\n",
       "    840\n",
       " 180224\n",
       "[torch.LongStorage of size 2]\n",
       "\n",
       "huan-vp1-il0-ex3.png\t\n"
      ]
     },
     "execution_count": 7,
     "metadata": {},
     "output_type": "execute_result"
    },
    {
     "data": {
      "text/plain": [
       "\n",
       "    840\n",
       " 180224\n",
       "[torch.LongStorage of size 2]\n",
       "\n",
       "eli-vp4-il0-ex3.png\t\n"
      ]
     },
     "execution_count": 7,
     "metadata": {},
     "output_type": "execute_result"
    },
    {
     "data": {
      "text/plain": [
       "\n",
       "    840\n",
       " 180224\n",
       "[torch.LongStorage of size 2]\n",
       "\n",
       "amir2-vp1-il0-ex2.png\t\n"
      ]
     },
     "execution_count": 7,
     "metadata": {},
     "output_type": "execute_result"
    },
    {
     "data": {
      "text/plain": [
       "\n",
       "    840\n",
       " 180224\n",
       "[torch.LongStorage of size 2]\n",
       "\n",
       "edelman-vp3-il0-ex3.png\t\n"
      ]
     },
     "execution_count": 7,
     "metadata": {},
     "output_type": "execute_result"
    },
    {
     "data": {
      "text/plain": [
       "\n",
       "    840\n",
       " 180224\n",
       "[torch.LongStorage of size 2]\n",
       "\n"
      ]
     },
     "execution_count": 7,
     "metadata": {},
     "output_type": "execute_result"
    },
    {
     "data": {
      "text/plain": [
       "avishai-vp3-il0-ex2.png\t\n"
      ]
     },
     "execution_count": 7,
     "metadata": {},
     "output_type": "execute_result"
    },
    {
     "data": {
      "text/plain": [
       "\n",
       "    840\n",
       " 180224\n",
       "[torch.LongStorage of size 2]\n",
       "\n",
       "meir-vp1-il1-ex2.png\t\n"
      ]
     },
     "execution_count": 7,
     "metadata": {},
     "output_type": "execute_result"
    },
    {
     "data": {
      "text/plain": [
       "\n",
       "    840\n",
       " 180224\n",
       "[torch.LongStorage of size 2]\n",
       "\n"
      ]
     },
     "execution_count": 7,
     "metadata": {},
     "output_type": "execute_result"
    },
    {
     "data": {
      "text/plain": [
       "tuvia-vp4-il2-ex2.png\t\n"
      ]
     },
     "execution_count": 7,
     "metadata": {},
     "output_type": "execute_result"
    },
    {
     "data": {
      "text/plain": [
       "\n",
       "    840\n",
       " 180224\n",
       "[torch.LongStorage of size 2]\n",
       "\n"
      ]
     },
     "execution_count": 7,
     "metadata": {},
     "output_type": "execute_result"
    },
    {
     "data": {
      "text/plain": [
       "avidan-vp3-il0-ex2.png\t\n"
      ]
     },
     "execution_count": 7,
     "metadata": {},
     "output_type": "execute_result"
    },
    {
     "data": {
      "text/plain": [
       "\n",
       "    840\n",
       " 180224\n",
       "[torch.LongStorage of size 2]\n",
       "\n",
       "tuvia-vp1-il0-ex2.png\t\n"
      ]
     },
     "execution_count": 7,
     "metadata": {},
     "output_type": "execute_result"
    },
    {
     "data": {
      "text/plain": [
       "\n",
       "    840\n",
       " 180224\n",
       "[torch.LongStorage of size 2]\n",
       "\n"
      ]
     },
     "execution_count": 7,
     "metadata": {},
     "output_type": "execute_result"
    },
    {
     "data": {
      "text/plain": [
       "shabtai-vp3-il1-ex2.png\t\n"
      ]
     },
     "execution_count": 7,
     "metadata": {},
     "output_type": "execute_result"
    },
    {
     "data": {
      "text/plain": [
       "\n",
       "    840\n",
       " 180224\n",
       "[torch.LongStorage of size 2]\n",
       "\n"
      ]
     },
     "execution_count": 7,
     "metadata": {},
     "output_type": "execute_result"
    },
    {
     "data": {
      "text/plain": [
       "avishai-vp1-il0-ex2.png\t\n"
      ]
     },
     "execution_count": 7,
     "metadata": {},
     "output_type": "execute_result"
    },
    {
     "data": {
      "text/plain": [
       "\n",
       "    840\n",
       " 180224\n",
       "[torch.LongStorage of size 2]\n",
       "\n"
      ]
     },
     "execution_count": 7,
     "metadata": {},
     "output_type": "execute_result"
    },
    {
     "data": {
      "text/plain": [
       "amir-vp2-il1-ex2.png\t\n"
      ]
     },
     "execution_count": 7,
     "metadata": {},
     "output_type": "execute_result"
    },
    {
     "data": {
      "text/plain": [
       "\n",
       "    840\n",
       " 180224\n",
       "[torch.LongStorage of size 2]\n",
       "\n",
       "yaron-vp2-il0-ex3.png\t\n"
      ]
     },
     "execution_count": 7,
     "metadata": {},
     "output_type": "execute_result"
    },
    {
     "data": {
      "text/plain": [
       "\n",
       "    840\n",
       " 180224\n",
       "[torch.LongStorage of size 2]\n",
       "\n",
       "tuvia-vp0-il1-ex3.png\t"
      ]
     },
     "execution_count": 7,
     "metadata": {},
     "output_type": "execute_result"
    },
    {
     "data": {
      "text/plain": [
       "\n"
      ]
     },
     "execution_count": 7,
     "metadata": {},
     "output_type": "execute_result"
    },
    {
     "data": {
      "text/plain": [
       "\n",
       "    840\n",
       " 180224\n",
       "[torch.LongStorage of size 2]\n",
       "\n",
       "huan-vp4-il2-ex3.png\t\n"
      ]
     },
     "execution_count": 7,
     "metadata": {},
     "output_type": "execute_result"
    },
    {
     "data": {
      "text/plain": [
       "\n",
       "    840\n",
       " 180224\n",
       "[torch.LongStorage of size 2]\n",
       "\n",
       "menashe-vp4-il1-ex2.png\t\n"
      ]
     },
     "execution_count": 7,
     "metadata": {},
     "output_type": "execute_result"
    },
    {
     "data": {
      "text/plain": [
       "\n",
       "    840\n",
       " 180224\n",
       "[torch.LongStorage of size 2]\n",
       "\n",
       "yaron-vp0-il0-ex3.png\t\n"
      ]
     },
     "execution_count": 7,
     "metadata": {},
     "output_type": "execute_result"
    },
    {
     "data": {
      "text/plain": [
       "\n",
       "    840\n",
       " 180224\n",
       "[torch.LongStorage of size 2]\n",
       "\n",
       "edelman-vp2-il0-ex2.png\t\n"
      ]
     },
     "execution_count": 7,
     "metadata": {},
     "output_type": "execute_result"
    },
    {
     "data": {
      "text/plain": [
       "\n",
       "    840\n",
       " 180224\n",
       "[torch.LongStorage of size 2]\n",
       "\n"
      ]
     },
     "execution_count": 7,
     "metadata": {},
     "output_type": "execute_result"
    },
    {
     "data": {
      "text/plain": [
       "avidan-vp2-il0-ex2.png\t\n"
      ]
     },
     "execution_count": 7,
     "metadata": {},
     "output_type": "execute_result"
    },
    {
     "data": {
      "text/plain": [
       "\n",
       "    840\n",
       " 180224\n",
       "[torch.LongStorage of size 2]\n",
       "\n"
      ]
     },
     "execution_count": 7,
     "metadata": {},
     "output_type": "execute_result"
    },
    {
     "data": {
      "text/plain": [
       "huan1-vp2-il2-ex2.png\t\n"
      ]
     },
     "execution_count": 7,
     "metadata": {},
     "output_type": "execute_result"
    },
    {
     "data": {
      "text/plain": [
       "\n",
       "    840\n",
       " 180224\n",
       "[torch.LongStorage of size 2]\n",
       "\n"
      ]
     },
     "execution_count": 7,
     "metadata": {},
     "output_type": "execute_result"
    },
    {
     "data": {
      "text/plain": [
       "huan-vp3-il1-ex2.png\t\n"
      ]
     },
     "execution_count": 7,
     "metadata": {},
     "output_type": "execute_result"
    },
    {
     "data": {
      "text/plain": [
       "\n",
       "    840\n",
       " 180224\n",
       "[torch.LongStorage of size 2]\n",
       "\n"
      ]
     },
     "execution_count": 7,
     "metadata": {},
     "output_type": "execute_result"
    },
    {
     "data": {
      "text/plain": [
       "eli-vp3-il0-ex2.png\t\n"
      ]
     },
     "execution_count": 7,
     "metadata": {},
     "output_type": "execute_result"
    },
    {
     "data": {
      "text/plain": [
       "\n",
       "    840\n",
       " 180224\n",
       "[torch.LongStorage of size 2]\n",
       "\n"
      ]
     },
     "execution_count": 7,
     "metadata": {},
     "output_type": "execute_result"
    },
    {
     "data": {
      "text/plain": [
       "yaron-vp3-il1-ex3.png\t\n"
      ]
     },
     "execution_count": 7,
     "metadata": {},
     "output_type": "execute_result"
    },
    {
     "data": {
      "text/plain": [
       "\n",
       "    840\n",
       " 180224\n",
       "[torch.LongStorage of size 2]\n",
       "\n"
      ]
     },
     "execution_count": 7,
     "metadata": {},
     "output_type": "execute_result"
    },
    {
     "data": {
      "text/plain": [
       "avidan-vp1-il1-ex3.png\t\n"
      ]
     },
     "execution_count": 7,
     "metadata": {},
     "output_type": "execute_result"
    },
    {
     "data": {
      "text/plain": [
       "\n",
       "    840\n",
       " 180224\n",
       "[torch.LongStorage of size 2]\n",
       "\n",
       "amit-vp1-il2-ex2.png\t\n"
      ]
     },
     "execution_count": 7,
     "metadata": {},
     "output_type": "execute_result"
    },
    {
     "data": {
      "text/plain": [
       "\n",
       "    840\n",
       " 180224\n",
       "[torch.LongStorage of size 2]\n",
       "\n",
       "goel-vp0-il1-ex2.png\t\n"
      ]
     },
     "execution_count": 7,
     "metadata": {},
     "output_type": "execute_result"
    },
    {
     "data": {
      "text/plain": [
       "\n",
       "    840\n",
       " 180224\n",
       "[torch.LongStorage of size 2]\n",
       "\n",
       "amir-vp1-il1-ex3.png\t\n"
      ]
     },
     "execution_count": 7,
     "metadata": {},
     "output_type": "execute_result"
    },
    {
     "data": {
      "text/plain": [
       "\n",
       "    840\n",
       " 180224\n",
       "[torch.LongStorage of size 2]\n",
       "\n",
       "menashe-vp4-il2-ex3.png\t\n"
      ]
     },
     "execution_count": 7,
     "metadata": {},
     "output_type": "execute_result"
    },
    {
     "data": {
      "text/plain": [
       "\n",
       "    840\n",
       " 180224\n",
       "[torch.LongStorage of size 2]\n",
       "\n",
       "amir-vp1-il0-ex2.png\t\n"
      ]
     },
     "execution_count": 7,
     "metadata": {},
     "output_type": "execute_result"
    },
    {
     "data": {
      "text/plain": [
       "\n",
       "    840\n",
       " 180224\n",
       "[torch.LongStorage of size 2]\n",
       "\n"
      ]
     },
     "execution_count": 7,
     "metadata": {},
     "output_type": "execute_result"
    },
    {
     "data": {
      "text/plain": [
       "yakov-vp0-il1-ex3.png\t\n"
      ]
     },
     "execution_count": 7,
     "metadata": {},
     "output_type": "execute_result"
    },
    {
     "data": {
      "text/plain": [
       "\n",
       "    840\n",
       " 180224\n",
       "[torch.LongStorage of size 2]\n",
       "\n",
       "shabtai-vp2-il2-ex2.png\t\n"
      ]
     },
     "execution_count": 7,
     "metadata": {},
     "output_type": "execute_result"
    },
    {
     "data": {
      "text/plain": [
       "\n",
       "    840\n",
       " 180224\n",
       "[torch.LongStorage of size 2]\n",
       "\n",
       "shabtai-vp0-il0-ex2.png\t\n"
      ]
     },
     "execution_count": 7,
     "metadata": {},
     "output_type": "execute_result"
    },
    {
     "data": {
      "text/plain": [
       "\n",
       "    840\n",
       " 180224\n",
       "[torch.LongStorage of size 2]\n",
       "\n"
      ]
     },
     "execution_count": 7,
     "metadata": {},
     "output_type": "execute_result"
    },
    {
     "data": {
      "text/plain": [
       "menashe-vp2-il2-ex2.png\t\n"
      ]
     },
     "execution_count": 7,
     "metadata": {},
     "output_type": "execute_result"
    },
    {
     "data": {
      "text/plain": [
       "\n",
       "    840\n",
       " 180224\n",
       "[torch.LongStorage of size 2]\n",
       "\n",
       "amir1-vp4-il1-ex2.png\t\n"
      ]
     },
     "execution_count": 7,
     "metadata": {},
     "output_type": "execute_result"
    },
    {
     "data": {
      "text/plain": [
       "\n",
       "    840\n",
       " 180224\n",
       "[torch.LongStorage of size 2]\n",
       "\n"
      ]
     },
     "execution_count": 7,
     "metadata": {},
     "output_type": "execute_result"
    },
    {
     "data": {
      "text/plain": [
       "avidan-vp4-il0-ex2.png\t\n"
      ]
     },
     "execution_count": 7,
     "metadata": {},
     "output_type": "execute_result"
    },
    {
     "data": {
      "text/plain": [
       "\n",
       "    840\n",
       " 180224\n",
       "[torch.LongStorage of size 2]\n",
       "\n"
      ]
     },
     "execution_count": 7,
     "metadata": {},
     "output_type": "execute_result"
    },
    {
     "data": {
      "text/plain": [
       "shmuel-vp4-il2-ex2.png\t\n"
      ]
     },
     "execution_count": 7,
     "metadata": {},
     "output_type": "execute_result"
    },
    {
     "data": {
      "text/plain": [
       "\n",
       "    840\n",
       " 180224\n",
       "[torch.LongStorage of size 2]\n",
       "\n",
       "david-vp0-il2-ex2.png\t\n"
      ]
     },
     "execution_count": 7,
     "metadata": {},
     "output_type": "execute_result"
    },
    {
     "data": {
      "text/plain": [
       "\n",
       "    840\n",
       " 180224\n",
       "[torch.LongStorage of size 2]\n",
       "\n"
      ]
     },
     "execution_count": 7,
     "metadata": {},
     "output_type": "execute_result"
    },
    {
     "data": {
      "text/plain": [
       "goel-vp3-il1-ex3.png\t\n"
      ]
     },
     "execution_count": 7,
     "metadata": {},
     "output_type": "execute_result"
    },
    {
     "data": {
      "text/plain": [
       "\n",
       "    840\n",
       " 180224\n",
       "[torch.LongStorage of size 2]\n",
       "\n",
       "inon1-vp4-il0-ex2.png\t\n"
      ]
     },
     "execution_count": 7,
     "metadata": {},
     "output_type": "execute_result"
    },
    {
     "data": {
      "text/plain": [
       "\n",
       "    840\n",
       " 180224\n",
       "[torch.LongStorage of size 2]\n",
       "\n",
       "yaron-vp4-il2-ex3.png\t\n"
      ]
     },
     "execution_count": 7,
     "metadata": {},
     "output_type": "execute_result"
    },
    {
     "data": {
      "text/plain": [
       "\n",
       "    840\n",
       " 180224\n",
       "[torch.LongStorage of size 2]\n",
       "\n",
       "amir-vp1-il0-ex3.png\t\n"
      ]
     },
     "execution_count": 7,
     "metadata": {},
     "output_type": "execute_result"
    },
    {
     "data": {
      "text/plain": [
       "\n",
       "    840\n",
       " 180224\n",
       "[torch.LongStorage of size 2]\n",
       "\n",
       "david-vp0-il2-ex3.png\t\n"
      ]
     },
     "execution_count": 7,
     "metadata": {},
     "output_type": "execute_result"
    },
    {
     "data": {
      "text/plain": [
       "\n",
       "    840\n",
       " 180224\n",
       "[torch.LongStorage of size 2]\n",
       "\n",
       "huan-vp0-il0-ex2.png\t\n"
      ]
     },
     "execution_count": 7,
     "metadata": {},
     "output_type": "execute_result"
    },
    {
     "data": {
      "text/plain": [
       "\n",
       "    840\n",
       " 180224\n",
       "[torch.LongStorage of size 2]\n",
       "\n",
       "eli-vp0-il2-ex3.png\t\n"
      ]
     },
     "execution_count": 7,
     "metadata": {},
     "output_type": "execute_result"
    },
    {
     "data": {
      "text/plain": [
       "\n",
       "    840\n",
       " 180224\n",
       "[torch.LongStorage of size 2]\n",
       "\n",
       "amir2-vp1-il0-ex3.png\t\n"
      ]
     },
     "execution_count": 7,
     "metadata": {},
     "output_type": "execute_result"
    },
    {
     "data": {
      "text/plain": [
       "\n",
       "    840\n",
       " 180224\n",
       "[torch.LongStorage of size 2]\n",
       "\n",
       "amir1-vp3-il0-ex2.png\t\n"
      ]
     },
     "execution_count": 7,
     "metadata": {},
     "output_type": "execute_result"
    },
    {
     "data": {
      "text/plain": [
       "\n",
       "    840\n",
       " 180224\n",
       "[torch.LongStorage of size 2]\n",
       "\n"
      ]
     },
     "execution_count": 7,
     "metadata": {},
     "output_type": "execute_result"
    },
    {
     "data": {
      "text/plain": [
       "eli-vp0-il1-ex2.png\t\n"
      ]
     },
     "execution_count": 7,
     "metadata": {},
     "output_type": "execute_result"
    },
    {
     "data": {
      "text/plain": [
       "\n",
       "    840\n",
       " 180224\n",
       "[torch.LongStorage of size 2]\n",
       "\n"
      ]
     },
     "execution_count": 7,
     "metadata": {},
     "output_type": "execute_result"
    },
    {
     "data": {
      "text/plain": [
       "meir1-vp0-il1-ex2.png\t\n"
      ]
     },
     "execution_count": 7,
     "metadata": {},
     "output_type": "execute_result"
    },
    {
     "data": {
      "text/plain": [
       "\n",
       "    840\n",
       " 180224\n",
       "[torch.LongStorage of size 2]\n",
       "\n"
      ]
     },
     "execution_count": 7,
     "metadata": {},
     "output_type": "execute_result"
    },
    {
     "data": {
      "text/plain": [
       "amir-vp2-il2-ex2.png\t\n"
      ]
     },
     "execution_count": 7,
     "metadata": {},
     "output_type": "execute_result"
    },
    {
     "data": {
      "text/plain": [
       "\n",
       "    840\n",
       " 180224\n",
       "[torch.LongStorage of size 2]\n",
       "\n",
       "david-vp3-il0-ex2.png\t\n"
      ]
     },
     "execution_count": 7,
     "metadata": {},
     "output_type": "execute_result"
    },
    {
     "data": {
      "text/plain": [
       "\n",
       "    840\n",
       " 180224\n",
       "[torch.LongStorage of size 2]\n",
       "\n"
      ]
     },
     "execution_count": 7,
     "metadata": {},
     "output_type": "execute_result"
    },
    {
     "data": {
      "text/plain": [
       "david-vp0-il0-ex3.png\t\n"
      ]
     },
     "execution_count": 7,
     "metadata": {},
     "output_type": "execute_result"
    },
    {
     "data": {
      "text/plain": [
       "\n",
       "    840\n",
       " 180224\n",
       "[torch.LongStorage of size 2]\n",
       "\n",
       "david-vp2-il0-ex2.png\t\n"
      ]
     },
     "execution_count": 7,
     "metadata": {},
     "output_type": "execute_result"
    },
    {
     "data": {
      "text/plain": [
       "\n",
       "    840\n",
       " 180224\n",
       "[torch.LongStorage of size 2]\n",
       "\n",
       "eyal-vp0-il1-ex2.png\t\n"
      ]
     },
     "execution_count": 7,
     "metadata": {},
     "output_type": "execute_result"
    },
    {
     "data": {
      "text/plain": [
       "\n",
       "    840\n",
       " 180224\n",
       "[torch.LongStorage of size 2]\n",
       "\n",
       "goel-vp0-il1-ex3.png\t\n"
      ]
     },
     "execution_count": 7,
     "metadata": {},
     "output_type": "execute_result"
    },
    {
     "data": {
      "text/plain": [
       "\n",
       "    840\n",
       " 180224\n",
       "[torch.LongStorage of size 2]\n",
       "\n",
       "shabtai-vp3-il0-ex3.png\t\n"
      ]
     },
     "execution_count": 7,
     "metadata": {},
     "output_type": "execute_result"
    },
    {
     "data": {
      "text/plain": [
       "\n",
       "    840\n",
       " 180224\n",
       "[torch.LongStorage of size 2]\n",
       "\n",
       "huan-vp1-il1-ex3.png\t\n"
      ]
     },
     "execution_count": 7,
     "metadata": {},
     "output_type": "execute_result"
    },
    {
     "data": {
      "text/plain": [
       "\n",
       "    840\n",
       " 180224\n",
       "[torch.LongStorage of size 2]\n",
       "\n",
       "amir2-vp0-il0-ex3.png\t\n"
      ]
     },
     "execution_count": 7,
     "metadata": {},
     "output_type": "execute_result"
    },
    {
     "data": {
      "text/plain": [
       "\n",
       "    840\n",
       " 180224\n",
       "[torch.LongStorage of size 2]\n",
       "\n"
      ]
     },
     "execution_count": 7,
     "metadata": {},
     "output_type": "execute_result"
    },
    {
     "data": {
      "text/plain": [
       "meir-vp4-il2-ex3.png\t\n"
      ]
     },
     "execution_count": 7,
     "metadata": {},
     "output_type": "execute_result"
    },
    {
     "data": {
      "text/plain": [
       "\n",
       "    840\n",
       " 180224\n",
       "[torch.LongStorage of size 2]\n",
       "\n"
      ]
     },
     "execution_count": 7,
     "metadata": {},
     "output_type": "execute_result"
    },
    {
     "data": {
      "text/plain": [
       "moshe-vp4-il1-ex3.png\t\n"
      ]
     },
     "execution_count": 7,
     "metadata": {},
     "output_type": "execute_result"
    },
    {
     "data": {
      "text/plain": [
       "\n",
       "    840\n",
       " 180224\n",
       "[torch.LongStorage of size 2]\n",
       "\n"
      ]
     },
     "execution_count": 7,
     "metadata": {},
     "output_type": "execute_result"
    },
    {
     "data": {
      "text/plain": [
       "eli-vp0-il0-ex2.png\t\n"
      ]
     },
     "execution_count": 7,
     "metadata": {},
     "output_type": "execute_result"
    },
    {
     "data": {
      "text/plain": [
       "\n",
       "    840\n",
       " 180224\n",
       "[torch.LongStorage of size 2]\n",
       "\n",
       "menashe-vp3-il0-ex2.png\t\n"
      ]
     },
     "execution_count": 7,
     "metadata": {},
     "output_type": "execute_result"
    },
    {
     "data": {
      "text/plain": [
       "\n",
       "    840\n",
       " 180224\n",
       "[torch.LongStorage of size 2]\n",
       "\n",
       "amit-vp4-il2-ex2.png\t\n"
      ]
     },
     "execution_count": 7,
     "metadata": {},
     "output_type": "execute_result"
    },
    {
     "data": {
      "text/plain": [
       "\n",
       "    840\n",
       " 180224\n",
       "[torch.LongStorage of size 2]\n",
       "\n",
       "tuvia-vp2-il2-ex2.png\t\n"
      ]
     },
     "execution_count": 7,
     "metadata": {},
     "output_type": "execute_result"
    },
    {
     "data": {
      "text/plain": [
       "\n",
       "    840\n",
       " 180224\n",
       "[torch.LongStorage of size 2]\n",
       "\n",
       "shmuel-vp1-il1-ex2.png\t\n"
      ]
     },
     "execution_count": 7,
     "metadata": {},
     "output_type": "execute_result"
    },
    {
     "data": {
      "text/plain": [
       "\n",
       "    840\n",
       " 180224\n",
       "[torch.LongStorage of size 2]\n",
       "\n",
       "moshe1-vp2-il1-ex2.png\t\n"
      ]
     },
     "execution_count": 7,
     "metadata": {},
     "output_type": "execute_result"
    },
    {
     "data": {
      "text/plain": [
       "\n",
       "    840\n",
       " 180224\n",
       "[torch.LongStorage of size 2]\n",
       "\n",
       "dani-vp0-il0-ex3.png\t\n"
      ]
     },
     "execution_count": 7,
     "metadata": {},
     "output_type": "execute_result"
    },
    {
     "data": {
      "text/plain": [
       "\n",
       "    840\n",
       " 180224\n",
       "[torch.LongStorage of size 2]\n",
       "\n"
      ]
     },
     "execution_count": 7,
     "metadata": {},
     "output_type": "execute_result"
    },
    {
     "data": {
      "text/plain": [
       "yishay-vp3-il2-ex2.png\t\n"
      ]
     },
     "execution_count": 7,
     "metadata": {},
     "output_type": "execute_result"
    },
    {
     "data": {
      "text/plain": [
       "\n",
       "    840\n",
       " 180224\n",
       "[torch.LongStorage of size 2]\n",
       "\n",
       "eli-vp1-il0-ex3.png\t\n"
      ]
     },
     "execution_count": 7,
     "metadata": {},
     "output_type": "execute_result"
    },
    {
     "data": {
      "text/plain": [
       "\n",
       "    840\n",
       " 180224\n",
       "[torch.LongStorage of size 2]\n",
       "\n"
      ]
     },
     "execution_count": 7,
     "metadata": {},
     "output_type": "execute_result"
    },
    {
     "data": {
      "text/plain": [
       "moshe-vp1-il0-ex2.png\t\n"
      ]
     },
     "execution_count": 7,
     "metadata": {},
     "output_type": "execute_result"
    },
    {
     "data": {
      "text/plain": [
       "\n",
       "    840\n",
       " 180224\n",
       "[torch.LongStorage of size 2]\n",
       "\n"
      ]
     },
     "execution_count": 7,
     "metadata": {},
     "output_type": "execute_result"
    }
   ],
   "source": [
    "require 'torch'   -- torch\n",
    "require 'image'   -- for color transforms\n",
    "\n",
    "\n",
    "\n",
    "-- parse command line arguments\n",
    "if not opt then\n",
    "   print '==> processing options'\n",
    "   cmd = torch.CmdLine()\n",
    "   cmd:text()\n",
    "   cmd:text('TensorFaces')\n",
    "   cmd:text()\n",
    "   cmd:text('Options:')\n",
    "   cmd:option('-size', 'small', 'how many people do we load: small(5)| medium(10) | full')\n",
    "   cmd:option('-visualize', true, 'visualize input data and intermediate steps')\n",
    "   cmd:text()\n",
    "   opt = cmd:parse(arg or {})\n",
    "end\n",
    "\n",
    "----------------------------------------------------------------------\n",
    "print '==> downloading dataset'\n",
    "www = 'http://www.wisdom.weizmann.ac.il/~vision/FaceBase/'\n",
    "train_file = 'FaceBase_png.zip'\n",
    "\n",
    "if not paths.filep(train_file) then\n",
    "   os.execute('wget ' .. www .. train_file)\n",
    "   os.execute('unzip ' .. train_file)\n",
    "end\n",
    "\n",
    "--- Default size of the Weizmann data set its 28 people\n",
    "n_people = 28\n",
    "if (opt.size == 'small') then\n",
    "    print '==> small dataset'\n",
    "    n_people = 5\n",
    "elseif (opt.size == 'medium') then\n",
    "    print '==> medium dataset'\n",
    "    n_people = 10\n",
    "elseif (opt.size == 'large') then\n",
    "    print '==> large/default dataset'\n",
    "end\n",
    "\n",
    "print '==> loading dataset'\n",
    "train_dir = paths.cwd() .. '/FaceBase_png'\n",
    "--- read_data\n",
    "print '==> reading data into tensor'\n",
    "\n",
    "-- List all the files in the directory, they are in the format:\n",
    "-- amit-vp0-il0-ex2.png : name-pose<id>-illumination<id>-expression<id>.png\n",
    "-- reading all the files in and creating a 5D tensor:\n",
    "-- people x 6 poses x 3 illum x 2 expression x pixels\n",
    "-- name : name of the person\n",
    "-- pose : left,right etc\n",
    "-- illu : illumination\n",
    "-- expr : expression of the person\n",
    "-- pix_r/_c : pixels row/colum\n",
    "--        name     pose     illu       expr      pix_r     pix_c   \n",
    "f_dict = {[1] = {},[2] = {}, [3] = {}, [4] = {}, [5] = {}, [6] = {}}\n",
    "dtensor = {}\n",
    "\n",
    "function string:split(sep)\n",
    "    local sp, fields = sep or '-', {}\n",
    "    local pattern = string.format(\"([^%s]+)\", sp)\n",
    "    self:gsub(pattern, function(c) fields[#fields + 1] = c end)\n",
    "    return fields\n",
    "end\n",
    "\n",
    "-- Append the file characteristics to the table maintaining all the meta information\n",
    "-- Here assuming that t and f fields are in order\n",
    "function append_fileinfo(f_dict, f)\n",
    "    local i = 1\n",
    "    for fi, fv in ipairs(f) do\n",
    "        local tt = f_dict[fi]\n",
    "        if tt == nil then\n",
    "            table.insert(tt, fv, 0)\n",
    "        elseif tt[fv] == nil then\n",
    "            tt[fv] = 0\n",
    "        else\n",
    "            tt[fv] = tt[fv] + 1\n",
    "        end\n",
    "    end\n",
    "end\n",
    "\n",
    "function table_size(t)\n",
    "    count = 0\n",
    "    for ti, tv in pairs(t) do\n",
    "        count = count + 1\n",
    "    end\n",
    "    return count\n",
    "end\n",
    "\n",
    "for f in paths.iterfiles(train_dir) do\n",
    "    if (string.find(f,'png') ~= nil) then\n",
    "        f_list = f:split()\n",
    "        append_fileinfo(f_dict, f_list)\n",
    "    end\n",
    "end\n",
    "    \n",
    "num_name = table_size(f_dict[1])\n",
    "num_pose = table_size(f_dict[2])\n",
    "num_illu = table_size(f_dict[3])\n",
    "num_expr = table_size(f_dict[4])\n",
    "num_pixels = 512*352\n",
    "-- D = torch.Tensor(num_name, num_pose, num_illu, num_expr, num_pixels)\n",
    "Dorig = torch.Tensor(num_name*num_pose*num_illu*num_expr, num_pixels)\n",
    "\n",
    "function rgb2gray(im)\n",
    "    local colorbyte = torch.Tensor(512, 352)\n",
    "\n",
    "    for i = 1, im:size()[2] do\n",
    "        for j = 1, im:size()[3] do\n",
    "            colorbyte[i][j] = 0.21* im[1][i][j] + 0.72*im[2][i][j] + 0.07*im[3][i][j]\n",
    "        end\n",
    "    end\n",
    "    return colorbyte\n",
    "end\n",
    "\n",
    "Dcounter = 1\n",
    "print(train_dir)\n",
    "for f in paths.iterfiles(train_dir) do\n",
    "    if (string.find(f, 'png') ~= nil) then\n",
    "        print (f)\n",
    "        local im = image.load(train_dir .. '/' .. f, 'byte')\n",
    "        Dorig[Dcounter] = torch.reshape(rgb2gray(im), num_pixels)\n",
    "        Dcounter = Dcounter + 1\n",
    "        print (Dorig:size())\n",
    "    end\n",
    "end\n",
    "    \n",
    "D = torch.reshape(Dorig, num_name, num_pose, num_illu, num_expr, num_pixels)\n"
   ]
  },
  {
   "cell_type": "code",
   "execution_count": 9,
   "metadata": {
    "collapsed": false
   },
   "outputs": [
    {
     "data": {
      "text/plain": [
       "\n",
       "     28\n",
       "      5\n",
       "      3\n",
       "      2\n",
       " 180224\n",
       "[torch.LongStorage of size 5]\n",
       "\n"
      ]
     },
     "execution_count": 9,
     "metadata": {},
     "output_type": "execute_result"
    }
   ],
   "source": [
    "print (D:size())\n",
    "\n",
    "DEF_MAXITER = 500\n",
    "DEF_CONV = 1e-7\n",
    "\n",
    "--- N : number of dimensions\n",
    "--- rank : rank of the Tensor\n",
    "--- dtype : type of the tensor\n",
    "function init(X, rank):\n",
    "    -- Don't compute initial factor for first index, gets computed in\n",
    "    -- first iteration\n",
    "    return hosvd(X, rank, False)\n",
    "end\n",
    "\n",
    "function Tunfold\n",
    "function nvecs(X, n, rank, do_flipsign=True)\n",
    "    ---\n",
    "    --- Eigendecomposition of mode-n unfolding of a tensor\n",
    "    ---\n",
    "    Xn = X.unfold(n)\n",
    "    --if issparse_mat(Xn):\n",
    "    --    Xn = csr_matrix(Xn, dtype=dtype)\n",
    "    --    Y = Xn.dot(Xn.T)\n",
    "    --    _, U = eigsh(Y, rank, which='LM')\n",
    "    --else:\n",
    "    Y = Xn.dot(Xn.T)\n",
    "    N = Y:size(0)\n",
    "    _, U = torch.eig(Y, eigvals=(N - rank, N - 1))\n",
    "        #_, U = eigsh(Y, rank, which='LM')\n",
    "    # reverse order of eigenvectors such that eigenvalues are decreasing\n",
    "    U = array(U[:, ::-1])\n",
    "    -- flip sign\n",
    "    --if do_flipsign:\n",
    "    --  U = flipsign(U)\n",
    "    return U\n",
    "\n",
    "\n",
    "        \n",
    "function hooi(X, rank)\n",
    "---\n",
    "--- Compute Tucker decomposition of a tensor using Higher-Order Orthogonal\n",
    "--- Iterations.\n",
    "--- Parameters\n",
    "    ----------\n",
    "--- X : The tensor to be decomposed\n",
    "--- rank : array_like\n",
    "---     The rank of the decomposition for each mode of the tensor.\n",
    "---     The length of ``rank`` must match the number of modes of ``X``.\n",
    "--- init : {'random', 'nvecs'}, optional\n",
    "---     The initialization method to use.\n",
    "---         - random : Factor matrices are initialized randomly.\n",
    "---         - nvecs : Factor matrices are initialzed via HOSVD.\n",
    "---     default : 'nvecs'\n",
    "--- Examples\n",
    "    --------\n",
    "--- Create dense tensor\n",
    "--- >>> T = np.zeros((3, 4, 2))\n",
    "--- >>> T[:, :, 0] = [[ 1,  4,  7, 10], [ 2,  5,  8, 11], [3,  6,  9, 12]]\n",
    "--- >>> T[:, :, 1] = [[13, 16, 19, 22], [14, 17, 20, 23], [15, 18, 21, 24]]\n",
    "--- >>> T = dtensor(T)\n",
    "--- Compute Tucker decomposition of ``T`` with n-rank [2, 3, 1] via higher-order\n",
    "--- orthogonal iterations\n",
    "--- >>> Y = hooi(T, [2, 3, 1], init='nvecs')\n",
    "--- Shape of the core tensor matches n-rank of the decomposition.\n",
    "--- >>> Y['core'].shape\n",
    "--- (2, 3, 1)\n",
    "--- >>> Y['U'][1].shape\n",
    "--- (3, 2)\n",
    "--- References\n",
    "    ----------\n",
    "--- .. [1] L. De Lathauwer, B. De Moor, J. Vandewalle: On the best rank-1 and\n",
    "---        rank-(R_1, R_2, \\ldots, R_N) approximation of higher order tensors;\n",
    "---        IEEE Trans. Signal Process. 49 (2001), pp. 2262-2271\n",
    "---  init options\n",
    "    local maxIter = DEF_MAXITER\n",
    "    local conv    = DEF_CONV\n",
    "    local dtype   = X:type()\n",
    "\n",
    "    local ndims = X:nDimensions()\n",
    "    if (rank == math.floor(rank)):\n",
    "        rank = rank * ones(ndims)\n",
    "\n",
    "    normX = torch.norm(X)\n",
    "\n",
    "    U = init(X, rank)\n",
    "    fit = 0\n",
    "    exectimes = []\n",
    "    for itr in (1, maxIter) do\n",
    "        fitold = fit\n",
    "\n",
    "        for n in (1, ndims):\n",
    "            Utilde = ttm(X, U, n, transp=True, without=True)\n",
    "            U[n] = nvecs(Utilde, n, rank[n])\n",
    "\n",
    "        -- compute core tensor to get fit\n",
    "        core = ttm(Utilde, U, n, transp=True)\n",
    "\n",
    "        -- since factors are orthonormal, compute fit on core tensor\n",
    "        normresidual = sqrt(normX ** 2 - norm(core) ** 2)\n",
    "\n",
    "        -- fraction explained by model\n",
    "        fit = 1 - (normresidual / normX)\n",
    "        fitchange = abs(fitold - fit)\n",
    "        if itr > 1 and fitchange < conv:\n",
    "            break\n",
    "    end\n",
    "    return core, U\n",
    "end\n",
    "    \n",
    "function hosvd(X, rank, dims=None, dtype=None, compute_core=True)\n",
    "    U = [None for _ in range(X.ndim)]\n",
    "    if dims is None:\n",
    "        dims = range(X.ndim)\n",
    "    if dtype is None:\n",
    "        dtype = X.dtype\n",
    "    for d in dims:\n",
    "        U[d] = array(nvecs(X, d, rank[d]), dtype=dtype)\n",
    "    if compute_core:\n",
    "        core = X.ttm(U, transp=True)\n",
    "        return U, core\n",
    "    else:\n",
    "        return U\n",
    "                            \n",
    "                            \n",
    "local TTensor = {}\n",
    "\n",
    "function TTensor.hosvd(X, rank, dims=None, dtype=None, compute_core=True)\n",
    "    U = [None for _ in range(X.ndim)]\n",
    "    if dims is None:\n",
    "        dims = range(X.ndim)\n",
    "    if dtype is None:\n",
    "        dtype = X.dtype\n",
    "    for d in dims:\n",
    "        U[d] = array(nvecs(X, d, rank[d]), dtype=dtype)\n",
    "    if compute_core:\n",
    "        core = X.ttm(U, transp=True)\n",
    "        return U, core\n",
    "    else:\n",
    "        return U\n",
    "\n",
    "end\n",
    "\n",
    "-- Khatri-rao product required for Tensor decomposition\n",
    "function TTensor.krp()\n",
    "\n",
    "end\n",
    "\n",
    "-- Kronecker product\n",
    "function TTensor.kroneckerp()\n",
    "\n",
    "end\n",
    "\n",
    "a = torch.Tensor(3,3,3)\n",
    "b = torch.Tensor(3,3,3)\n",
    "i = 0\n",
    "a:apply(function()\n",
    "        i = i+1\n",
    "       return i\n",
    "       end)\n",
    "\n",
    "b:apply(function()\n",
    "        i = i+1\n",
    "       return i\n",
    "       end)\n",
    "print(a)\n",
    "print(b)\n",
    "c = a + b\n"
   ]
  },
  {
   "cell_type": "code",
   "execution_count": null,
   "metadata": {
    "collapsed": true
   },
   "outputs": [],
   "source": []
  }
 ],
 "metadata": {
  "kernelspec": {
   "display_name": "iTorch",
   "language": "lua",
   "name": "itorch"
  },
  "language_info": {
   "name": "lua",
   "version": "20100"
  }
 },
 "nbformat": 4,
 "nbformat_minor": 0
}
